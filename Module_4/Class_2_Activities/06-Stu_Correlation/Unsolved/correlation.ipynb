{
 "cells": [
  {
   "cell_type": "markdown",
   "metadata": {},
   "source": [
    "# Correlation\n",
    "\n",
    "Use the Pandas library to analyze five semiconductor stocks—`INTC`, `AMD`, `MU`, `NVDA`, and `TSM`—and choose the stock with the least correlation to `JNJ` and `HD`.\n",
    "\n",
    "The reason to choose stocks that are less correlated to other stocks is to diversify a portfolio.\n",
    "\n",
    "Go [here](https://www.investopedia.com/terms/d/diversification.asp) to learn more about diversification and how correlation among stocks in portfolios are a factor in minimizing risk."
   ]
  },
  {
   "cell_type": "markdown",
   "metadata": {},
   "source": [
    "## 1. Import libraries and dependencies.\n",
    "  - Import the `pandas`,`seaborn` and `pathlib` libraries, and set the `%matplotlib inline` property.\n"
   ]
  },
  {
   "cell_type": "code",
   "execution_count": 1,
   "metadata": {},
   "outputs": [],
   "source": [
    "# Import libraries and dependencies\n",
    "import pandas as pd\n",
    "import seaborn as sns\n",
    "from pathlib import Path\n",
    "%matplotlib inline"
   ]
  },
  {
   "cell_type": "markdown",
   "metadata": {},
   "source": [
    "## 2. Create `Path` Objects\n",
    "   - Create a path objects for each `csv` file using the `Pathlib` library."
   ]
  },
  {
   "cell_type": "code",
   "execution_count": 2,
   "metadata": {},
   "outputs": [],
   "source": [
    "# Set file paths\n",
    "amd_csvpath = Path('../Resources/AMD.csv')\n",
    "hd_csvpath = Path('../Resources/HD.csv')\n",
    "intc_csvpath = Path('../Resources/INTC.csv')\n",
    "jnj_csvpath = Path('../Resources/JNJ.csv')\n",
    "nvda_csvpath = Path('../Resources/NVDA.csv')\n",
    "tsm_csvpath = Path('../Resources/TSM.csv')\n",
    "mu_csvpath = Path('../Resources/MU.csv')"
   ]
  },
  {
   "cell_type": "markdown",
   "metadata": {},
   "source": [
    "## 3. Read the `CSV` files into a `Pandas` DataFrames.\n",
    "  - Read the `CSV` files into a `DataFrame` and set the `date` column as the index."
   ]
  },
  {
   "cell_type": "code",
   "execution_count": 3,
   "metadata": {},
   "outputs": [],
   "source": [
    "# Read the individual CSV datasets\n",
    "amd_df = pd.read_csv(\n",
    "    amd_csvpath,\n",
    "    index_col='date',\n",
    "    infer_datetime_format=True,\n",
    "    parse_dates=True\n",
    ")\n",
    "hd_df = pd.read_csv(\n",
    "    hd_csvpath,\n",
    "    index_col='date',\n",
    "    infer_datetime_format=True,\n",
    "    parse_dates=True\n",
    ")\n",
    "intc_df = pd.read_csv(\n",
    "    intc_csvpath,\n",
    "    index_col='date',\n",
    "    infer_datetime_format=True,\n",
    "    parse_dates=True\n",
    ")\n",
    "jnj_df = pd.read_csv(\n",
    "    jnj_csvpath,\n",
    "    index_col='date',\n",
    "    infer_datetime_format=True,\n",
    "    parse_dates=True\n",
    ")\n",
    "nvda_df = pd.read_csv(\n",
    "    nvda_csvpath,\n",
    "    index_col='date',\n",
    "    infer_datetime_format=True,\n",
    "    parse_dates=True\n",
    ")\n",
    "tsm_df = pd.read_csv(\n",
    "    tsm_csvpath,\n",
    "    index_col='date',\n",
    "    infer_datetime_format=True,\n",
    "    parse_dates=True\n",
    ")\n",
    "mu_df = pd.read_csv(\n",
    "    mu_csvpath,\n",
    "    index_col='date',\n",
    "    infer_datetime_format=True,\n",
    "    parse_dates=True\n",
    ")"
   ]
  },
  {
   "cell_type": "markdown",
   "metadata": {},
   "source": [
    "## 4. Combine the DataFrames\n",
    "  - Use the `concat` function to combine the seven DataFrames into a single combined DataFrame"
   ]
  },
  {
   "cell_type": "code",
   "execution_count": 4,
   "metadata": {},
   "outputs": [],
   "source": [
    "# Use the `concat` function to combine the DataFrames by `date`\n",
    "assets = [amd_df, hd_df, intc_df, jnj_df, mu_df, nvda_df, tsm_df]\n",
    "portfolio_df = pd.concat(assets, axis=1, join='inner')"
   ]
  },
  {
   "cell_type": "markdown",
   "metadata": {},
   "source": [
    "## 5. Calculate Daily Returns\n",
    "  - Use the `pct_change` method to calculate the daily returns and drop `n/a` values"
   ]
  },
  {
   "cell_type": "code",
   "execution_count": 8,
   "metadata": {},
   "outputs": [],
   "source": [
    "# Use the `pct_change` function to calculate daily returns for each stock\n",
    "daily_return = portfolio_df.pct_change().dropna()"
   ]
  },
  {
   "cell_type": "markdown",
   "metadata": {},
   "source": [
    "## 6. Calculate Correlation\n",
    "  -  Use the `corr` function on the combined DataFrame to calculate and output a correlation table of each stock-to-stock pair."
   ]
  },
  {
   "cell_type": "code",
   "execution_count": 11,
   "metadata": {},
   "outputs": [],
   "source": [
    "# Use the `corr` function to calculate correlations for each stock pair\n",
    "price_correlation = daily_return.corr()"
   ]
  },
  {
   "cell_type": "markdown",
   "metadata": {},
   "source": [
    "## 7. Plot Correlation\n",
    "  - Use the `heatmap` function from the Seaborn library to create a heatmap of correlation values.\n",
    "  - You can read more about the heatmap method from seaborn on the [documentation page](https://seaborn.pydata.org/generated/seaborn.heatmap.html#seaborn.heatmap)."
   ]
  },
  {
   "cell_type": "code",
   "execution_count": 13,
   "metadata": {},
   "outputs": [
    {
     "data": {
      "text/plain": [
       "<AxesSubplot:>"
      ]
     },
     "execution_count": 13,
     "metadata": {},
     "output_type": "execute_result"
    },
    {
     "data": {
      "image/png": "[encoded data removed]",
      "text/plain": [
       "<Figure size 432x288 with 2 Axes>"
      ]
     },
     "metadata": {
      "needs_background": "light"
     },
     "output_type": "display_data"
    }
   ],
   "source": [
    "# Create a heatmap from the correlation values\n",
    "sns.heatmap(price_correlation)"
   ]
  },
  {
   "cell_type": "markdown",
   "metadata": {},
   "source": [
    "### Which semiconductor stock would be the best candidate to add to the existing portfolio?"
   ]
  },
  {
   "cell_type": "code",
   "execution_count": null,
   "metadata": {},
   "outputs": [],
   "source": [
    "AMd since it has the least correlation between JNJ and HD."
   ]
  }
 ],
 "metadata": {
  "kernelspec": {
   "display_name": "Python 3 (ipykernel)",
   "language": "python",
   "name": "python3"
  },
  "language_info": {
   "codemirror_mode": {
    "name": "ipython",
    "version": 3
   },
   "file_extension": ".py",
   "mimetype": "text/x-python",
   "name": "python",
   "nbconvert_exporter": "python",
   "pygments_lexer": "ipython3",
   "version": "3.7.11"
  }
 },
 "nbformat": 4,
 "nbformat_minor": 4
}
