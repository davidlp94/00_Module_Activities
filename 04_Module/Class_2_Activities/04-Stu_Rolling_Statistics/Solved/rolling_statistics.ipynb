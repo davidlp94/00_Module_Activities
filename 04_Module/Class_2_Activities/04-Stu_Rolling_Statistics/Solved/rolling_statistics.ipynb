{
 "cells": [
  {
   "cell_type": "markdown",
   "metadata": {},
   "source": [
    " # Visualizing Rolling Statistics with Pandas DataFrames\n",
    "\n",
    "In this exercise you will learn how to calculate and visualize rolling statistics pertaining to a specified time window. You will calculate a volume weighted average price for each window. The volume weighted average price is defined as:\n",
    "\n",
    "average_daily_price = (open + close + high + low) / 4\n",
    "\n",
    "The `average_volume` will be calculated for each window and the `average_price` will be calculated for each day.\n"
   ]
  },
  {
   "cell_type": "markdown",
   "metadata": {},
   "source": [
    " ## 1. Import Libraries and Dependencies\n",
    "   - Import the `pandas` and `pathlib` libraries, and set the `%matplotlib inline` property."
   ]
  },
  {
   "cell_type": "code",
   "execution_count": 1,
   "metadata": {},
   "outputs": [],
   "source": [
    "# Import libraries and dependencies\n",
    "import pandas as pd\n",
    "from pathlib import Path\n",
    "%matplotlib inline\n"
   ]
  },
  {
   "cell_type": "markdown",
   "metadata": {},
   "source": [
    " ## 2. Create a Path to the File Using Pathlib.\n",
    "   - Create a variable, `aapl_csvpath`, that represents the path to the [AAPL.csv](../Resources/AAPL.csv) using the Pathlib library."
   ]
  },
  {
   "cell_type": "code",
   "execution_count": 2,
   "metadata": {},
   "outputs": [],
   "source": [
    "# Read the aapl data, set the `date` as the index\n",
    "aapl_csv_path = Path(\"../Resources/aapl.csv\")\n"
   ]
  },
  {
   "cell_type": "markdown",
   "metadata": {},
   "source": [
    " ## 3. Read the CSV into a Pandas DataFrame.\n",
    "   - Read the CSV into a DataFrame while both formatting and setting the `date` column as the index."
   ]
  },
  {
   "cell_type": "code",
   "execution_count": 3,
   "metadata": {},
   "outputs": [
    {
     "data": {
      "text/html": [
       "<div>\n",
       "<style scoped>\n",
       "    .dataframe tbody tr th:only-of-type {\n",
       "        vertical-align: middle;\n",
       "    }\n",
       "\n",
       "    .dataframe tbody tr th {\n",
       "        vertical-align: top;\n",
       "    }\n",
       "\n",
       "    .dataframe thead th {\n",
       "        text-align: right;\n",
       "    }\n",
       "</style>\n",
       "<table border=\"1\" class=\"dataframe\">\n",
       "  <thead>\n",
       "    <tr style=\"text-align: right;\">\n",
       "      <th></th>\n",
       "      <th>close</th>\n",
       "      <th>volume</th>\n",
       "      <th>open</th>\n",
       "      <th>high</th>\n",
       "      <th>low</th>\n",
       "    </tr>\n",
       "    <tr>\n",
       "      <th>date</th>\n",
       "      <th></th>\n",
       "      <th></th>\n",
       "      <th></th>\n",
       "      <th></th>\n",
       "      <th></th>\n",
       "    </tr>\n",
       "  </thead>\n",
       "  <tbody>\n",
       "    <tr>\n",
       "      <th>2009-08-03</th>\n",
       "      <td>23.7757</td>\n",
       "      <td>98285279</td>\n",
       "      <td>23.6014</td>\n",
       "      <td>23.8057</td>\n",
       "      <td>23.5529</td>\n",
       "    </tr>\n",
       "    <tr>\n",
       "      <th>2009-08-04</th>\n",
       "      <td>23.6500</td>\n",
       "      <td>98772690</td>\n",
       "      <td>23.5614</td>\n",
       "      <td>23.6529</td>\n",
       "      <td>23.4586</td>\n",
       "    </tr>\n",
       "    <tr>\n",
       "      <th>2009-08-05</th>\n",
       "      <td>23.5871</td>\n",
       "      <td>105581942</td>\n",
       "      <td>23.6786</td>\n",
       "      <td>23.9128</td>\n",
       "      <td>23.4586</td>\n",
       "    </tr>\n",
       "    <tr>\n",
       "      <th>2009-08-06</th>\n",
       "      <td>23.4157</td>\n",
       "      <td>85271156</td>\n",
       "      <td>23.6543</td>\n",
       "      <td>23.7871</td>\n",
       "      <td>23.2986</td>\n",
       "    </tr>\n",
       "    <tr>\n",
       "      <th>2009-08-07</th>\n",
       "      <td>23.6443</td>\n",
       "      <td>96727219</td>\n",
       "      <td>23.6414</td>\n",
       "      <td>23.8000</td>\n",
       "      <td>23.5429</td>\n",
       "    </tr>\n",
       "  </tbody>\n",
       "</table>\n",
       "</div>"
      ],
      "text/plain": [
       "              close     volume     open     high      low\n",
       "date                                                     \n",
       "2009-08-03  23.7757   98285279  23.6014  23.8057  23.5529\n",
       "2009-08-04  23.6500   98772690  23.5614  23.6529  23.4586\n",
       "2009-08-05  23.5871  105581942  23.6786  23.9128  23.4586\n",
       "2009-08-06  23.4157   85271156  23.6543  23.7871  23.2986\n",
       "2009-08-07  23.6443   96727219  23.6414  23.8000  23.5429"
      ]
     },
     "execution_count": 3,
     "metadata": {},
     "output_type": "execute_result"
    }
   ],
   "source": [
    "# Read the aapl CSV into a DataFrame while formatting and setting the `date` column as the index\n",
    "aapl_df = pd.read_csv(\n",
    "    aapl_csv_path, index_col=\"date\", infer_datetime_format=True, parse_dates=True\n",
    ")\n",
    "aapl_df.head()\n"
   ]
  },
  {
   "cell_type": "markdown",
   "metadata": {},
   "source": [
    "## 4. Calculate the average daily price\n",
    "\n",
    "  - The average daily price is defined as:\n",
    "     - average_daily_price = (open + close + high + low) / 4\n"
   ]
  },
  {
   "cell_type": "code",
   "execution_count": 4,
   "metadata": {},
   "outputs": [
    {
     "data": {
      "text/html": [
       "<div>\n",
       "<style scoped>\n",
       "    .dataframe tbody tr th:only-of-type {\n",
       "        vertical-align: middle;\n",
       "    }\n",
       "\n",
       "    .dataframe tbody tr th {\n",
       "        vertical-align: top;\n",
       "    }\n",
       "\n",
       "    .dataframe thead th {\n",
       "        text-align: right;\n",
       "    }\n",
       "</style>\n",
       "<table border=\"1\" class=\"dataframe\">\n",
       "  <thead>\n",
       "    <tr style=\"text-align: right;\">\n",
       "      <th></th>\n",
       "      <th>close</th>\n",
       "      <th>volume</th>\n",
       "      <th>open</th>\n",
       "      <th>high</th>\n",
       "      <th>low</th>\n",
       "      <th>avg_price</th>\n",
       "    </tr>\n",
       "    <tr>\n",
       "      <th>date</th>\n",
       "      <th></th>\n",
       "      <th></th>\n",
       "      <th></th>\n",
       "      <th></th>\n",
       "      <th></th>\n",
       "      <th></th>\n",
       "    </tr>\n",
       "  </thead>\n",
       "  <tbody>\n",
       "    <tr>\n",
       "      <th>2009-08-03</th>\n",
       "      <td>23.7757</td>\n",
       "      <td>98285279</td>\n",
       "      <td>23.6014</td>\n",
       "      <td>23.8057</td>\n",
       "      <td>23.5529</td>\n",
       "      <td>23.683925</td>\n",
       "    </tr>\n",
       "    <tr>\n",
       "      <th>2009-08-04</th>\n",
       "      <td>23.6500</td>\n",
       "      <td>98772690</td>\n",
       "      <td>23.5614</td>\n",
       "      <td>23.6529</td>\n",
       "      <td>23.4586</td>\n",
       "      <td>23.580725</td>\n",
       "    </tr>\n",
       "    <tr>\n",
       "      <th>2009-08-05</th>\n",
       "      <td>23.5871</td>\n",
       "      <td>105581942</td>\n",
       "      <td>23.6786</td>\n",
       "      <td>23.9128</td>\n",
       "      <td>23.4586</td>\n",
       "      <td>23.659275</td>\n",
       "    </tr>\n",
       "    <tr>\n",
       "      <th>2009-08-06</th>\n",
       "      <td>23.4157</td>\n",
       "      <td>85271156</td>\n",
       "      <td>23.6543</td>\n",
       "      <td>23.7871</td>\n",
       "      <td>23.2986</td>\n",
       "      <td>23.538925</td>\n",
       "    </tr>\n",
       "    <tr>\n",
       "      <th>2009-08-07</th>\n",
       "      <td>23.6443</td>\n",
       "      <td>96727219</td>\n",
       "      <td>23.6414</td>\n",
       "      <td>23.8000</td>\n",
       "      <td>23.5429</td>\n",
       "      <td>23.657150</td>\n",
       "    </tr>\n",
       "  </tbody>\n",
       "</table>\n",
       "</div>"
      ],
      "text/plain": [
       "              close     volume     open     high      low  avg_price\n",
       "date                                                                \n",
       "2009-08-03  23.7757   98285279  23.6014  23.8057  23.5529  23.683925\n",
       "2009-08-04  23.6500   98772690  23.5614  23.6529  23.4586  23.580725\n",
       "2009-08-05  23.5871  105581942  23.6786  23.9128  23.4586  23.659275\n",
       "2009-08-06  23.4157   85271156  23.6543  23.7871  23.2986  23.538925\n",
       "2009-08-07  23.6443   96727219  23.6414  23.8000  23.5429  23.657150"
      ]
     },
     "execution_count": 4,
     "metadata": {},
     "output_type": "execute_result"
    }
   ],
   "source": [
    "# Calculate daily average\n",
    "aapl_df['avg_price'] = aapl_df[['open','close','high','low']].mean(axis=1)\n",
    "aapl_df.head()"
   ]
  },
  {
   "cell_type": "markdown",
   "metadata": {},
   "source": [
    "## 5. Define a method to use for calculating the volume weighted average price\n",
    "\n",
    "  - average_price * volume / average_volume_for_window\n",
    "\n",
    "  - The average price is for each day.\n",
    "\n",
    "  - The average volume is for each window.\n"
   ]
  },
  {
   "cell_type": "code",
   "execution_count": 5,
   "metadata": {},
   "outputs": [],
   "source": [
    "# Function for calculating volume weighted average price\n",
    "def volume_weighted_average_price(avg_price,volume,avg_volume):\n",
    "    return avg_price*volume/avg_volume\n",
    "    "
   ]
  },
  {
   "cell_type": "markdown",
   "metadata": {},
   "source": [
    "## 6. Calculate the average volume for each window using the `rolling` method with a window size of `10`."
   ]
  },
  {
   "cell_type": "code",
   "execution_count": 6,
   "metadata": {},
   "outputs": [
    {
     "data": {
      "text/html": [
       "<div>\n",
       "<style scoped>\n",
       "    .dataframe tbody tr th:only-of-type {\n",
       "        vertical-align: middle;\n",
       "    }\n",
       "\n",
       "    .dataframe tbody tr th {\n",
       "        vertical-align: top;\n",
       "    }\n",
       "\n",
       "    .dataframe thead th {\n",
       "        text-align: right;\n",
       "    }\n",
       "</style>\n",
       "<table border=\"1\" class=\"dataframe\">\n",
       "  <thead>\n",
       "    <tr style=\"text-align: right;\">\n",
       "      <th></th>\n",
       "      <th>close</th>\n",
       "      <th>volume</th>\n",
       "      <th>open</th>\n",
       "      <th>high</th>\n",
       "      <th>low</th>\n",
       "      <th>avg_price</th>\n",
       "      <th>avg_volume</th>\n",
       "    </tr>\n",
       "    <tr>\n",
       "      <th>date</th>\n",
       "      <th></th>\n",
       "      <th></th>\n",
       "      <th></th>\n",
       "      <th></th>\n",
       "      <th></th>\n",
       "      <th></th>\n",
       "      <th></th>\n",
       "    </tr>\n",
       "  </thead>\n",
       "  <tbody>\n",
       "    <tr>\n",
       "      <th>2009-08-14</th>\n",
       "      <td>23.8257</td>\n",
       "      <td>76389693</td>\n",
       "      <td>23.9914</td>\n",
       "      <td>24.0324</td>\n",
       "      <td>23.6471</td>\n",
       "      <td>23.874150</td>\n",
       "      <td>94566465.5</td>\n",
       "    </tr>\n",
       "    <tr>\n",
       "      <th>2009-08-17</th>\n",
       "      <td>22.7986</td>\n",
       "      <td>130749329</td>\n",
       "      <td>23.3643</td>\n",
       "      <td>23.3700</td>\n",
       "      <td>22.7743</td>\n",
       "      <td>23.076800</td>\n",
       "      <td>97812870.5</td>\n",
       "    </tr>\n",
       "    <tr>\n",
       "      <th>2009-08-18</th>\n",
       "      <td>23.4286</td>\n",
       "      <td>106128642</td>\n",
       "      <td>23.0900</td>\n",
       "      <td>23.4629</td>\n",
       "      <td>23.0586</td>\n",
       "      <td>23.260025</td>\n",
       "      <td>98548465.7</td>\n",
       "    </tr>\n",
       "    <tr>\n",
       "      <th>2009-08-19</th>\n",
       "      <td>23.5143</td>\n",
       "      <td>103001321</td>\n",
       "      <td>23.2500</td>\n",
       "      <td>23.6143</td>\n",
       "      <td>23.2071</td>\n",
       "      <td>23.396425</td>\n",
       "      <td>98290403.6</td>\n",
       "    </tr>\n",
       "    <tr>\n",
       "      <th>2009-08-20</th>\n",
       "      <td>23.7614</td>\n",
       "      <td>85380706</td>\n",
       "      <td>23.5686</td>\n",
       "      <td>23.8171</td>\n",
       "      <td>23.5157</td>\n",
       "      <td>23.665700</td>\n",
       "      <td>98301358.6</td>\n",
       "    </tr>\n",
       "  </tbody>\n",
       "</table>\n",
       "</div>"
      ],
      "text/plain": [
       "              close     volume     open     high      low  avg_price  \\\n",
       "date                                                                   \n",
       "2009-08-14  23.8257   76389693  23.9914  24.0324  23.6471  23.874150   \n",
       "2009-08-17  22.7986  130749329  23.3643  23.3700  22.7743  23.076800   \n",
       "2009-08-18  23.4286  106128642  23.0900  23.4629  23.0586  23.260025   \n",
       "2009-08-19  23.5143  103001321  23.2500  23.6143  23.2071  23.396425   \n",
       "2009-08-20  23.7614   85380706  23.5686  23.8171  23.5157  23.665700   \n",
       "\n",
       "            avg_volume  \n",
       "date                    \n",
       "2009-08-14  94566465.5  \n",
       "2009-08-17  97812870.5  \n",
       "2009-08-18  98548465.7  \n",
       "2009-08-19  98290403.6  \n",
       "2009-08-20  98301358.6  "
      ]
     },
     "execution_count": 6,
     "metadata": {},
     "output_type": "execute_result"
    }
   ],
   "source": [
    "# Calculate average volume for each window\n",
    "aapl_df['avg_volume'] = aapl_df['volume'].rolling(window=10).mean()\n",
    "\n",
    "# Drop n/a values for first points where the window was undefined\n",
    "aapl_df.dropna(inplace=True)\n",
    "aapl_df.head()"
   ]
  },
  {
   "cell_type": "markdown",
   "metadata": {},
   "source": [
    "## 7. Apply the volume weighted average price function\n",
    "\n",
    "  - Use the function defined previously to calculate the weighted price\n",
    "  - Use a `lambda` function to pass in parameters from the other row values in the dataframe.\n",
    "    - You can read more about the `lambda` function on the [documentation page](https://docs.python.org/3/tutorial/controlflow.html#lambda-expressions).\n",
    "  - Use axis = 1 so that the `apply` method applies the function to each row.\n",
    "    - You can read more about the `apply` method on the [documentation page](https://pandas.pydata.org/pandas-docs/stable/reference/api/pandas.DataFrame.apply.html)\n"
   ]
  },
  {
   "cell_type": "code",
   "execution_count": 7,
   "metadata": {},
   "outputs": [],
   "source": [
    "# Apply the volume weighted average price function for each row in the dataframe\n",
    "aapl_df['avg_price_vol'] = aapl_df.apply(lambda x: volume_weighted_average_price(x.avg_price, x.volume, x.avg_volume), axis=1)\n"
   ]
  },
  {
   "cell_type": "markdown",
   "metadata": {},
   "source": [
    "## 8. Plot the volume weighted average price and the average price\n",
    "  - **Hint:** Plot the volume weighted average price first and then add the average price as the second figure."
   ]
  },
  {
   "cell_type": "code",
   "execution_count": 8,
   "metadata": {},
   "outputs": [
    {
     "data": {
      "text/plain": [
       "<matplotlib.legend.Legend at 0x23ddc72d708>"
      ]
     },
     "execution_count": 8,
     "metadata": {},
     "output_type": "execute_result"
    },
    {
     "data": {
      "image/png": "[encoded data removed]",
      "text/plain": [
       "<Figure size 432x288 with 1 Axes>"
      ]
     },
     "metadata": {
      "needs_background": "light"
     },
     "output_type": "display_data"
    }
   ],
   "source": [
    "# Initialize plot with average weighted price\n",
    "ax = aapl_df['avg_price_vol'].rolling(window=10).mean().plot()\n",
    "\n",
    "# Add average price to the plot\n",
    "aapl_df['avg_price'].plot(ax=ax)\n",
    "\n",
    "# Set the legend of the figure\n",
    "ax.legend([\"aapl\", \"aapl avg weighted weekly price\"])\n"
   ]
  },
  {
   "cell_type": "code",
   "execution_count": null,
   "metadata": {},
   "outputs": [],
   "source": []
  }
 ],
 "metadata": {
  "kernelspec": {
   "display_name": "Python 3 (ipykernel)",
   "language": "python",
   "name": "python3"
  },
  "language_info": {
   "codemirror_mode": {
    "name": "ipython",
    "version": 3
   },
   "file_extension": ".py",
   "mimetype": "text/x-python",
   "name": "python",
   "nbconvert_exporter": "python",
   "pygments_lexer": "ipython3",
   "version": "3.7.11"
  }
 },
 "nbformat": 4,
 "nbformat_minor": 4
}
