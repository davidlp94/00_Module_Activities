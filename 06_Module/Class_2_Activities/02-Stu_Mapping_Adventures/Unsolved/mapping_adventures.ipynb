{
 "cells": [
  {
   "cell_type": "markdown",
   "metadata": {},
   "source": [
    "# Mapping Adventures"
   ]
  },
  {
   "cell_type": "markdown",
   "metadata": {},
   "source": [
    "It's time to take a break from your day job and plan an adventure!\n",
    "\n",
    "Use **hvPlot** and the **GeoViews** to create a series of geographical plots that will visualize each area of interest within the city."
   ]
  },
  {
   "cell_type": "markdown",
   "metadata": {},
   "source": [
    "## Import the required libraries and dependencies"
   ]
  },
  {
   "cell_type": "code",
   "execution_count": 4,
   "metadata": {},
   "outputs": [],
   "source": [
    "import pandas as pd\n",
    "import os\n",
    "from pathlib import Path\n",
    "import hvplot.pandas"
   ]
  },
  {
   "cell_type": "markdown",
   "metadata": {},
   "source": [
    "### Step 1: Read in the `nyc_places_interest.csv` file from the Resources folder into a Pandas DataFrame. Drop any rows that contain missing data or NaN values."
   ]
  },
  {
   "cell_type": "code",
   "execution_count": 5,
   "metadata": {},
   "outputs": [
    {
     "data": {
      "text/html": [
       "<div>\n",
       "<style scoped>\n",
       "    .dataframe tbody tr th:only-of-type {\n",
       "        vertical-align: middle;\n",
       "    }\n",
       "\n",
       "    .dataframe tbody tr th {\n",
       "        vertical-align: top;\n",
       "    }\n",
       "\n",
       "    .dataframe thead th {\n",
       "        text-align: right;\n",
       "    }\n",
       "</style>\n",
       "<table border=\"1\" class=\"dataframe\">\n",
       "  <thead>\n",
       "    <tr style=\"text-align: right;\">\n",
       "      <th></th>\n",
       "      <th>Id</th>\n",
       "      <th>Longitude</th>\n",
       "      <th>Latitude</th>\n",
       "      <th>Name</th>\n",
       "      <th>PlaceType</th>\n",
       "      <th>Borough</th>\n",
       "    </tr>\n",
       "  </thead>\n",
       "  <tbody>\n",
       "    <tr>\n",
       "      <th>0</th>\n",
       "      <td>90</td>\n",
       "      <td>-73.888958</td>\n",
       "      <td>40.896210</td>\n",
       "      <td>Van Cortlandt Park</td>\n",
       "      <td>Park</td>\n",
       "      <td>Bronx</td>\n",
       "    </tr>\n",
       "    <tr>\n",
       "      <th>1</th>\n",
       "      <td>95</td>\n",
       "      <td>-73.871651</td>\n",
       "      <td>40.889879</td>\n",
       "      <td>Woodlawn Cemetery</td>\n",
       "      <td>Cemetery</td>\n",
       "      <td>Bronx</td>\n",
       "    </tr>\n",
       "    <tr>\n",
       "      <th>2</th>\n",
       "      <td>81</td>\n",
       "      <td>-73.838642</td>\n",
       "      <td>40.886965</td>\n",
       "      <td>Seton Falls Park</td>\n",
       "      <td>Park</td>\n",
       "      <td>Bronx</td>\n",
       "    </tr>\n",
       "    <tr>\n",
       "      <th>3</th>\n",
       "      <td>69</td>\n",
       "      <td>-73.809802</td>\n",
       "      <td>40.877986</td>\n",
       "      <td>Pelham Bay Park</td>\n",
       "      <td>Park</td>\n",
       "      <td>Bronx</td>\n",
       "    </tr>\n",
       "    <tr>\n",
       "      <th>4</th>\n",
       "      <td>8</td>\n",
       "      <td>-73.878308</td>\n",
       "      <td>40.864424</td>\n",
       "      <td>Botanical Garden</td>\n",
       "      <td>Garden</td>\n",
       "      <td>Bronx</td>\n",
       "    </tr>\n",
       "  </tbody>\n",
       "</table>\n",
       "</div>"
      ],
      "text/plain": [
       "   Id  Longitude   Latitude                Name PlaceType Borough\n",
       "0  90 -73.888958  40.896210  Van Cortlandt Park      Park   Bronx\n",
       "1  95 -73.871651  40.889879   Woodlawn Cemetery  Cemetery   Bronx\n",
       "2  81 -73.838642  40.886965    Seton Falls Park      Park   Bronx\n",
       "3  69 -73.809802  40.877986     Pelham Bay Park      Park   Bronx\n",
       "4   8 -73.878308  40.864424    Botanical Garden    Garden   Bronx"
      ]
     },
     "execution_count": 5,
     "metadata": {},
     "output_type": "execute_result"
    }
   ],
   "source": [
    "# Read the the ny_places_interest.csv file into a DataFrame\n",
    "places_of_interest = pd.read_csv(\n",
    "    Path('../Resources/nyc_places_interest.csv'))\n",
    "\n",
    "# Review the DataFrame\n",
    "places_of_interest.head()"
   ]
  },
  {
   "cell_type": "markdown",
   "metadata": {},
   "source": [
    "## Plot the NYC Places of Interest"
   ]
  },
  {
   "cell_type": "markdown",
   "metadata": {},
   "source": [
    "### Step 2: Plot All Places of Interest by Name"
   ]
  },
  {
   "cell_type": "code",
   "execution_count": 11,
   "metadata": {},
   "outputs": [
    {
     "data": {},
     "metadata": {},
     "output_type": "display_data"
    },
    {
     "data": {
      "application/vnd.holoviews_exec.v0+json": "",
      "text/html": [
       "<div id='1919'>\n",
       "\n",
       "\n",
       "\n",
       "\n",
       "\n",
       "  <div class=\"bk-root\" id=\"8329a965-d36d-46d6-a545-eb64161e61ad\" data-root-id=\"1919\"></div>\n",
       "</div>\n",
       "<script type=\"application/javascript\">(function(root) {\n",
       "  function embed_document(root) {\n",
       "    var docs_json = {\"24216c55-8be7-493e-9297-b13f3933fd1f\":{\"defs\":[{\"extends\":null,\"module\":null,\"name\":\"ReactiveHTML1\",\"overrides\":[],\"properties\":[]},{\"extends\":null,\"module\":null,\"name\":\"FlexBox1\",\"overrides\":[],\"properties\":[{\"default\":\"flex-start\",\"kind\":null,\"name\":\"align_content\"},{\"default\":\"flex-start\",\"kind\":null,\"name\":\"align_items\"},{\"default\":\"row\",\"kind\":null,\"name\":\"flex_direction\"},{\"default\":\"wrap\",\"kind\":null,\"name\":\"flex_wrap\"},{\"default\":\"flex-start\",\"kind\":null,\"name\":\"justify_content\"}]},{\"extends\":null,\"module\":null,\"name\":\"TemplateActions1\",\"overrides\":[],\"properties\":[{\"default\":0,\"kind\":null,\"name\":\"open_modal\"},{\"default\":0,\"kind\":null,\"name\":\"close_modal\"}]},{\"extends\":null,\"module\":null,\"name\":\"MaterialTemplateActions1\",\"overrides\":[],\"properties\":[{\"default\":0,\"kind\":null,\"name\":\"open_modal\"},{\"default\":0,\"kind\":null,\"name\":\"close_modal\"}]}],\"roots\":{\"references\":[{\"attributes\":{\"dimension\":\"lat\"},\"id\":\"1967\",\"type\":\"MercatorTickFormatter\"},{\"attributes\":{\"fill_alpha\":{\"value\":0.8},\"fill_color\":{\"field\":\"color\",\"transform\":{\"id\":\"1995\"}},\"hatch_alpha\":{\"value\":0.8},\"hatch_color\":{\"field\":\"color\",\"transform\":{\"id\":\"1995\"}},\"line_alpha\":{\"value\":0.8},\"line_color\":{\"field\":\"color\",\"transform\":{\"id\":\"1995\"}},\"size\":{\"value\":5.477225575051661},\"x\":{\"field\":\"Longitude\"},\"y\":{\"field\":\"Latitude\"}},\"id\":\"1999\",\"type\":\"Scatter\"},{\"attributes\":{\"factors\":[\"Van Cortlandt Park\",\"Woodlawn Cemetery\",\"Seton Falls Park\",\"Pelham Bay Park\",\"Botanical Garden\",\"Bronx Park\",\"Saint  Raymond's Cemetery\",\"Ferry Point Park\",\"Sound View Park\",\"Crotona Park\",\"Zoo/Wildlife Conser. Park\",\"Hart Island\",\"Saint Mary's Park\",\"Inwood Hill Park\",\"Fort Tryon Park\",\"Rikers Island\",\"Marcus Garvey Park\",\"Randall's Island Park\",\"Ward's Island Park\",\"Central Park\",\"Columbus Circle\",\"Times Square\",\"Madison Square\",\"Union Square\",\"Governors Island\",\"McCarren Park\",\"Astoria Park\",\"Botanic Garden\",\"Prospect Park\",\"Greenwood Cemetery\",\"Holy Cross Cemetery\",\"Bush Terminal\",\"Owls Head Park\",\"Fort Hamilton\",\"Dyker Beach Park\",\"Washington Cemetery\",\"Marine Park\",\"Floyd Bennett Field\",\"Canarsie Beach Park\",\"Aqueduct Race Track\",\"Bayside Cemetery\",\"Brookville Park\",\"Baisley Pond Park\",\"Roy Wilkins Park\",\"Forest Park\",\"Cypress Hills Cemetery\",\"Saint  Johns Cemetery\",\"Linden Hill Cemetery\",\"Mount Olivet Cemetery\",\"Juniper Valley Park\",\"Lutheran Cemetery\",\"Montefiore Cemetery\",\"Flushing Meadows Corona Park\",\"Mount Hebron Cemetery\",\"Kissena Park\",\"Cunningham Park\",\"Fort Totten\",\"Clearview Park\",\"Crocheron Park\",\"Alley Pond Park\",\"Douglaston Park\",\"Fort Schuyler\",\"Calvary Cemetery\",\"New Calvary Cemetery\",\"Mount Zion Cemetery\",\"Jacob Riis Park\",\"Fort Tilden\",\"Liberty Island\",\"Ellis Island\",\"Snug Harbor\",\"Silver Lake Park\",\"Clove Lakes Park\",\"Fort Wadsworth\",\"Miller Field\",\"Great Kills Park\",\"Moravian Cemetery\",\"LaTourette Park\",\"Willowbrook Park\",\"Blue Heron Park\",\"Wolfe's Pond Park\",\"Mount Loretto\",\"Conference House Park\",\"South Shore Golf Course\",\"Fresh Kills\",\"Plumb Beach\",\"John F. Kennedy International Airport\",\"LaGuardia Airport\",\"Jamaica Bay Wildlife Refuge\",\"Calvert Vaux\",\"High Rock Park\",\"Red Hook Park\",\"Saint Michael's Cemetery\",\"Riverdale Park\",\"Forest Park Golf Course\",\"Spring Creek Park Preserve No Access\",\"Spring Creek Park Gateway National Recreation Area\"],\"palette\":[\"#1f77b3\",\"#ff7e0e\",\"#2ba02b\",\"#d62628\",\"#9367bc\",\"#8c564b\",\"#e277c1\",\"#7e7e7e\",\"#bcbc21\",\"#16bdcf\",\"#3a0182\",\"#004201\",\"#0fffa8\",\"#5d003f\",\"#bcbcff\",\"#d8afa1\",\"#b80080\",\"#004d52\",\"#6b6400\",\"#7c0100\",\"#6026ff\",\"#ffff9a\",\"#564964\",\"#8cb893\",\"#93fbff\",\"#018267\",\"#90ff00\",\"#8200a0\",\"#ac8944\",\"#5b3400\",\"#ffbff2\",\"#ff6e75\",\"#798cff\",\"#dd00ff\",\"#505646\",\"#004489\",\"#ffbf60\",\"#ff018c\",\"#bdc8cf\",\"#af97b5\",\"#b65600\",\"#017000\",\"#cd87ff\",\"#1cd646\",\"#bfebc3\",\"#7997b5\",\"#a56089\",\"#6e8956\",\"#bc7c75\",\"#8a2844\",\"#00acff\",\"#8ed4ff\",\"#4b6d77\",\"#00d4b1\",\"#9300f2\",\"#8a9500\",\"#5d5b9e\",\"#fddfba\",\"#00939e\",\"#ffdb00\",\"#00aa79\",\"#520067\",\"#000091\",\"#0a5d3d\",\"#a5e275\",\"#623b41\",\"#c6c689\",\"#ff9eb5\",\"#cd4f6b\",\"#ff07d6\",\"#8a3a05\",\"#7e3d70\",\"#ff4901\",\"#602ba5\",\"#1c00ff\",\"#e6dfff\",\"#aa3baf\",\"#d89c00\",\"#a3a39e\",\"#3f69ff\",\"#46490c\",\"#7b6985\",\"#6b978c\",\"#ff9a75\",\"#835bff\",\"#7c6b46\",\"#80b654\",\"#bc0049\",\"#fd93ff\",\"#5d0018\",\"#89d1d1\",\"#9c8cd3\",\"#da6d42\",\"#8a5700\",\"#3b5069\",\"#4b6b3b\"]},\"id\":\"1995\",\"type\":\"CategoricalColorMapper\"},{\"attributes\":{\"code\":\"\\n        var projections = Bokeh.require(\\\"core/util/projections\\\");\\n        var x = special_vars.data_x\\n        var y = special_vars.data_y\\n        if (projections.wgs84_mercator.invert == null) {\\n          var coords = projections.wgs84_mercator.inverse([x, y])\\n        } else {\\n          var coords = projections.wgs84_mercator.invert(x, y)\\n        }\\n        return \\\"\\\" + (coords[0]).toFixed(4)\\n    \"},\"id\":\"2014\",\"type\":\"CustomJSHover\"},{\"attributes\":{\"children\":[{\"id\":\"1920\"},{\"id\":\"1932\"},{\"id\":\"2070\"}],\"margin\":[0,0,0,0],\"name\":\"Row04846\",\"tags\":[\"embedded\"]},\"id\":\"1919\",\"type\":\"Row\"},{\"attributes\":{\"coordinates\":null,\"group\":null,\"level\":\"glyph\",\"tile_source\":{\"id\":\"1990\"}},\"id\":\"1993\",\"type\":\"TileRenderer\"},{\"attributes\":{\"dimension\":\"lat\"},\"id\":\"1966\",\"type\":\"MercatorTicker\"},{\"attributes\":{\"axis\":{\"id\":\"1945\"},\"coordinates\":null,\"dimension\":1,\"grid_line_color\":null,\"group\":null,\"ticker\":null},\"id\":\"1948\",\"type\":\"Grid\"},{\"attributes\":{},\"id\":\"1997\",\"type\":\"Selection\"},{\"attributes\":{\"bottom_units\":\"screen\",\"coordinates\":null,\"fill_alpha\":0.5,\"fill_color\":\"lightgrey\",\"group\":null,\"left_units\":\"screen\",\"level\":\"overlay\",\"line_alpha\":1.0,\"line_color\":\"black\",\"line_dash\":[4,4],\"line_width\":2,\"right_units\":\"screen\",\"syncable\":false,\"top_units\":\"screen\"},\"id\":\"1954\",\"type\":\"BoxAnnotation\"},{\"attributes\":{\"data\":{\"Latitude\":{\"__ndarray__\":\"1cxBK+0PU0EFkxUdBA9TQcMRDNWYDlNBXEPLS04NU0Fj/NYvWwtTQWcWH6ATClNBhHQWn3IFU0Gw21nzKARTQe/w925RBFNBHT83h6AHU0HEPWjhIwlTQU5VGKx6CVNBIQmrgr8DU0FUgp4ceQxTQdiHhXImC1NBVR+zxfIAU0E2n8zEmAJTQWQ2bGSDAVNBNgXi4df/UkFG10dTpP9SQRcytaaD/VJBzRE1xxL8UkE3tSfizPlSQZpHk1zo+FJBpyJdeTvyUkFyx/lLv/ZSQRIB5IfE/lJBPJgPq3DvUkEGDhf6Me5SQWCzB1bg7FJB4fjBHSLsUkHbdt/IT+1SQQSrS/ck61JB+RezdHrmUkGlbd0gEOdSQQ15ZjdR6FJB/Rk/I+flUkFBoIoDLeRSQRnpizkS6VJBtCupfsPvUkFIEKZefvBSQfOrjj/b7FJBzBzON+rvUkFrxoU9BPJSQaedhvlD9FJBNC8wVifzUkF7uaSy7PVSQUFakBRB9VJBkJXlI732UkG5rCM5q/ZSQQheUTKB9VJBSfFpQrjxUkGNe8lDM/lSQXVLmcqj+FJB+AQR/iT6UkF2Wbv56fdSQfPcn04HAVNBRiKYmJn/UkGK0c35+/1SQRgb0XNy+1JB2jwSeij7UkG8Hlou6QJTQdk20LOJ+FJBPUxXNBH5UkErzkwSWfhSQewpz+/S4FJBBMYy6+3fUkHNCCTvUPJSQUlrjmyi81JBABEW5XrrUkEwHls8VOlSQbV1qMkD6FJB4w0CngzmUkGL3Nkx2OBSQaYAgPMK3lJBtTMravLiUkFC4KPq3eJSQa5wHZ+C5VJB5WLTYpXbUkGMYLAQOdpSQWiz2Ah/2FJBK3H4Zw3XUkFgPElCb95SQaYL8y214VJBo0XGBQTjUkFnaLheTuxSQYiKYu+R/lJBTmCtk7LoUkH4MYvrSONSQX2nd1IN5FJBrgdEGb7vUkHWHNvv/vxSQa60sW1dD1NBZylGtKvzUkEv0DQ6/OtSQRmBvh8O7FJB\",\"dtype\":\"float64\",\"order\":\"little\",\"shape\":[96]},\"Longitude\":{\"__ndarray__\":\"MMxcTIBgX8Gg8uiknl5fwZEnBwEIW1/BhZa9Z+VXX8GuyW7mV19fwc1/1e0eX1/BJUQxHKtaX8G1PV23ZlpfwTbGXiytXl/Bkhwb/xJhX8GtiwZ1Al9fwUos9vOKU1/BfFpV0vpiX8EONZozjGRfwalqsXArZV/B9ePZ39NfX8EfPlliV2ZfwV6DY3wPZF/B9xEPw/VkX8Flx03K1mhfwYW4t+qaal/BbRQ255dqX8G03bp5RmtfwUDg7NuGa1/BW8o2WZJuX8E8ovo5WmdfwY368P5WZF/ByFS+1uNoX8HCEcpDNmlfwRgcX4+Ia1/B30+0VstlX8Fwpf6Jl25fwXmkv7gVcF/BWqK21rNvX8G9Le31sm5fwfIHQtvmaV/BvroF6FFkX8EipVn0n2BfwaOD+/F+YV/BcpOS2ihaX8GvmzoLz1xfwSK8dmynUV/BGVO3emhVX8EetycLylNfwb4ogozQW1/B8z2YnhtfX8HQkxTQHF5fwQLDWFk4Y1/BujBU0UJhX8ELwEPCfF9fwe1JNEpXYF/BUWbDAH9QX8GYd68vVVtfwfzQ5ucgWl/BJ/abxEZXX8FOW3y5dlNfwS+hwJ5VVF/B4HXbr55VX8G3jQDWdVNfwYgvybHFUF/BHpUQKXhPX8EBS5QgFVZfwVlFaE/6ZF/BDGWLeyFjX8F/wrTKj2JfwTgK3MacXl/BHp8JrCVhX8HEVozHfnFfwRO1BpvwcF/BiUXayMl3X8E+96Fg23ZfwR+hPlGbeF/BPOLHfPdyX8Fg6vj9UHdfwcisvyk6el/BCwpgoFR5X8HwGwNxEHxfwWNVeo/GfV/Bw5t0q6J/X8FgB3jcfYFfwXz+ZUVHhF/BIlEaGpiHX8GFY0y53IJfwRntScDEgV/Br3P7bVhjX8HIC5n1TlVfwZcJWtXnXl/B6QdxObBZX8EDahsf42tfwQmJh8wQeV/B8qGHHC1tX8E63SQRiWFfwR7Zw/GHY1/BQmKV7KVdX8Emb1oW5l1fwWuBNv+iW1/B\",\"dtype\":\"float64\",\"order\":\"little\",\"shape\":[96]},\"Name\":[\"Van Cortlandt Park\",\"Woodlawn Cemetery\",\"Seton Falls Park\",\"Pelham Bay Park\",\"Botanical Garden\",\"Bronx Park\",\"Saint  Raymond's Cemetery\",\"Ferry Point Park\",\"Sound View Park\",\"Crotona Park\",\"Zoo/Wildlife Conser. Park\",\"Hart Island\",\"Saint Mary's Park\",\"Inwood Hill Park\",\"Fort Tryon Park\",\"Rikers Island\",\"Marcus Garvey Park\",\"Randall's Island Park\",\"Ward's Island Park\",\"Central Park\",\"Columbus Circle\",\"Times Square\",\"Madison Square\",\"Union Square\",\"Governors Island\",\"McCarren Park\",\"Astoria Park\",\"Botanic Garden\",\"Prospect Park\",\"Greenwood Cemetery\",\"Holy Cross Cemetery\",\"Bush Terminal\",\"Owls Head Park\",\"Fort Hamilton\",\"Dyker Beach Park\",\"Washington Cemetery\",\"Marine Park\",\"Floyd Bennett Field\",\"Canarsie Beach Park\",\"Aqueduct Race Track\",\"Bayside Cemetery\",\"Brookville Park\",\"Baisley Pond Park\",\"Roy Wilkins Park\",\"Forest Park\",\"Cypress Hills Cemetery\",\"Saint  Johns Cemetery\",\"Linden Hill Cemetery\",\"Mount Olivet Cemetery\",\"Juniper Valley Park\",\"Lutheran Cemetery\",\"Montefiore Cemetery\",\"Flushing Meadows Corona Park\",\"Mount Hebron Cemetery\",\"Kissena Park\",\"Cunningham Park\",\"Fort Totten\",\"Clearview Park\",\"Crocheron Park\",\"Alley Pond Park\",\"Douglaston Park\",\"Fort Schuyler\",\"Calvary Cemetery\",\"New Calvary Cemetery\",\"Mount Zion Cemetery\",\"Jacob Riis Park\",\"Fort Tilden\",\"Liberty Island\",\"Ellis Island\",\"Snug Harbor\",\"Silver Lake Park\",\"Clove Lakes Park\",\"Fort Wadsworth\",\"Miller Field\",\"Great Kills Park\",\"Moravian Cemetery\",\"LaTourette Park\",\"Willowbrook Park\",\"Blue Heron Park\",\"Wolfe's Pond Park\",\"Mount Loretto\",\"Conference House Park\",\"South Shore Golf Course\",\"Fresh Kills\",\"Plumb Beach\",\"John F. Kennedy International Airport\",\"LaGuardia Airport\",\"Jamaica Bay Wildlife Refuge\",\"Calvert Vaux\",\"High Rock Park\",\"Red Hook Park\",\"Saint Michael's Cemetery\",\"Riverdale Park\",\"Forest Park Golf Course\",\"Spring Creek Park Preserve No Access\",\"Spring Creek Park Gateway National Recreation Area\"],\"color\":[\"Van Cortlandt Park\",\"Woodlawn Cemetery\",\"Seton Falls Park\",\"Pelham Bay Park\",\"Botanical Garden\",\"Bronx Park\",\"Saint  Raymond's Cemetery\",\"Ferry Point Park\",\"Sound View Park\",\"Crotona Park\",\"Zoo/Wildlife Conser. Park\",\"Hart Island\",\"Saint Mary's Park\",\"Inwood Hill Park\",\"Fort Tryon Park\",\"Rikers Island\",\"Marcus Garvey Park\",\"Randall's Island Park\",\"Ward's Island Park\",\"Central Park\",\"Columbus Circle\",\"Times Square\",\"Madison Square\",\"Union Square\",\"Governors Island\",\"McCarren Park\",\"Astoria Park\",\"Botanic Garden\",\"Prospect Park\",\"Greenwood Cemetery\",\"Holy Cross Cemetery\",\"Bush Terminal\",\"Owls Head Park\",\"Fort Hamilton\",\"Dyker Beach Park\",\"Washington Cemetery\",\"Marine Park\",\"Floyd Bennett Field\",\"Canarsie Beach Park\",\"Aqueduct Race Track\",\"Bayside Cemetery\",\"Brookville Park\",\"Baisley Pond Park\",\"Roy Wilkins Park\",\"Forest Park\",\"Cypress Hills Cemetery\",\"Saint  Johns Cemetery\",\"Linden Hill Cemetery\",\"Mount Olivet Cemetery\",\"Juniper Valley Park\",\"Lutheran Cemetery\",\"Montefiore Cemetery\",\"Flushing Meadows Corona Park\",\"Mount Hebron Cemetery\",\"Kissena Park\",\"Cunningham Park\",\"Fort Totten\",\"Clearview Park\",\"Crocheron Park\",\"Alley Pond Park\",\"Douglaston Park\",\"Fort Schuyler\",\"Calvary Cemetery\",\"New Calvary Cemetery\",\"Mount Zion Cemetery\",\"Jacob Riis Park\",\"Fort Tilden\",\"Liberty Island\",\"Ellis Island\",\"Snug Harbor\",\"Silver Lake Park\",\"Clove Lakes Park\",\"Fort Wadsworth\",\"Miller Field\",\"Great Kills Park\",\"Moravian Cemetery\",\"LaTourette Park\",\"Willowbrook Park\",\"Blue Heron Park\",\"Wolfe's Pond Park\",\"Mount Loretto\",\"Conference House Park\",\"South Shore Golf Course\",\"Fresh Kills\",\"Plumb Beach\",\"John F. Kennedy International Airport\",\"LaGuardia Airport\",\"Jamaica Bay Wildlife Refuge\",\"Calvert Vaux\",\"High Rock Park\",\"Red Hook Park\",\"Saint Michael's Cemetery\",\"Riverdale Park\",\"Forest Park Golf Course\",\"Spring Creek Park Preserve No Access\",\"Spring Creek Park Gateway National Recreation Area\"]},\"selected\":{\"id\":\"1997\"},\"selection_policy\":{\"id\":\"2009\"}},\"id\":\"1996\",\"type\":\"ColumnDataSource\"},{\"attributes\":{\"click_policy\":\"mute\",\"coordinates\":null,\"group\":null,\"items\":[{\"id\":\"2013\"}],\"location\":[0,0]},\"id\":\"2012\",\"type\":\"Legend\"},{\"attributes\":{\"dimension\":\"lon\"},\"id\":\"1964\",\"type\":\"MercatorTicker\"},{\"attributes\":{\"source\":{\"id\":\"1996\"}},\"id\":\"2005\",\"type\":\"CDSView\"},{\"attributes\":{\"fill_alpha\":{\"value\":0.8},\"fill_color\":{\"field\":\"color\",\"transform\":{\"id\":\"1995\"}},\"hatch_alpha\":{\"value\":0.8},\"hatch_color\":{\"field\":\"color\",\"transform\":{\"id\":\"1995\"}},\"line_alpha\":{\"value\":0.8},\"line_color\":{\"field\":\"color\",\"transform\":{\"id\":\"1995\"}},\"size\":{\"value\":5.477225575051661},\"x\":{\"field\":\"Longitude\"},\"y\":{\"field\":\"Latitude\"}},\"id\":\"2001\",\"type\":\"Scatter\"},{\"attributes\":{\"axis_label\":\"x\",\"coordinates\":null,\"formatter\":{\"id\":\"1965\"},\"group\":null,\"major_label_policy\":{\"id\":\"1970\"},\"ticker\":{\"id\":\"1964\"}},\"id\":\"1941\",\"type\":\"LinearAxis\"},{\"attributes\":{\"below\":[{\"id\":\"1941\"}],\"center\":[{\"id\":\"1944\"},{\"id\":\"1948\"}],\"frame_height\":500,\"frame_width\":700,\"height\":null,\"left\":[{\"id\":\"1945\"}],\"margin\":[5,5,5,5],\"match_aspect\":true,\"min_border_bottom\":10,\"min_border_left\":10,\"min_border_right\":10,\"min_border_top\":10,\"renderers\":[{\"id\":\"1993\"},{\"id\":\"2004\"}],\"right\":[{\"id\":\"2012\"}],\"sizing_mode\":\"fixed\",\"title\":{\"id\":\"1933\"},\"toolbar\":{\"id\":\"1955\"},\"width\":null,\"x_range\":{\"id\":\"1925\"},\"x_scale\":{\"id\":\"1937\"},\"y_range\":{\"id\":\"1926\"},\"y_scale\":{\"id\":\"1939\"}},\"id\":\"1932\",\"subtype\":\"Figure\",\"type\":\"Plot\"},{\"attributes\":{\"zoom_on_axis\":false},\"id\":\"1951\",\"type\":\"WheelZoomTool\"},{\"attributes\":{\"match_aspect\":true,\"overlay\":{\"id\":\"1954\"}},\"id\":\"1952\",\"type\":\"BoxZoomTool\"},{\"attributes\":{},\"id\":\"1977\",\"type\":\"AllLabels\"},{\"attributes\":{\"code\":\"\\n        var projections = Bokeh.require(\\\"core/util/projections\\\");\\n        var x = special_vars.data_x\\n        var y = special_vars.data_y\\n        if (projections.wgs84_mercator.invert == null) {\\n          var coords = projections.wgs84_mercator.inverse([x, y])\\n        } else {\\n          var coords = projections.wgs84_mercator.invert(x, y)\\n        }\\n        return \\\"\\\" + (coords[1]).toFixed(4)\\n    \"},\"id\":\"2015\",\"type\":\"CustomJSHover\"},{\"attributes\":{},\"id\":\"1950\",\"type\":\"PanTool\"},{\"attributes\":{\"label\":{\"field\":\"color\"},\"renderers\":[{\"id\":\"2004\"}]},\"id\":\"2013\",\"type\":\"LegendItem\"},{\"attributes\":{},\"id\":\"1970\",\"type\":\"AllLabels\"},{\"attributes\":{\"callback\":null,\"formatters\":{\"$x\":{\"id\":\"2014\"},\"$y\":{\"id\":\"2015\"}},\"renderers\":[{\"id\":\"2004\"}],\"tags\":[\"hv_created\"],\"tooltips\":[[\"Longitude\",\"$x{custom}\"],[\"Latitude\",\"$y{custom}\"],[\"Name\",\"@{Name}\"]]},\"id\":\"1929\",\"type\":\"HoverTool\"},{\"attributes\":{\"tools\":[{\"id\":\"1929\"},{\"id\":\"1949\"},{\"id\":\"1950\"},{\"id\":\"1951\"},{\"id\":\"1952\"},{\"id\":\"1953\"}]},\"id\":\"1955\",\"type\":\"Toolbar\"},{\"attributes\":{\"axis\":{\"id\":\"1941\"},\"coordinates\":null,\"grid_line_color\":null,\"group\":null,\"ticker\":null},\"id\":\"1944\",\"type\":\"Grid\"},{\"attributes\":{\"end\":-8187655.96828672,\"min_interval\":5,\"reset_end\":-8187655.96828672,\"reset_start\":-8285497.081206661,\"start\":-8285497.081206661,\"tags\":[[[\"Longitude\",\"Longitude\",null]]]},\"id\":\"1925\",\"type\":\"Range1d\"},{\"attributes\":{\"coordinates\":null,\"data_source\":{\"id\":\"1996\"},\"glyph\":{\"id\":\"1999\"},\"group\":null,\"hover_glyph\":{\"id\":\"2002\"},\"muted_glyph\":{\"id\":\"2003\"},\"nonselection_glyph\":{\"id\":\"2000\"},\"selection_glyph\":{\"id\":\"2001\"},\"view\":{\"id\":\"2005\"}},\"id\":\"2004\",\"type\":\"GlyphRenderer\"},{\"attributes\":{\"dimension\":\"lon\"},\"id\":\"1965\",\"type\":\"MercatorTickFormatter\"},{\"attributes\":{\"coordinates\":null,\"group\":null,\"text_color\":\"black\",\"text_font_size\":\"12pt\"},\"id\":\"1933\",\"type\":\"Title\"},{\"attributes\":{\"margin\":[5,5,5,5],\"name\":\"HSpacer04850\",\"sizing_mode\":\"stretch_width\"},\"id\":\"1920\",\"type\":\"Spacer\"},{\"attributes\":{},\"id\":\"1939\",\"type\":\"LinearScale\"},{\"attributes\":{\"fill_alpha\":{\"value\":0.8},\"fill_color\":{\"field\":\"color\",\"transform\":{\"id\":\"1995\"}},\"hatch_alpha\":{\"value\":0.1},\"hatch_color\":{\"field\":\"color\",\"transform\":{\"id\":\"1995\"}},\"line_alpha\":{\"value\":0.8},\"line_color\":{\"field\":\"color\",\"transform\":{\"id\":\"1995\"}},\"size\":{\"value\":5.477225575051661},\"x\":{\"field\":\"Longitude\"},\"y\":{\"field\":\"Latitude\"}},\"id\":\"2000\",\"type\":\"Scatter\"},{\"attributes\":{\"fill_alpha\":{\"value\":0.8},\"fill_color\":{\"field\":\"color\",\"transform\":{\"id\":\"1995\"}},\"hatch_alpha\":{\"value\":0.8},\"hatch_color\":{\"field\":\"color\",\"transform\":{\"id\":\"1995\"}},\"line_alpha\":{\"value\":0.8},\"line_color\":{\"field\":\"color\",\"transform\":{\"id\":\"1995\"}},\"size\":{\"value\":5.477225575051661},\"x\":{\"field\":\"Longitude\"},\"y\":{\"field\":\"Latitude\"}},\"id\":\"2002\",\"type\":\"Scatter\"},{\"attributes\":{},\"id\":\"1953\",\"type\":\"ResetTool\"},{\"attributes\":{},\"id\":\"1937\",\"type\":\"LinearScale\"},{\"attributes\":{\"axis_label\":\"y\",\"coordinates\":null,\"formatter\":{\"id\":\"1967\"},\"group\":null,\"major_label_policy\":{\"id\":\"1977\"},\"ticker\":{\"id\":\"1966\"}},\"id\":\"1945\",\"type\":\"LinearAxis\"},{\"attributes\":{\"end\":5002868.404392054,\"min_interval\":5,\"reset_end\":5002868.404392054,\"reset_start\":4932981.895163525,\"start\":4932981.895163525,\"tags\":[[[\"Latitude\",\"Latitude\",null]]]},\"id\":\"1926\",\"type\":\"Range1d\"},{\"attributes\":{},\"id\":\"2009\",\"type\":\"UnionRenderers\"},{\"attributes\":{\"fill_alpha\":{\"value\":0.2},\"fill_color\":{\"field\":\"color\",\"transform\":{\"id\":\"1995\"}},\"hatch_alpha\":{\"value\":0.2},\"hatch_color\":{\"field\":\"color\",\"transform\":{\"id\":\"1995\"}},\"line_alpha\":{\"value\":0.2},\"line_color\":{\"field\":\"color\",\"transform\":{\"id\":\"1995\"}},\"size\":{\"value\":5.477225575051661},\"x\":{\"field\":\"Longitude\"},\"y\":{\"field\":\"Latitude\"}},\"id\":\"2003\",\"type\":\"Scatter\"},{\"attributes\":{},\"id\":\"1949\",\"type\":\"SaveTool\"},{\"attributes\":{\"margin\":[5,5,5,5],\"name\":\"HSpacer04851\",\"sizing_mode\":\"stretch_width\"},\"id\":\"2070\",\"type\":\"Spacer\"},{\"attributes\":{\"attribution\":\"&copy; <a href=\\\"https://www.openstreetmap.org/copyright\\\">OpenStreetMap</a> contributors\",\"url\":\"https://c.tile.openstreetmap.org/{Z}/{X}/{Y}.png\"},\"id\":\"1990\",\"type\":\"WMTSTileSource\"}],\"root_ids\":[\"1919\"]},\"title\":\"Bokeh Application\",\"version\":\"2.4.2\"}};\n",
       "    var render_items = [{\"docid\":\"24216c55-8be7-493e-9297-b13f3933fd1f\",\"root_ids\":[\"1919\"],\"roots\":{\"1919\":\"8329a965-d36d-46d6-a545-eb64161e61ad\"}}];\n",
       "    root.Bokeh.embed.embed_items_notebook(docs_json, render_items);\n",
       "  }\n",
       "  if (root.Bokeh !== undefined && root.Bokeh.Panel !== undefined) {\n",
       "    embed_document(root);\n",
       "  } else {\n",
       "    var attempts = 0;\n",
       "    var timer = setInterval(function(root) {\n",
       "      if (root.Bokeh !== undefined && root.Bokeh.Panel !== undefined) {\n",
       "        clearInterval(timer);\n",
       "        embed_document(root);\n",
       "      } else if (document.readyState == \"complete\") {\n",
       "        attempts++;\n",
       "        if (attempts > 200) {\n",
       "          clearInterval(timer);\n",
       "          console.log(\"Bokeh: ERROR: Unable to run BokehJS code because BokehJS library is missing\");\n",
       "        }\n",
       "      }\n",
       "    }, 25, root)\n",
       "  }\n",
       "})(window);</script>"
      ],
      "text/plain": [
       ":Overlay\n",
       "   .Tiles.I  :Tiles   [x,y]\n",
       "   .Points.I :Points   [Longitude,Latitude]   (Name)"
      ]
     },
     "execution_count": 11,
     "metadata": {
      "application/vnd.holoviews_exec.v0+json": {
       "id": "1919"
      }
     },
     "output_type": "execute_result"
    }
   ],
   "source": [
    "# Plot all of the NYC places of interest\n",
    "# Set the color parameter to Name\n",
    "# Set alpha to 0.8\n",
    "# Set tiles to 'OSM'\n",
    "# Set frame_width = 700\n",
    "# Set frame_height = 500\n",
    "places_of_interest_by_name = places_of_interest.hvplot.points(\n",
    "    'Longitude',\n",
    "    'Latitude',\n",
    "    geo=True,\n",
    "    alpha=0.8,\n",
    "    color='Name',\n",
    "    tiles='OSM',\n",
    "    frame_width = 700,\n",
    "    frame_height = 500\n",
    ")\n",
    "\n",
    "# Show the plot\n",
    "places_of_interest_by_name"
   ]
  },
  {
   "cell_type": "markdown",
   "metadata": {},
   "source": [
    "### Step 3: Plot All Places of Interest by Place Type"
   ]
  },
  {
   "cell_type": "code",
   "execution_count": 14,
   "metadata": {},
   "outputs": [
    {
     "data": {},
     "metadata": {},
     "output_type": "display_data"
    },
    {
     "data": {
      "application/vnd.holoviews_exec.v0+json": "",
      "text/html": [
       "<div id='2468'>\n",
       "\n",
       "\n",
       "\n",
       "\n",
       "\n",
       "  <div class=\"bk-root\" id=\"0f7618ee-dc2c-48dd-a512-8f1032e8e33f\" data-root-id=\"2468\"></div>\n",
       "</div>\n",
       "<script type=\"application/javascript\">(function(root) {\n",
       "  function embed_document(root) {\n",
       "    var docs_json = {\"fad6c33d-92c5-471e-8d36-557741f20d48\":{\"defs\":[{\"extends\":null,\"module\":null,\"name\":\"ReactiveHTML1\",\"overrides\":[],\"properties\":[]},{\"extends\":null,\"module\":null,\"name\":\"FlexBox1\",\"overrides\":[],\"properties\":[{\"default\":\"flex-start\",\"kind\":null,\"name\":\"align_content\"},{\"default\":\"flex-start\",\"kind\":null,\"name\":\"align_items\"},{\"default\":\"row\",\"kind\":null,\"name\":\"flex_direction\"},{\"default\":\"wrap\",\"kind\":null,\"name\":\"flex_wrap\"},{\"default\":\"flex-start\",\"kind\":null,\"name\":\"justify_content\"}]},{\"extends\":null,\"module\":null,\"name\":\"TemplateActions1\",\"overrides\":[],\"properties\":[{\"default\":0,\"kind\":null,\"name\":\"open_modal\"},{\"default\":0,\"kind\":null,\"name\":\"close_modal\"}]},{\"extends\":null,\"module\":null,\"name\":\"MaterialTemplateActions1\",\"overrides\":[],\"properties\":[{\"default\":0,\"kind\":null,\"name\":\"open_modal\"},{\"default\":0,\"kind\":null,\"name\":\"close_modal\"}]}],\"roots\":{\"references\":[{\"attributes\":{\"zoom_on_axis\":false},\"id\":\"2500\",\"type\":\"WheelZoomTool\"},{\"attributes\":{\"fill_alpha\":{\"value\":0.8},\"fill_color\":{\"field\":\"color\",\"transform\":{\"id\":\"2544\"}},\"hatch_alpha\":{\"value\":0.1},\"hatch_color\":{\"field\":\"color\",\"transform\":{\"id\":\"2544\"}},\"line_alpha\":{\"value\":0.8},\"line_color\":{\"field\":\"color\",\"transform\":{\"id\":\"2544\"}},\"size\":{\"value\":5.477225575051661},\"x\":{\"field\":\"Longitude\"},\"y\":{\"field\":\"Latitude\"}},\"id\":\"2549\",\"type\":\"Scatter\"},{\"attributes\":{},\"id\":\"2499\",\"type\":\"PanTool\"},{\"attributes\":{},\"id\":\"2546\",\"type\":\"Selection\"},{\"attributes\":{\"match_aspect\":true,\"overlay\":{\"id\":\"2503\"}},\"id\":\"2501\",\"type\":\"BoxZoomTool\"},{\"attributes\":{\"coordinates\":null,\"group\":null,\"text_color\":\"black\",\"text_font_size\":\"12pt\"},\"id\":\"2482\",\"type\":\"Title\"},{\"attributes\":{\"dimension\":\"lon\"},\"id\":\"2514\",\"type\":\"MercatorTickFormatter\"},{\"attributes\":{},\"id\":\"2519\",\"type\":\"AllLabels\"},{\"attributes\":{},\"id\":\"2526\",\"type\":\"AllLabels\"},{\"attributes\":{\"data\":{\"Latitude\":{\"__ndarray__\":\"1cxBK+0PU0EFkxUdBA9TQcMRDNWYDlNBXEPLS04NU0Fj/NYvWwtTQWcWH6ATClNBhHQWn3IFU0Gw21nzKARTQe/w925RBFNBHT83h6AHU0HEPWjhIwlTQU5VGKx6CVNBIQmrgr8DU0FUgp4ceQxTQdiHhXImC1NBVR+zxfIAU0E2n8zEmAJTQWQ2bGSDAVNBNgXi4df/UkFG10dTpP9SQRcytaaD/VJBzRE1xxL8UkE3tSfizPlSQZpHk1zo+FJBpyJdeTvyUkFyx/lLv/ZSQRIB5IfE/lJBPJgPq3DvUkEGDhf6Me5SQWCzB1bg7FJB4fjBHSLsUkHbdt/IT+1SQQSrS/ck61JB+RezdHrmUkGlbd0gEOdSQQ15ZjdR6FJB/Rk/I+flUkFBoIoDLeRSQRnpizkS6VJBtCupfsPvUkFIEKZefvBSQfOrjj/b7FJBzBzON+rvUkFrxoU9BPJSQaedhvlD9FJBNC8wVifzUkF7uaSy7PVSQUFakBRB9VJBkJXlI732UkG5rCM5q/ZSQQheUTKB9VJBSfFpQrjxUkGNe8lDM/lSQXVLmcqj+FJB+AQR/iT6UkF2Wbv56fdSQfPcn04HAVNBRiKYmJn/UkGK0c35+/1SQRgb0XNy+1JB2jwSeij7UkG8Hlou6QJTQdk20LOJ+FJBPUxXNBH5UkErzkwSWfhSQewpz+/S4FJBBMYy6+3fUkHNCCTvUPJSQUlrjmyi81JBABEW5XrrUkEwHls8VOlSQbV1qMkD6FJB4w0CngzmUkGL3Nkx2OBSQaYAgPMK3lJBtTMravLiUkFC4KPq3eJSQa5wHZ+C5VJB5WLTYpXbUkGMYLAQOdpSQWiz2Ah/2FJBK3H4Zw3XUkFgPElCb95SQaYL8y214VJBo0XGBQTjUkFnaLheTuxSQYiKYu+R/lJBTmCtk7LoUkH4MYvrSONSQX2nd1IN5FJBrgdEGb7vUkHWHNvv/vxSQa60sW1dD1NBZylGtKvzUkEv0DQ6/OtSQRmBvh8O7FJB\",\"dtype\":\"float64\",\"order\":\"little\",\"shape\":[96]},\"Longitude\":{\"__ndarray__\":\"MMxcTIBgX8Gg8uiknl5fwZEnBwEIW1/BhZa9Z+VXX8GuyW7mV19fwc1/1e0eX1/BJUQxHKtaX8G1PV23ZlpfwTbGXiytXl/Bkhwb/xJhX8GtiwZ1Al9fwUos9vOKU1/BfFpV0vpiX8EONZozjGRfwalqsXArZV/B9ePZ39NfX8EfPlliV2ZfwV6DY3wPZF/B9xEPw/VkX8Flx03K1mhfwYW4t+qaal/BbRQ255dqX8G03bp5RmtfwUDg7NuGa1/BW8o2WZJuX8E8ovo5WmdfwY368P5WZF/ByFS+1uNoX8HCEcpDNmlfwRgcX4+Ia1/B30+0VstlX8Fwpf6Jl25fwXmkv7gVcF/BWqK21rNvX8G9Le31sm5fwfIHQtvmaV/BvroF6FFkX8EipVn0n2BfwaOD+/F+YV/BcpOS2ihaX8GvmzoLz1xfwSK8dmynUV/BGVO3emhVX8EetycLylNfwb4ogozQW1/B8z2YnhtfX8HQkxTQHF5fwQLDWFk4Y1/BujBU0UJhX8ELwEPCfF9fwe1JNEpXYF/BUWbDAH9QX8GYd68vVVtfwfzQ5ucgWl/BJ/abxEZXX8FOW3y5dlNfwS+hwJ5VVF/B4HXbr55VX8G3jQDWdVNfwYgvybHFUF/BHpUQKXhPX8EBS5QgFVZfwVlFaE/6ZF/BDGWLeyFjX8F/wrTKj2JfwTgK3MacXl/BHp8JrCVhX8HEVozHfnFfwRO1BpvwcF/BiUXayMl3X8E+96Fg23ZfwR+hPlGbeF/BPOLHfPdyX8Fg6vj9UHdfwcisvyk6el/BCwpgoFR5X8HwGwNxEHxfwWNVeo/GfV/Bw5t0q6J/X8FgB3jcfYFfwXz+ZUVHhF/BIlEaGpiHX8GFY0y53IJfwRntScDEgV/Br3P7bVhjX8HIC5n1TlVfwZcJWtXnXl/B6QdxObBZX8EDahsf42tfwQmJh8wQeV/B8qGHHC1tX8E63SQRiWFfwR7Zw/GHY1/BQmKV7KVdX8Emb1oW5l1fwWuBNv+iW1/B\",\"dtype\":\"float64\",\"order\":\"little\",\"shape\":[96]},\"PlaceType\":[\"Park\",\"Cemetery\",\"Park\",\"Park\",\"Garden\",\"Park\",\"Cemetery\",\"Park\",\"Park\",\"Park\",\"Park\",\"Island\",\"Park\",\"Hill Park\",\"Park\",\"Island\",\"Park\",\"Park\",\"Park\",\"Park\",\"Circle\",\"Square\",\"Square\",\"Square\",\"Island\",\"Park\",\"Park\",\"Garden\",\"Park\",\"Cemetery\",\"Cemetery\",\"Terminal\",\"Park\",\"Hamilton\",\"Park\",\"Cemetery\",\"Park\",\"Field\",\"Park\",\"Track\",\"Cemetery\",\"Park\",\"Park\",\"Park\",\"nan\",\"Cemetery\",\"Cemetery\",\"Cemetery\",\"Cemetery\",\"Park\",\"Cemetery\",\"Cemetery\",\"Corona\",\"Cemetery\",\"nan\",\"Park\",\"Totten\",\"Park\",\"Park\",\"Park\",\"Park\",\"Schuyler\",\"Cemetery\",\"Cemetery\",\"Cemetery\",\"Park\",\"Tilden\",\"Island\",\"Island\",\"Harbor\",\"Park\",\"Park\",\"Wadsworth\",\"Field\",\"Park\",\"Cemetery\",\"Park\",\"Park\",\"Park\",\"Park\",\"Loretto\",\"Park\",\"Golf\",\"Kills\",\"Beach\",\"International Airport\",\"nan\",\"Wildlife Refuge\",\"Park\",\"Park\",\"Park\",\"Cemetery\",\"Park\",\"nan\",\"Park\",\"Park\"],\"color\":[\"Park\",\"Cemetery\",\"Park\",\"Park\",\"Garden\",\"Park\",\"Cemetery\",\"Park\",\"Park\",\"Park\",\"Park\",\"Island\",\"Park\",\"Hill Park\",\"Park\",\"Island\",\"Park\",\"Park\",\"Park\",\"Park\",\"Circle\",\"Square\",\"Square\",\"Square\",\"Island\",\"Park\",\"Park\",\"Garden\",\"Park\",\"Cemetery\",\"Cemetery\",\"Terminal\",\"Park\",\"Hamilton\",\"Park\",\"Cemetery\",\"Park\",\"Field\",\"Park\",\"Track\",\"Cemetery\",\"Park\",\"Park\",\"Park\",\"nan\",\"Cemetery\",\"Cemetery\",\"Cemetery\",\"Cemetery\",\"Park\",\"Cemetery\",\"Cemetery\",\"Corona\",\"Cemetery\",\"nan\",\"Park\",\"Totten\",\"Park\",\"Park\",\"Park\",\"Park\",\"Schuyler\",\"Cemetery\",\"Cemetery\",\"Cemetery\",\"Park\",\"Tilden\",\"Island\",\"Island\",\"Harbor\",\"Park\",\"Park\",\"Wadsworth\",\"Field\",\"Park\",\"Cemetery\",\"Park\",\"Park\",\"Park\",\"Park\",\"Loretto\",\"Park\",\"Golf\",\"Kills\",\"Beach\",\"International Airport\",\"nan\",\"Wildlife Refuge\",\"Park\",\"Park\",\"Park\",\"Cemetery\",\"Park\",\"nan\",\"Park\",\"Park\"]},\"selected\":{\"id\":\"2546\"},\"selection_policy\":{\"id\":\"2558\"}},\"id\":\"2545\",\"type\":\"ColumnDataSource\"},{\"attributes\":{},\"id\":\"2502\",\"type\":\"ResetTool\"},{\"attributes\":{\"code\":\"\\n        var projections = Bokeh.require(\\\"core/util/projections\\\");\\n        var x = special_vars.data_x\\n        var y = special_vars.data_y\\n        if (projections.wgs84_mercator.invert == null) {\\n          var coords = projections.wgs84_mercator.inverse([x, y])\\n        } else {\\n          var coords = projections.wgs84_mercator.invert(x, y)\\n        }\\n        return \\\"\\\" + (coords[0]).toFixed(4)\\n    \"},\"id\":\"2563\",\"type\":\"CustomJSHover\"},{\"attributes\":{},\"id\":\"2486\",\"type\":\"LinearScale\"},{\"attributes\":{\"end\":5002868.404392054,\"min_interval\":5,\"reset_end\":5002868.404392054,\"reset_start\":4932981.895163525,\"start\":4932981.895163525,\"tags\":[[[\"Latitude\",\"Latitude\",null]]]},\"id\":\"2475\",\"type\":\"Range1d\"},{\"attributes\":{\"tools\":[{\"id\":\"2478\"},{\"id\":\"2498\"},{\"id\":\"2499\"},{\"id\":\"2500\"},{\"id\":\"2501\"},{\"id\":\"2502\"}]},\"id\":\"2504\",\"type\":\"Toolbar\"},{\"attributes\":{\"attribution\":\"&copy; <a href=\\\"https://www.openstreetmap.org/copyright\\\">OpenStreetMap</a> contributors\",\"url\":\"https://c.tile.openstreetmap.org/{Z}/{X}/{Y}.png\"},\"id\":\"2539\",\"type\":\"WMTSTileSource\"},{\"attributes\":{\"margin\":[5,5,5,5],\"name\":\"HSpacer05976\",\"sizing_mode\":\"stretch_width\"},\"id\":\"2619\",\"type\":\"Spacer\"},{\"attributes\":{\"children\":[{\"id\":\"2469\"},{\"id\":\"2481\"},{\"id\":\"2619\"}],\"margin\":[0,0,0,0],\"name\":\"Row05971\",\"tags\":[\"embedded\"]},\"id\":\"2468\",\"type\":\"Row\"},{\"attributes\":{\"axis\":{\"id\":\"2490\"},\"coordinates\":null,\"grid_line_color\":null,\"group\":null,\"ticker\":null},\"id\":\"2493\",\"type\":\"Grid\"},{\"attributes\":{},\"id\":\"2558\",\"type\":\"UnionRenderers\"},{\"attributes\":{\"margin\":[5,5,5,5],\"name\":\"HSpacer05975\",\"sizing_mode\":\"stretch_width\"},\"id\":\"2469\",\"type\":\"Spacer\"},{\"attributes\":{\"bottom_units\":\"screen\",\"coordinates\":null,\"fill_alpha\":0.5,\"fill_color\":\"lightgrey\",\"group\":null,\"left_units\":\"screen\",\"level\":\"overlay\",\"line_alpha\":1.0,\"line_color\":\"black\",\"line_dash\":[4,4],\"line_width\":2,\"right_units\":\"screen\",\"syncable\":false,\"top_units\":\"screen\"},\"id\":\"2503\",\"type\":\"BoxAnnotation\"},{\"attributes\":{},\"id\":\"2488\",\"type\":\"LinearScale\"},{\"attributes\":{\"axis_label\":\"y\",\"coordinates\":null,\"formatter\":{\"id\":\"2516\"},\"group\":null,\"major_label_policy\":{\"id\":\"2526\"},\"ticker\":{\"id\":\"2515\"}},\"id\":\"2494\",\"type\":\"LinearAxis\"},{\"attributes\":{\"dimension\":\"lon\"},\"id\":\"2513\",\"type\":\"MercatorTicker\"},{\"attributes\":{\"axis_label\":\"x\",\"coordinates\":null,\"formatter\":{\"id\":\"2514\"},\"group\":null,\"major_label_policy\":{\"id\":\"2519\"},\"ticker\":{\"id\":\"2513\"}},\"id\":\"2490\",\"type\":\"LinearAxis\"},{\"attributes\":{\"coordinates\":null,\"group\":null,\"level\":\"glyph\",\"tile_source\":{\"id\":\"2539\"}},\"id\":\"2542\",\"type\":\"TileRenderer\"},{\"attributes\":{\"label\":{\"field\":\"color\"},\"renderers\":[{\"id\":\"2553\"}]},\"id\":\"2562\",\"type\":\"LegendItem\"},{\"attributes\":{\"fill_alpha\":{\"value\":0.2},\"fill_color\":{\"field\":\"color\",\"transform\":{\"id\":\"2544\"}},\"hatch_alpha\":{\"value\":0.2},\"hatch_color\":{\"field\":\"color\",\"transform\":{\"id\":\"2544\"}},\"line_alpha\":{\"value\":0.2},\"line_color\":{\"field\":\"color\",\"transform\":{\"id\":\"2544\"}},\"size\":{\"value\":5.477225575051661},\"x\":{\"field\":\"Longitude\"},\"y\":{\"field\":\"Latitude\"}},\"id\":\"2552\",\"type\":\"Scatter\"},{\"attributes\":{\"dimension\":\"lat\"},\"id\":\"2515\",\"type\":\"MercatorTicker\"},{\"attributes\":{\"axis\":{\"id\":\"2494\"},\"coordinates\":null,\"dimension\":1,\"grid_line_color\":null,\"group\":null,\"ticker\":null},\"id\":\"2497\",\"type\":\"Grid\"},{\"attributes\":{\"source\":{\"id\":\"2545\"}},\"id\":\"2554\",\"type\":\"CDSView\"},{\"attributes\":{\"code\":\"\\n        var projections = Bokeh.require(\\\"core/util/projections\\\");\\n        var x = special_vars.data_x\\n        var y = special_vars.data_y\\n        if (projections.wgs84_mercator.invert == null) {\\n          var coords = projections.wgs84_mercator.inverse([x, y])\\n        } else {\\n          var coords = projections.wgs84_mercator.invert(x, y)\\n        }\\n        return \\\"\\\" + (coords[1]).toFixed(4)\\n    \"},\"id\":\"2564\",\"type\":\"CustomJSHover\"},{\"attributes\":{\"fill_alpha\":{\"value\":0.8},\"fill_color\":{\"field\":\"color\",\"transform\":{\"id\":\"2544\"}},\"hatch_alpha\":{\"value\":0.8},\"hatch_color\":{\"field\":\"color\",\"transform\":{\"id\":\"2544\"}},\"line_alpha\":{\"value\":0.8},\"line_color\":{\"field\":\"color\",\"transform\":{\"id\":\"2544\"}},\"size\":{\"value\":5.477225575051661},\"x\":{\"field\":\"Longitude\"},\"y\":{\"field\":\"Latitude\"}},\"id\":\"2548\",\"type\":\"Scatter\"},{\"attributes\":{\"callback\":null,\"formatters\":{\"$x\":{\"id\":\"2563\"},\"$y\":{\"id\":\"2564\"}},\"renderers\":[{\"id\":\"2553\"}],\"tags\":[\"hv_created\"],\"tooltips\":[[\"Longitude\",\"$x{custom}\"],[\"Latitude\",\"$y{custom}\"],[\"PlaceType\",\"@{PlaceType}\"]]},\"id\":\"2478\",\"type\":\"HoverTool\"},{\"attributes\":{\"dimension\":\"lat\"},\"id\":\"2516\",\"type\":\"MercatorTickFormatter\"},{\"attributes\":{\"fill_alpha\":{\"value\":0.8},\"fill_color\":{\"field\":\"color\",\"transform\":{\"id\":\"2544\"}},\"hatch_alpha\":{\"value\":0.8},\"hatch_color\":{\"field\":\"color\",\"transform\":{\"id\":\"2544\"}},\"line_alpha\":{\"value\":0.8},\"line_color\":{\"field\":\"color\",\"transform\":{\"id\":\"2544\"}},\"size\":{\"value\":5.477225575051661},\"x\":{\"field\":\"Longitude\"},\"y\":{\"field\":\"Latitude\"}},\"id\":\"2550\",\"type\":\"Scatter\"},{\"attributes\":{\"factors\":[\"Park\",\"Cemetery\",\"Garden\",\"Island\",\"Hill Park\",\"Circle\",\"Square\",\"Terminal\",\"Hamilton\",\"Field\",\"Track\",\"nan\",\"Corona\",\"Totten\",\"Schuyler\",\"Tilden\",\"Harbor\",\"Wadsworth\",\"Loretto\",\"Golf\",\"Kills\",\"Beach\",\"International Airport\",\"Wildlife Refuge\"],\"palette\":[\"#1f77b3\",\"#ff7e0e\",\"#2ba02b\",\"#d62628\",\"#9367bc\",\"#8c564b\",\"#e277c1\",\"#7e7e7e\",\"#bcbc21\",\"#16bdcf\",\"#3a0182\",\"#004201\",\"#0fffa8\",\"#5d003f\",\"#bcbcff\",\"#d8afa1\",\"#b80080\",\"#004d52\",\"#6b6400\",\"#7c0100\",\"#6026ff\",\"#ffff9a\",\"#564964\",\"#8cb893\"]},\"id\":\"2544\",\"type\":\"CategoricalColorMapper\"},{\"attributes\":{\"below\":[{\"id\":\"2490\"}],\"center\":[{\"id\":\"2493\"},{\"id\":\"2497\"}],\"frame_height\":500,\"frame_width\":700,\"height\":null,\"left\":[{\"id\":\"2494\"}],\"margin\":[5,5,5,5],\"match_aspect\":true,\"min_border_bottom\":10,\"min_border_left\":10,\"min_border_right\":10,\"min_border_top\":10,\"renderers\":[{\"id\":\"2542\"},{\"id\":\"2553\"}],\"right\":[{\"id\":\"2561\"}],\"sizing_mode\":\"fixed\",\"title\":{\"id\":\"2482\"},\"toolbar\":{\"id\":\"2504\"},\"width\":null,\"x_range\":{\"id\":\"2474\"},\"x_scale\":{\"id\":\"2486\"},\"y_range\":{\"id\":\"2475\"},\"y_scale\":{\"id\":\"2488\"}},\"id\":\"2481\",\"subtype\":\"Figure\",\"type\":\"Plot\"},{\"attributes\":{\"click_policy\":\"mute\",\"coordinates\":null,\"group\":null,\"items\":[{\"id\":\"2562\"}],\"location\":[0,0]},\"id\":\"2561\",\"type\":\"Legend\"},{\"attributes\":{\"fill_alpha\":{\"value\":0.8},\"fill_color\":{\"field\":\"color\",\"transform\":{\"id\":\"2544\"}},\"hatch_alpha\":{\"value\":0.8},\"hatch_color\":{\"field\":\"color\",\"transform\":{\"id\":\"2544\"}},\"line_alpha\":{\"value\":0.8},\"line_color\":{\"field\":\"color\",\"transform\":{\"id\":\"2544\"}},\"size\":{\"value\":5.477225575051661},\"x\":{\"field\":\"Longitude\"},\"y\":{\"field\":\"Latitude\"}},\"id\":\"2551\",\"type\":\"Scatter\"},{\"attributes\":{},\"id\":\"2498\",\"type\":\"SaveTool\"},{\"attributes\":{\"coordinates\":null,\"data_source\":{\"id\":\"2545\"},\"glyph\":{\"id\":\"2548\"},\"group\":null,\"hover_glyph\":{\"id\":\"2551\"},\"muted_glyph\":{\"id\":\"2552\"},\"nonselection_glyph\":{\"id\":\"2549\"},\"selection_glyph\":{\"id\":\"2550\"},\"view\":{\"id\":\"2554\"}},\"id\":\"2553\",\"type\":\"GlyphRenderer\"},{\"attributes\":{\"end\":-8187655.96828672,\"min_interval\":5,\"reset_end\":-8187655.96828672,\"reset_start\":-8285497.081206661,\"start\":-8285497.081206661,\"tags\":[[[\"Longitude\",\"Longitude\",null]]]},\"id\":\"2474\",\"type\":\"Range1d\"}],\"root_ids\":[\"2468\"]},\"title\":\"Bokeh Application\",\"version\":\"2.4.2\"}};\n",
       "    var render_items = [{\"docid\":\"fad6c33d-92c5-471e-8d36-557741f20d48\",\"root_ids\":[\"2468\"],\"roots\":{\"2468\":\"0f7618ee-dc2c-48dd-a512-8f1032e8e33f\"}}];\n",
       "    root.Bokeh.embed.embed_items_notebook(docs_json, render_items);\n",
       "  }\n",
       "  if (root.Bokeh !== undefined && root.Bokeh.Panel !== undefined) {\n",
       "    embed_document(root);\n",
       "  } else {\n",
       "    var attempts = 0;\n",
       "    var timer = setInterval(function(root) {\n",
       "      if (root.Bokeh !== undefined && root.Bokeh.Panel !== undefined) {\n",
       "        clearInterval(timer);\n",
       "        embed_document(root);\n",
       "      } else if (document.readyState == \"complete\") {\n",
       "        attempts++;\n",
       "        if (attempts > 200) {\n",
       "          clearInterval(timer);\n",
       "          console.log(\"Bokeh: ERROR: Unable to run BokehJS code because BokehJS library is missing\");\n",
       "        }\n",
       "      }\n",
       "    }, 25, root)\n",
       "  }\n",
       "})(window);</script>"
      ],
      "text/plain": [
       ":Overlay\n",
       "   .Tiles.I  :Tiles   [x,y]\n",
       "   .Points.I :Points   [Longitude,Latitude]   (PlaceType)"
      ]
     },
     "execution_count": 14,
     "metadata": {
      "application/vnd.holoviews_exec.v0+json": {
       "id": "2468"
      }
     },
     "output_type": "execute_result"
    }
   ],
   "source": [
    "# Plot all of the NYC places of interest\n",
    "# Set the color parameter to PlaceType\n",
    "# Keep all other parameters the same as the previous plot\n",
    "\n",
    "places_of_interest_by_type = places_of_interest.hvplot.points(\n",
    "    'Longitude',\n",
    "    'Latitude',\n",
    "    geo=True,\n",
    "    alpha=0.8,\n",
    "    color='PlaceType',\n",
    "    tiles='OSM',\n",
    "    frame_width = 700,\n",
    "    frame_height = 500\n",
    ")\n",
    "\n",
    "# Show the plot\n",
    "places_of_interest_by_type"
   ]
  },
  {
   "cell_type": "markdown",
   "metadata": {},
   "source": [
    "### Step 4: Plot All Places of Interest by Borough"
   ]
  },
  {
   "cell_type": "code",
   "execution_count": 15,
   "metadata": {},
   "outputs": [
    {
     "data": {},
     "metadata": {},
     "output_type": "display_data"
    },
    {
     "data": {
      "application/vnd.holoviews_exec.v0+json": "",
      "text/html": [
       "<div id='2651'>\n",
       "\n",
       "\n",
       "\n",
       "\n",
       "\n",
       "  <div class=\"bk-root\" id=\"310892ab-81e1-437a-8214-cf7d07bfd766\" data-root-id=\"2651\"></div>\n",
       "</div>\n",
       "<script type=\"application/javascript\">(function(root) {\n",
       "  function embed_document(root) {\n",
       "    var docs_json = {\"3f1b4c4b-862d-4a69-8da4-aa4b3eab92a5\":{\"defs\":[{\"extends\":null,\"module\":null,\"name\":\"ReactiveHTML1\",\"overrides\":[],\"properties\":[]},{\"extends\":null,\"module\":null,\"name\":\"FlexBox1\",\"overrides\":[],\"properties\":[{\"default\":\"flex-start\",\"kind\":null,\"name\":\"align_content\"},{\"default\":\"flex-start\",\"kind\":null,\"name\":\"align_items\"},{\"default\":\"row\",\"kind\":null,\"name\":\"flex_direction\"},{\"default\":\"wrap\",\"kind\":null,\"name\":\"flex_wrap\"},{\"default\":\"flex-start\",\"kind\":null,\"name\":\"justify_content\"}]},{\"extends\":null,\"module\":null,\"name\":\"TemplateActions1\",\"overrides\":[],\"properties\":[{\"default\":0,\"kind\":null,\"name\":\"open_modal\"},{\"default\":0,\"kind\":null,\"name\":\"close_modal\"}]},{\"extends\":null,\"module\":null,\"name\":\"MaterialTemplateActions1\",\"overrides\":[],\"properties\":[{\"default\":0,\"kind\":null,\"name\":\"open_modal\"},{\"default\":0,\"kind\":null,\"name\":\"close_modal\"}]}],\"roots\":{\"references\":[{\"attributes\":{\"fill_alpha\":{\"value\":0.8},\"fill_color\":{\"field\":\"color\",\"transform\":{\"id\":\"2727\"}},\"hatch_alpha\":{\"value\":0.8},\"hatch_color\":{\"field\":\"color\",\"transform\":{\"id\":\"2727\"}},\"line_alpha\":{\"value\":0.8},\"line_color\":{\"field\":\"color\",\"transform\":{\"id\":\"2727\"}},\"size\":{\"value\":5.477225575051661},\"x\":{\"field\":\"Longitude\"},\"y\":{\"field\":\"Latitude\"}},\"id\":\"2734\",\"type\":\"Scatter\"},{\"attributes\":{\"dimension\":\"lon\"},\"id\":\"2696\",\"type\":\"MercatorTicker\"},{\"attributes\":{\"label\":{\"field\":\"color\"},\"renderers\":[{\"id\":\"2736\"}]},\"id\":\"2745\",\"type\":\"LegendItem\"},{\"attributes\":{\"fill_alpha\":{\"value\":0.8},\"fill_color\":{\"field\":\"color\",\"transform\":{\"id\":\"2727\"}},\"hatch_alpha\":{\"value\":0.8},\"hatch_color\":{\"field\":\"color\",\"transform\":{\"id\":\"2727\"}},\"line_alpha\":{\"value\":0.8},\"line_color\":{\"field\":\"color\",\"transform\":{\"id\":\"2727\"}},\"size\":{\"value\":5.477225575051661},\"x\":{\"field\":\"Longitude\"},\"y\":{\"field\":\"Latitude\"}},\"id\":\"2733\",\"type\":\"Scatter\"},{\"attributes\":{\"callback\":null,\"formatters\":{\"$x\":{\"id\":\"2746\"},\"$y\":{\"id\":\"2747\"}},\"renderers\":[{\"id\":\"2736\"}],\"tags\":[\"hv_created\"],\"tooltips\":[[\"Longitude\",\"$x{custom}\"],[\"Latitude\",\"$y{custom}\"],[\"Borough\",\"@{Borough}\"]]},\"id\":\"2661\",\"type\":\"HoverTool\"},{\"attributes\":{\"dimension\":\"lat\"},\"id\":\"2698\",\"type\":\"MercatorTicker\"},{\"attributes\":{},\"id\":\"2709\",\"type\":\"AllLabels\"},{\"attributes\":{\"coordinates\":null,\"data_source\":{\"id\":\"2728\"},\"glyph\":{\"id\":\"2731\"},\"group\":null,\"hover_glyph\":{\"id\":\"2734\"},\"muted_glyph\":{\"id\":\"2735\"},\"nonselection_glyph\":{\"id\":\"2732\"},\"selection_glyph\":{\"id\":\"2733\"},\"view\":{\"id\":\"2737\"}},\"id\":\"2736\",\"type\":\"GlyphRenderer\"},{\"attributes\":{\"data\":{\"Borough\":[\"Bronx\",\"Bronx\",\"Bronx\",\"Bronx\",\"Bronx\",\"Bronx\",\"Bronx\",\"Bronx\",\"Bronx\",\"Bronx\",\"Bronx\",\"Bronx\",\"Bronx\",\"Manhattan\",\"Manhattan\",\"Queens\",\"Manhattan\",\"Manhattan\",\"Manhattan\",\"Manhattan\",\"Manhattan\",\"Manhattan\",\"Manhattan\",\"Manhattan\",\"Manhattan\",\"Brooklyn\",\"Queens\",\"Brooklyn\",\"Brooklyn\",\"Brooklyn\",\"Brooklyn\",\"Brooklyn\",\"Brooklyn\",\"Brooklyn\",\"Brooklyn\",\"Brooklyn\",\"Brooklyn\",\"Brooklyn\",\"Brooklyn\",\"Queens\",\"Queens\",\"Queens\",\"Queens\",\"Queens\",\"Queens\",\"Queens\",\"Queens\",\"Queens\",\"Queens\",\"Queens\",\"Queens\",\"Queens\",\"Queens\",\"Queens\",\"Queens\",\"Queens\",\"Queens\",\"Queens\",\"Queens\",\"Queens\",\"Queens\",\"Bronx\",\"Queens\",\"Queens\",\"Queens\",\"Queens\",\"Queens\",\"Manhattan\",\"Manhattan\",\"Staten Island\",\"Staten Island\",\"Staten Island\",\"Staten Island\",\"Staten Island\",\"Staten Island\",\"Staten Island\",\"Staten Island\",\"Staten Island\",\"Staten Island\",\"Staten Island\",\"Staten Island\",\"Staten Island\",\"Staten Island\",\"Staten Island\",\"Brooklyn\",\"Queens\",\"Queens\",\"Brooklyn\",\"Brooklyn\",\"Staten Island\",\"Brooklyn\",\"Queens\",\"Bronx\",\"Queens\",\"Brooklyn\",\"Queens\"],\"Latitude\":{\"__ndarray__\":\"1cxBK+0PU0EFkxUdBA9TQcMRDNWYDlNBXEPLS04NU0Fj/NYvWwtTQWcWH6ATClNBhHQWn3IFU0Gw21nzKARTQe/w925RBFNBHT83h6AHU0HEPWjhIwlTQU5VGKx6CVNBIQmrgr8DU0FUgp4ceQxTQdiHhXImC1NBVR+zxfIAU0E2n8zEmAJTQWQ2bGSDAVNBNgXi4df/UkFG10dTpP9SQRcytaaD/VJBzRE1xxL8UkE3tSfizPlSQZpHk1zo+FJBpyJdeTvyUkFyx/lLv/ZSQRIB5IfE/lJBPJgPq3DvUkEGDhf6Me5SQWCzB1bg7FJB4fjBHSLsUkHbdt/IT+1SQQSrS/ck61JB+RezdHrmUkGlbd0gEOdSQQ15ZjdR6FJB/Rk/I+flUkFBoIoDLeRSQRnpizkS6VJBtCupfsPvUkFIEKZefvBSQfOrjj/b7FJBzBzON+rvUkFrxoU9BPJSQaedhvlD9FJBNC8wVifzUkF7uaSy7PVSQUFakBRB9VJBkJXlI732UkG5rCM5q/ZSQQheUTKB9VJBSfFpQrjxUkGNe8lDM/lSQXVLmcqj+FJB+AQR/iT6UkF2Wbv56fdSQfPcn04HAVNBRiKYmJn/UkGK0c35+/1SQRgb0XNy+1JB2jwSeij7UkG8Hlou6QJTQdk20LOJ+FJBPUxXNBH5UkErzkwSWfhSQewpz+/S4FJBBMYy6+3fUkHNCCTvUPJSQUlrjmyi81JBABEW5XrrUkEwHls8VOlSQbV1qMkD6FJB4w0CngzmUkGL3Nkx2OBSQaYAgPMK3lJBtTMravLiUkFC4KPq3eJSQa5wHZ+C5VJB5WLTYpXbUkGMYLAQOdpSQWiz2Ah/2FJBK3H4Zw3XUkFgPElCb95SQaYL8y214VJBo0XGBQTjUkFnaLheTuxSQYiKYu+R/lJBTmCtk7LoUkH4MYvrSONSQX2nd1IN5FJBrgdEGb7vUkHWHNvv/vxSQa60sW1dD1NBZylGtKvzUkEv0DQ6/OtSQRmBvh8O7FJB\",\"dtype\":\"float64\",\"order\":\"little\",\"shape\":[96]},\"Longitude\":{\"__ndarray__\":\"MMxcTIBgX8Gg8uiknl5fwZEnBwEIW1/BhZa9Z+VXX8GuyW7mV19fwc1/1e0eX1/BJUQxHKtaX8G1PV23ZlpfwTbGXiytXl/Bkhwb/xJhX8GtiwZ1Al9fwUos9vOKU1/BfFpV0vpiX8EONZozjGRfwalqsXArZV/B9ePZ39NfX8EfPlliV2ZfwV6DY3wPZF/B9xEPw/VkX8Flx03K1mhfwYW4t+qaal/BbRQ255dqX8G03bp5RmtfwUDg7NuGa1/BW8o2WZJuX8E8ovo5WmdfwY368P5WZF/ByFS+1uNoX8HCEcpDNmlfwRgcX4+Ia1/B30+0VstlX8Fwpf6Jl25fwXmkv7gVcF/BWqK21rNvX8G9Le31sm5fwfIHQtvmaV/BvroF6FFkX8EipVn0n2BfwaOD+/F+YV/BcpOS2ihaX8GvmzoLz1xfwSK8dmynUV/BGVO3emhVX8EetycLylNfwb4ogozQW1/B8z2YnhtfX8HQkxTQHF5fwQLDWFk4Y1/BujBU0UJhX8ELwEPCfF9fwe1JNEpXYF/BUWbDAH9QX8GYd68vVVtfwfzQ5ucgWl/BJ/abxEZXX8FOW3y5dlNfwS+hwJ5VVF/B4HXbr55VX8G3jQDWdVNfwYgvybHFUF/BHpUQKXhPX8EBS5QgFVZfwVlFaE/6ZF/BDGWLeyFjX8F/wrTKj2JfwTgK3MacXl/BHp8JrCVhX8HEVozHfnFfwRO1BpvwcF/BiUXayMl3X8E+96Fg23ZfwR+hPlGbeF/BPOLHfPdyX8Fg6vj9UHdfwcisvyk6el/BCwpgoFR5X8HwGwNxEHxfwWNVeo/GfV/Bw5t0q6J/X8FgB3jcfYFfwXz+ZUVHhF/BIlEaGpiHX8GFY0y53IJfwRntScDEgV/Br3P7bVhjX8HIC5n1TlVfwZcJWtXnXl/B6QdxObBZX8EDahsf42tfwQmJh8wQeV/B8qGHHC1tX8E63SQRiWFfwR7Zw/GHY1/BQmKV7KVdX8Emb1oW5l1fwWuBNv+iW1/B\",\"dtype\":\"float64\",\"order\":\"little\",\"shape\":[96]},\"color\":[\"Bronx\",\"Bronx\",\"Bronx\",\"Bronx\",\"Bronx\",\"Bronx\",\"Bronx\",\"Bronx\",\"Bronx\",\"Bronx\",\"Bronx\",\"Bronx\",\"Bronx\",\"Manhattan\",\"Manhattan\",\"Queens\",\"Manhattan\",\"Manhattan\",\"Manhattan\",\"Manhattan\",\"Manhattan\",\"Manhattan\",\"Manhattan\",\"Manhattan\",\"Manhattan\",\"Brooklyn\",\"Queens\",\"Brooklyn\",\"Brooklyn\",\"Brooklyn\",\"Brooklyn\",\"Brooklyn\",\"Brooklyn\",\"Brooklyn\",\"Brooklyn\",\"Brooklyn\",\"Brooklyn\",\"Brooklyn\",\"Brooklyn\",\"Queens\",\"Queens\",\"Queens\",\"Queens\",\"Queens\",\"Queens\",\"Queens\",\"Queens\",\"Queens\",\"Queens\",\"Queens\",\"Queens\",\"Queens\",\"Queens\",\"Queens\",\"Queens\",\"Queens\",\"Queens\",\"Queens\",\"Queens\",\"Queens\",\"Queens\",\"Bronx\",\"Queens\",\"Queens\",\"Queens\",\"Queens\",\"Queens\",\"Manhattan\",\"Manhattan\",\"Staten Island\",\"Staten Island\",\"Staten Island\",\"Staten Island\",\"Staten Island\",\"Staten Island\",\"Staten Island\",\"Staten Island\",\"Staten Island\",\"Staten Island\",\"Staten Island\",\"Staten Island\",\"Staten Island\",\"Staten Island\",\"Staten Island\",\"Brooklyn\",\"Queens\",\"Queens\",\"Brooklyn\",\"Brooklyn\",\"Staten Island\",\"Brooklyn\",\"Queens\",\"Bronx\",\"Queens\",\"Brooklyn\",\"Queens\"]},\"selected\":{\"id\":\"2729\"},\"selection_policy\":{\"id\":\"2741\"}},\"id\":\"2728\",\"type\":\"ColumnDataSource\"},{\"attributes\":{},\"id\":\"2681\",\"type\":\"SaveTool\"},{\"attributes\":{\"coordinates\":null,\"group\":null,\"text_color\":\"black\",\"text_font_size\":\"12pt\"},\"id\":\"2665\",\"type\":\"Title\"},{\"attributes\":{},\"id\":\"2682\",\"type\":\"PanTool\"},{\"attributes\":{\"fill_alpha\":{\"value\":0.8},\"fill_color\":{\"field\":\"color\",\"transform\":{\"id\":\"2727\"}},\"hatch_alpha\":{\"value\":0.1},\"hatch_color\":{\"field\":\"color\",\"transform\":{\"id\":\"2727\"}},\"line_alpha\":{\"value\":0.8},\"line_color\":{\"field\":\"color\",\"transform\":{\"id\":\"2727\"}},\"size\":{\"value\":5.477225575051661},\"x\":{\"field\":\"Longitude\"},\"y\":{\"field\":\"Latitude\"}},\"id\":\"2732\",\"type\":\"Scatter\"},{\"attributes\":{},\"id\":\"2685\",\"type\":\"ResetTool\"},{\"attributes\":{\"zoom_on_axis\":false},\"id\":\"2683\",\"type\":\"WheelZoomTool\"},{\"attributes\":{\"dimension\":\"lat\"},\"id\":\"2699\",\"type\":\"MercatorTickFormatter\"},{\"attributes\":{\"code\":\"\\n        var projections = Bokeh.require(\\\"core/util/projections\\\");\\n        var x = special_vars.data_x\\n        var y = special_vars.data_y\\n        if (projections.wgs84_mercator.invert == null) {\\n          var coords = projections.wgs84_mercator.inverse([x, y])\\n        } else {\\n          var coords = projections.wgs84_mercator.invert(x, y)\\n        }\\n        return \\\"\\\" + (coords[0]).toFixed(4)\\n    \"},\"id\":\"2746\",\"type\":\"CustomJSHover\"},{\"attributes\":{\"source\":{\"id\":\"2728\"}},\"id\":\"2737\",\"type\":\"CDSView\"},{\"attributes\":{\"margin\":[5,5,5,5],\"name\":\"HSpacer06350\",\"sizing_mode\":\"stretch_width\"},\"id\":\"2652\",\"type\":\"Spacer\"},{\"attributes\":{\"below\":[{\"id\":\"2673\"}],\"center\":[{\"id\":\"2676\"},{\"id\":\"2680\"}],\"frame_height\":500,\"frame_width\":700,\"height\":null,\"left\":[{\"id\":\"2677\"}],\"margin\":[5,5,5,5],\"match_aspect\":true,\"min_border_bottom\":10,\"min_border_left\":10,\"min_border_right\":10,\"min_border_top\":10,\"renderers\":[{\"id\":\"2725\"},{\"id\":\"2736\"}],\"right\":[{\"id\":\"2744\"}],\"sizing_mode\":\"fixed\",\"title\":{\"id\":\"2665\"},\"toolbar\":{\"id\":\"2687\"},\"width\":null,\"x_range\":{\"id\":\"2657\"},\"x_scale\":{\"id\":\"2669\"},\"y_range\":{\"id\":\"2658\"},\"y_scale\":{\"id\":\"2671\"}},\"id\":\"2664\",\"subtype\":\"Figure\",\"type\":\"Plot\"},{\"attributes\":{\"match_aspect\":true,\"overlay\":{\"id\":\"2686\"}},\"id\":\"2684\",\"type\":\"BoxZoomTool\"},{\"attributes\":{},\"id\":\"2741\",\"type\":\"UnionRenderers\"},{\"attributes\":{\"factors\":[\"Bronx\",\"Manhattan\",\"Queens\",\"Brooklyn\",\"Staten Island\"],\"palette\":[\"#1f77b3\",\"#ff7e0e\",\"#2ba02b\",\"#d62628\",\"#9367bc\"]},\"id\":\"2727\",\"type\":\"CategoricalColorMapper\"},{\"attributes\":{\"margin\":[5,5,5,5],\"name\":\"HSpacer06351\",\"sizing_mode\":\"stretch_width\"},\"id\":\"2802\",\"type\":\"Spacer\"},{\"attributes\":{},\"id\":\"2729\",\"type\":\"Selection\"},{\"attributes\":{},\"id\":\"2702\",\"type\":\"AllLabels\"},{\"attributes\":{\"end\":-8187655.96828672,\"min_interval\":5,\"reset_end\":-8187655.96828672,\"reset_start\":-8285497.081206661,\"start\":-8285497.081206661,\"tags\":[[[\"Longitude\",\"Longitude\",null]]]},\"id\":\"2657\",\"type\":\"Range1d\"},{\"attributes\":{},\"id\":\"2669\",\"type\":\"LinearScale\"},{\"attributes\":{\"coordinates\":null,\"group\":null,\"level\":\"glyph\",\"tile_source\":{\"id\":\"2722\"}},\"id\":\"2725\",\"type\":\"TileRenderer\"},{\"attributes\":{\"tools\":[{\"id\":\"2661\"},{\"id\":\"2681\"},{\"id\":\"2682\"},{\"id\":\"2683\"},{\"id\":\"2684\"},{\"id\":\"2685\"}]},\"id\":\"2687\",\"type\":\"Toolbar\"},{\"attributes\":{\"click_policy\":\"mute\",\"coordinates\":null,\"group\":null,\"items\":[{\"id\":\"2745\"}],\"location\":[0,0]},\"id\":\"2744\",\"type\":\"Legend\"},{\"attributes\":{\"fill_alpha\":{\"value\":0.8},\"fill_color\":{\"field\":\"color\",\"transform\":{\"id\":\"2727\"}},\"hatch_alpha\":{\"value\":0.8},\"hatch_color\":{\"field\":\"color\",\"transform\":{\"id\":\"2727\"}},\"line_alpha\":{\"value\":0.8},\"line_color\":{\"field\":\"color\",\"transform\":{\"id\":\"2727\"}},\"size\":{\"value\":5.477225575051661},\"x\":{\"field\":\"Longitude\"},\"y\":{\"field\":\"Latitude\"}},\"id\":\"2731\",\"type\":\"Scatter\"},{\"attributes\":{\"axis\":{\"id\":\"2673\"},\"coordinates\":null,\"grid_line_color\":null,\"group\":null,\"ticker\":null},\"id\":\"2676\",\"type\":\"Grid\"},{\"attributes\":{\"children\":[{\"id\":\"2652\"},{\"id\":\"2664\"},{\"id\":\"2802\"}],\"margin\":[0,0,0,0],\"name\":\"Row06346\",\"tags\":[\"embedded\"]},\"id\":\"2651\",\"type\":\"Row\"},{\"attributes\":{\"end\":5002868.404392054,\"min_interval\":5,\"reset_end\":5002868.404392054,\"reset_start\":4932981.895163525,\"start\":4932981.895163525,\"tags\":[[[\"Latitude\",\"Latitude\",null]]]},\"id\":\"2658\",\"type\":\"Range1d\"},{\"attributes\":{\"bottom_units\":\"screen\",\"coordinates\":null,\"fill_alpha\":0.5,\"fill_color\":\"lightgrey\",\"group\":null,\"left_units\":\"screen\",\"level\":\"overlay\",\"line_alpha\":1.0,\"line_color\":\"black\",\"line_dash\":[4,4],\"line_width\":2,\"right_units\":\"screen\",\"syncable\":false,\"top_units\":\"screen\"},\"id\":\"2686\",\"type\":\"BoxAnnotation\"},{\"attributes\":{},\"id\":\"2671\",\"type\":\"LinearScale\"},{\"attributes\":{\"code\":\"\\n        var projections = Bokeh.require(\\\"core/util/projections\\\");\\n        var x = special_vars.data_x\\n        var y = special_vars.data_y\\n        if (projections.wgs84_mercator.invert == null) {\\n          var coords = projections.wgs84_mercator.inverse([x, y])\\n        } else {\\n          var coords = projections.wgs84_mercator.invert(x, y)\\n        }\\n        return \\\"\\\" + (coords[1]).toFixed(4)\\n    \"},\"id\":\"2747\",\"type\":\"CustomJSHover\"},{\"attributes\":{\"axis_label\":\"y\",\"coordinates\":null,\"formatter\":{\"id\":\"2699\"},\"group\":null,\"major_label_policy\":{\"id\":\"2709\"},\"ticker\":{\"id\":\"2698\"}},\"id\":\"2677\",\"type\":\"LinearAxis\"},{\"attributes\":{\"dimension\":\"lon\"},\"id\":\"2697\",\"type\":\"MercatorTickFormatter\"},{\"attributes\":{\"axis_label\":\"x\",\"coordinates\":null,\"formatter\":{\"id\":\"2697\"},\"group\":null,\"major_label_policy\":{\"id\":\"2702\"},\"ticker\":{\"id\":\"2696\"}},\"id\":\"2673\",\"type\":\"LinearAxis\"},{\"attributes\":{\"fill_alpha\":{\"value\":0.2},\"fill_color\":{\"field\":\"color\",\"transform\":{\"id\":\"2727\"}},\"hatch_alpha\":{\"value\":0.2},\"hatch_color\":{\"field\":\"color\",\"transform\":{\"id\":\"2727\"}},\"line_alpha\":{\"value\":0.2},\"line_color\":{\"field\":\"color\",\"transform\":{\"id\":\"2727\"}},\"size\":{\"value\":5.477225575051661},\"x\":{\"field\":\"Longitude\"},\"y\":{\"field\":\"Latitude\"}},\"id\":\"2735\",\"type\":\"Scatter\"},{\"attributes\":{\"axis\":{\"id\":\"2677\"},\"coordinates\":null,\"dimension\":1,\"grid_line_color\":null,\"group\":null,\"ticker\":null},\"id\":\"2680\",\"type\":\"Grid\"},{\"attributes\":{\"attribution\":\"&copy; <a href=\\\"https://www.openstreetmap.org/copyright\\\">OpenStreetMap</a> contributors\",\"url\":\"https://c.tile.openstreetmap.org/{Z}/{X}/{Y}.png\"},\"id\":\"2722\",\"type\":\"WMTSTileSource\"}],\"root_ids\":[\"2651\"]},\"title\":\"Bokeh Application\",\"version\":\"2.4.2\"}};\n",
       "    var render_items = [{\"docid\":\"3f1b4c4b-862d-4a69-8da4-aa4b3eab92a5\",\"root_ids\":[\"2651\"],\"roots\":{\"2651\":\"310892ab-81e1-437a-8214-cf7d07bfd766\"}}];\n",
       "    root.Bokeh.embed.embed_items_notebook(docs_json, render_items);\n",
       "  }\n",
       "  if (root.Bokeh !== undefined && root.Bokeh.Panel !== undefined) {\n",
       "    embed_document(root);\n",
       "  } else {\n",
       "    var attempts = 0;\n",
       "    var timer = setInterval(function(root) {\n",
       "      if (root.Bokeh !== undefined && root.Bokeh.Panel !== undefined) {\n",
       "        clearInterval(timer);\n",
       "        embed_document(root);\n",
       "      } else if (document.readyState == \"complete\") {\n",
       "        attempts++;\n",
       "        if (attempts > 200) {\n",
       "          clearInterval(timer);\n",
       "          console.log(\"Bokeh: ERROR: Unable to run BokehJS code because BokehJS library is missing\");\n",
       "        }\n",
       "      }\n",
       "    }, 25, root)\n",
       "  }\n",
       "})(window);</script>"
      ],
      "text/plain": [
       ":Overlay\n",
       "   .Tiles.I  :Tiles   [x,y]\n",
       "   .Points.I :Points   [Longitude,Latitude]   (Borough)"
      ]
     },
     "execution_count": 15,
     "metadata": {
      "application/vnd.holoviews_exec.v0+json": {
       "id": "2651"
      }
     },
     "output_type": "execute_result"
    }
   ],
   "source": [
    "# Plot all of the NYC places of interest\n",
    "# Set the color parameter to Borough\n",
    "# Keep all other parameters the same as the previous plot\n",
    "\n",
    "places_of_interest_by_borough = places_of_interest.hvplot.points(\n",
    "    'Longitude',\n",
    "    'Latitude',\n",
    "    geo=True,\n",
    "    alpha=0.8,\n",
    "    color='Borough',\n",
    "    tiles='OSM',\n",
    "    frame_width = 700,\n",
    "    frame_height = 500\n",
    ")\n",
    "\n",
    "# Show the plot\n",
    "places_of_interest_by_borough"
   ]
  },
  {
   "cell_type": "markdown",
   "metadata": {},
   "source": [
    "### Step 5: Plot Parks of Interest"
   ]
  },
  {
   "cell_type": "code",
   "execution_count": 19,
   "metadata": {},
   "outputs": [
    {
     "data": {},
     "metadata": {},
     "output_type": "display_data"
    },
    {
     "data": {
      "application/vnd.holoviews_exec.v0+json": "",
      "text/html": [
       "<div id='2834'>\n",
       "\n",
       "\n",
       "\n",
       "\n",
       "\n",
       "  <div class=\"bk-root\" id=\"ce51a081-2c7c-45d6-ab84-b4f2e5c340c3\" data-root-id=\"2834\"></div>\n",
       "</div>\n",
       "<script type=\"application/javascript\">(function(root) {\n",
       "  function embed_document(root) {\n",
       "    var docs_json = {\"1b438f27-a44d-495c-8bab-a1c1391e878d\":{\"defs\":[{\"extends\":null,\"module\":null,\"name\":\"ReactiveHTML1\",\"overrides\":[],\"properties\":[]},{\"extends\":null,\"module\":null,\"name\":\"FlexBox1\",\"overrides\":[],\"properties\":[{\"default\":\"flex-start\",\"kind\":null,\"name\":\"align_content\"},{\"default\":\"flex-start\",\"kind\":null,\"name\":\"align_items\"},{\"default\":\"row\",\"kind\":null,\"name\":\"flex_direction\"},{\"default\":\"wrap\",\"kind\":null,\"name\":\"flex_wrap\"},{\"default\":\"flex-start\",\"kind\":null,\"name\":\"justify_content\"}]},{\"extends\":null,\"module\":null,\"name\":\"TemplateActions1\",\"overrides\":[],\"properties\":[{\"default\":0,\"kind\":null,\"name\":\"open_modal\"},{\"default\":0,\"kind\":null,\"name\":\"close_modal\"}]},{\"extends\":null,\"module\":null,\"name\":\"MaterialTemplateActions1\",\"overrides\":[],\"properties\":[{\"default\":0,\"kind\":null,\"name\":\"open_modal\"},{\"default\":0,\"kind\":null,\"name\":\"close_modal\"}]}],\"roots\":{\"references\":[{\"attributes\":{\"fill_alpha\":{\"value\":0.8},\"fill_color\":{\"field\":\"color\",\"transform\":{\"id\":\"2910\"}},\"hatch_alpha\":{\"value\":0.8},\"hatch_color\":{\"field\":\"color\",\"transform\":{\"id\":\"2910\"}},\"line_alpha\":{\"value\":0.8},\"line_color\":{\"field\":\"color\",\"transform\":{\"id\":\"2910\"}},\"size\":{\"value\":5.477225575051661},\"x\":{\"field\":\"Longitude\"},\"y\":{\"field\":\"Latitude\"}},\"id\":\"2916\",\"type\":\"Scatter\"},{\"attributes\":{\"coordinates\":null,\"data_source\":{\"id\":\"2911\"},\"glyph\":{\"id\":\"2914\"},\"group\":null,\"hover_glyph\":{\"id\":\"2917\"},\"muted_glyph\":{\"id\":\"2918\"},\"nonselection_glyph\":{\"id\":\"2915\"},\"selection_glyph\":{\"id\":\"2916\"},\"view\":{\"id\":\"2920\"}},\"id\":\"2919\",\"type\":\"GlyphRenderer\"},{\"attributes\":{\"dimension\":\"lat\"},\"id\":\"2882\",\"type\":\"MercatorTickFormatter\"},{\"attributes\":{\"dimension\":\"lon\"},\"id\":\"2880\",\"type\":\"MercatorTickFormatter\"},{\"attributes\":{\"tools\":[{\"id\":\"2844\"},{\"id\":\"2864\"},{\"id\":\"2865\"},{\"id\":\"2866\"},{\"id\":\"2867\"},{\"id\":\"2868\"}]},\"id\":\"2870\",\"type\":\"Toolbar\"},{\"attributes\":{\"margin\":[5,5,5,5],\"name\":\"HSpacer06725\",\"sizing_mode\":\"stretch_width\"},\"id\":\"2835\",\"type\":\"Spacer\"},{\"attributes\":{},\"id\":\"2892\",\"type\":\"AllLabels\"},{\"attributes\":{\"dimension\":\"lon\"},\"id\":\"2879\",\"type\":\"MercatorTicker\"},{\"attributes\":{\"factors\":[\"Park\"],\"palette\":[\"#1f77b3\"]},\"id\":\"2910\",\"type\":\"CategoricalColorMapper\"},{\"attributes\":{\"fill_alpha\":{\"value\":0.8},\"fill_color\":{\"field\":\"color\",\"transform\":{\"id\":\"2910\"}},\"hatch_alpha\":{\"value\":0.8},\"hatch_color\":{\"field\":\"color\",\"transform\":{\"id\":\"2910\"}},\"line_alpha\":{\"value\":0.8},\"line_color\":{\"field\":\"color\",\"transform\":{\"id\":\"2910\"}},\"size\":{\"value\":5.477225575051661},\"x\":{\"field\":\"Longitude\"},\"y\":{\"field\":\"Latitude\"}},\"id\":\"2917\",\"type\":\"Scatter\"},{\"attributes\":{},\"id\":\"2885\",\"type\":\"AllLabels\"},{\"attributes\":{},\"id\":\"2912\",\"type\":\"Selection\"},{\"attributes\":{\"end\":-8187655.96828672,\"min_interval\":5,\"reset_end\":-8187655.96828672,\"reset_start\":-8285497.081206661,\"start\":-8285497.081206661,\"tags\":[[[\"Longitude\",\"Longitude\",null]]]},\"id\":\"2840\",\"type\":\"Range1d\"},{\"attributes\":{\"attribution\":\"&copy; <a href=\\\"https://www.openstreetmap.org/copyright\\\">OpenStreetMap</a> contributors\",\"url\":\"https://c.tile.openstreetmap.org/{Z}/{X}/{Y}.png\"},\"id\":\"2905\",\"type\":\"WMTSTileSource\"},{\"attributes\":{\"callback\":null,\"formatters\":{\"$x\":{\"id\":\"2929\"},\"$y\":{\"id\":\"2930\"}},\"renderers\":[{\"id\":\"2919\"}],\"tags\":[\"hv_created\"],\"tooltips\":[[\"Longitude\",\"$x{custom}\"],[\"Latitude\",\"$y{custom}\"],[\"PlaceType\",\"@{PlaceType}\"]]},\"id\":\"2844\",\"type\":\"HoverTool\"},{\"attributes\":{\"fill_alpha\":{\"value\":0.8},\"fill_color\":{\"field\":\"color\",\"transform\":{\"id\":\"2910\"}},\"hatch_alpha\":{\"value\":0.8},\"hatch_color\":{\"field\":\"color\",\"transform\":{\"id\":\"2910\"}},\"line_alpha\":{\"value\":0.8},\"line_color\":{\"field\":\"color\",\"transform\":{\"id\":\"2910\"}},\"size\":{\"value\":5.477225575051661},\"x\":{\"field\":\"Longitude\"},\"y\":{\"field\":\"Latitude\"}},\"id\":\"2914\",\"type\":\"Scatter\"},{\"attributes\":{},\"id\":\"2868\",\"type\":\"ResetTool\"},{\"attributes\":{\"fill_alpha\":{\"value\":0.2},\"fill_color\":{\"field\":\"color\",\"transform\":{\"id\":\"2910\"}},\"hatch_alpha\":{\"value\":0.2},\"hatch_color\":{\"field\":\"color\",\"transform\":{\"id\":\"2910\"}},\"line_alpha\":{\"value\":0.2},\"line_color\":{\"field\":\"color\",\"transform\":{\"id\":\"2910\"}},\"size\":{\"value\":5.477225575051661},\"x\":{\"field\":\"Longitude\"},\"y\":{\"field\":\"Latitude\"}},\"id\":\"2918\",\"type\":\"Scatter\"},{\"attributes\":{},\"id\":\"2864\",\"type\":\"SaveTool\"},{\"attributes\":{\"fill_alpha\":{\"value\":0.8},\"fill_color\":{\"field\":\"color\",\"transform\":{\"id\":\"2910\"}},\"hatch_alpha\":{\"value\":0.1},\"hatch_color\":{\"field\":\"color\",\"transform\":{\"id\":\"2910\"}},\"line_alpha\":{\"value\":0.8},\"line_color\":{\"field\":\"color\",\"transform\":{\"id\":\"2910\"}},\"size\":{\"value\":5.477225575051661},\"x\":{\"field\":\"Longitude\"},\"y\":{\"field\":\"Latitude\"}},\"id\":\"2915\",\"type\":\"Scatter\"},{\"attributes\":{\"axis\":{\"id\":\"2856\"},\"coordinates\":null,\"grid_line_color\":null,\"group\":null,\"ticker\":null},\"id\":\"2859\",\"type\":\"Grid\"},{\"attributes\":{\"label\":{\"field\":\"color\"},\"renderers\":[{\"id\":\"2919\"}]},\"id\":\"2928\",\"type\":\"LegendItem\"},{\"attributes\":{\"axis_label\":\"x\",\"coordinates\":null,\"formatter\":{\"id\":\"2880\"},\"group\":null,\"major_label_policy\":{\"id\":\"2885\"},\"ticker\":{\"id\":\"2879\"}},\"id\":\"2856\",\"type\":\"LinearAxis\"},{\"attributes\":{\"zoom_on_axis\":false},\"id\":\"2866\",\"type\":\"WheelZoomTool\"},{\"attributes\":{\"source\":{\"id\":\"2911\"}},\"id\":\"2920\",\"type\":\"CDSView\"},{\"attributes\":{\"bottom_units\":\"screen\",\"coordinates\":null,\"fill_alpha\":0.5,\"fill_color\":\"lightgrey\",\"group\":null,\"left_units\":\"screen\",\"level\":\"overlay\",\"line_alpha\":1.0,\"line_color\":\"black\",\"line_dash\":[4,4],\"line_width\":2,\"right_units\":\"screen\",\"syncable\":false,\"top_units\":\"screen\"},\"id\":\"2869\",\"type\":\"BoxAnnotation\"},{\"attributes\":{},\"id\":\"2852\",\"type\":\"LinearScale\"},{\"attributes\":{\"below\":[{\"id\":\"2856\"}],\"center\":[{\"id\":\"2859\"},{\"id\":\"2863\"}],\"frame_height\":500,\"frame_width\":700,\"height\":null,\"left\":[{\"id\":\"2860\"}],\"margin\":[5,5,5,5],\"match_aspect\":true,\"min_border_bottom\":10,\"min_border_left\":10,\"min_border_right\":10,\"min_border_top\":10,\"renderers\":[{\"id\":\"2908\"},{\"id\":\"2919\"}],\"right\":[{\"id\":\"2927\"}],\"sizing_mode\":\"fixed\",\"title\":{\"id\":\"2848\"},\"toolbar\":{\"id\":\"2870\"},\"width\":null,\"x_range\":{\"id\":\"2840\"},\"x_scale\":{\"id\":\"2852\"},\"y_range\":{\"id\":\"2841\"},\"y_scale\":{\"id\":\"2854\"}},\"id\":\"2847\",\"subtype\":\"Figure\",\"type\":\"Plot\"},{\"attributes\":{\"match_aspect\":true,\"overlay\":{\"id\":\"2869\"}},\"id\":\"2867\",\"type\":\"BoxZoomTool\"},{\"attributes\":{\"data\":{\"Latitude\":{\"__ndarray__\":\"1cxBK+0PU0HDEQzVmA5TQVxDy0tODVNBZxYfoBMKU0Gw21nzKARTQe/w925RBFNBHT83h6AHU0HEPWjhIwlTQSEJq4K/A1NB2IeFciYLU0E2n8zEmAJTQWQ2bGSDAVNBNgXi4df/UkFG10dTpP9SQXLH+Uu/9lJBEgHkh8T+UkEGDhf6Me5SQQSrS/ck61JBpW3dIBDnUkH9GT8j5+VSQRnpizkS6VJB86uOP9vsUkHMHM436u9SQWvGhT0E8lJBuawjOav2UkF2Wbv56fdSQUYimJiZ/1JBitHN+fv9UkEYG9FzcvtSQdo8Enoo+1JB7CnP79LgUkEwHls8VOlSQbV1qMkD6FJBpgCA8wreUkFC4KPq3eJSQa5wHZ+C5VJB5WLTYpXbUkGMYLAQOdpSQStx+GcN11JB+DGL60jjUkF9p3dSDeRSQa4HRBm+71JBrrSxbV0PU0Ev0DQ6/OtSQRmBvh8O7FJB\",\"dtype\":\"float64\",\"order\":\"little\",\"shape\":[45]},\"Longitude\":{\"__ndarray__\":\"MMxcTIBgX8GRJwcBCFtfwYWWvWflV1/BzX/V7R5fX8G1PV23ZlpfwTbGXiytXl/Bkhwb/xJhX8GtiwZ1Al9fwXxaVdL6Yl/BqWqxcCtlX8EfPlliV2ZfwV6DY3wPZF/B9xEPw/VkX8Flx03K1mhfwTyi+jlaZ1/Bjfrw/lZkX8HCEcpDNmlfwXmkv7gVcF/BvS3t9bJuX8G+ugXoUWRfwaOD+/F+YV/BIrx2bKdRX8EZU7d6aFVfwR63JwvKU1/BC8BDwnxfX8FOW3y5dlNfweB126+eVV/Bt40A1nVTX8GIL8mxxVBfwR6VECl4T1/BOArcxpxeX8E+96Fg23ZfwR+hPlGbeF/ByKy/KTp6X8HwGwNxEHxfwWNVeo/GfV/Bw5t0q6J/X8FgB3jcfYFfwSJRGhqYh1/BA2obH+NrX8EJiYfMEHlfwfKhhxwtbV/BHtnD8YdjX8Emb1oW5l1fwWuBNv+iW1/B\",\"dtype\":\"float64\",\"order\":\"little\",\"shape\":[45]},\"PlaceType\":[\"Park\",\"Park\",\"Park\",\"Park\",\"Park\",\"Park\",\"Park\",\"Park\",\"Park\",\"Park\",\"Park\",\"Park\",\"Park\",\"Park\",\"Park\",\"Park\",\"Park\",\"Park\",\"Park\",\"Park\",\"Park\",\"Park\",\"Park\",\"Park\",\"Park\",\"Park\",\"Park\",\"Park\",\"Park\",\"Park\",\"Park\",\"Park\",\"Park\",\"Park\",\"Park\",\"Park\",\"Park\",\"Park\",\"Park\",\"Park\",\"Park\",\"Park\",\"Park\",\"Park\",\"Park\"],\"color\":[\"Park\",\"Park\",\"Park\",\"Park\",\"Park\",\"Park\",\"Park\",\"Park\",\"Park\",\"Park\",\"Park\",\"Park\",\"Park\",\"Park\",\"Park\",\"Park\",\"Park\",\"Park\",\"Park\",\"Park\",\"Park\",\"Park\",\"Park\",\"Park\",\"Park\",\"Park\",\"Park\",\"Park\",\"Park\",\"Park\",\"Park\",\"Park\",\"Park\",\"Park\",\"Park\",\"Park\",\"Park\",\"Park\",\"Park\",\"Park\",\"Park\",\"Park\",\"Park\",\"Park\",\"Park\"]},\"selected\":{\"id\":\"2912\"},\"selection_policy\":{\"id\":\"2924\"}},\"id\":\"2911\",\"type\":\"ColumnDataSource\"},{\"attributes\":{\"code\":\"\\n        var projections = Bokeh.require(\\\"core/util/projections\\\");\\n        var x = special_vars.data_x\\n        var y = special_vars.data_y\\n        if (projections.wgs84_mercator.invert == null) {\\n          var coords = projections.wgs84_mercator.inverse([x, y])\\n        } else {\\n          var coords = projections.wgs84_mercator.invert(x, y)\\n        }\\n        return \\\"\\\" + (coords[1]).toFixed(4)\\n    \"},\"id\":\"2930\",\"type\":\"CustomJSHover\"},{\"attributes\":{\"end\":5002868.404392054,\"min_interval\":5,\"reset_end\":5002868.404392054,\"reset_start\":4932981.895163525,\"start\":4932981.895163525,\"tags\":[[[\"Latitude\",\"Latitude\",null]]]},\"id\":\"2841\",\"type\":\"Range1d\"},{\"attributes\":{\"axis\":{\"id\":\"2860\"},\"coordinates\":null,\"dimension\":1,\"grid_line_color\":null,\"group\":null,\"ticker\":null},\"id\":\"2863\",\"type\":\"Grid\"},{\"attributes\":{\"coordinates\":null,\"group\":null,\"text_color\":\"black\",\"text_font_size\":\"12pt\"},\"id\":\"2848\",\"type\":\"Title\"},{\"attributes\":{},\"id\":\"2865\",\"type\":\"PanTool\"},{\"attributes\":{\"dimension\":\"lat\"},\"id\":\"2881\",\"type\":\"MercatorTicker\"},{\"attributes\":{\"axis_label\":\"y\",\"coordinates\":null,\"formatter\":{\"id\":\"2882\"},\"group\":null,\"major_label_policy\":{\"id\":\"2892\"},\"ticker\":{\"id\":\"2881\"}},\"id\":\"2860\",\"type\":\"LinearAxis\"},{\"attributes\":{},\"id\":\"2854\",\"type\":\"LinearScale\"},{\"attributes\":{},\"id\":\"2924\",\"type\":\"UnionRenderers\"},{\"attributes\":{\"code\":\"\\n        var projections = Bokeh.require(\\\"core/util/projections\\\");\\n        var x = special_vars.data_x\\n        var y = special_vars.data_y\\n        if (projections.wgs84_mercator.invert == null) {\\n          var coords = projections.wgs84_mercator.inverse([x, y])\\n        } else {\\n          var coords = projections.wgs84_mercator.invert(x, y)\\n        }\\n        return \\\"\\\" + (coords[0]).toFixed(4)\\n    \"},\"id\":\"2929\",\"type\":\"CustomJSHover\"},{\"attributes\":{\"children\":[{\"id\":\"2835\"},{\"id\":\"2847\"},{\"id\":\"2985\"}],\"margin\":[0,0,0,0],\"name\":\"Row06721\",\"tags\":[\"embedded\"]},\"id\":\"2834\",\"type\":\"Row\"},{\"attributes\":{\"click_policy\":\"mute\",\"coordinates\":null,\"group\":null,\"items\":[{\"id\":\"2928\"}],\"location\":[0,0]},\"id\":\"2927\",\"type\":\"Legend\"},{\"attributes\":{\"coordinates\":null,\"group\":null,\"level\":\"glyph\",\"tile_source\":{\"id\":\"2905\"}},\"id\":\"2908\",\"type\":\"TileRenderer\"},{\"attributes\":{\"margin\":[5,5,5,5],\"name\":\"HSpacer06726\",\"sizing_mode\":\"stretch_width\"},\"id\":\"2985\",\"type\":\"Spacer\"}],\"root_ids\":[\"2834\"]},\"title\":\"Bokeh Application\",\"version\":\"2.4.2\"}};\n",
       "    var render_items = [{\"docid\":\"1b438f27-a44d-495c-8bab-a1c1391e878d\",\"root_ids\":[\"2834\"],\"roots\":{\"2834\":\"ce51a081-2c7c-45d6-ab84-b4f2e5c340c3\"}}];\n",
       "    root.Bokeh.embed.embed_items_notebook(docs_json, render_items);\n",
       "  }\n",
       "  if (root.Bokeh !== undefined && root.Bokeh.Panel !== undefined) {\n",
       "    embed_document(root);\n",
       "  } else {\n",
       "    var attempts = 0;\n",
       "    var timer = setInterval(function(root) {\n",
       "      if (root.Bokeh !== undefined && root.Bokeh.Panel !== undefined) {\n",
       "        clearInterval(timer);\n",
       "        embed_document(root);\n",
       "      } else if (document.readyState == \"complete\") {\n",
       "        attempts++;\n",
       "        if (attempts > 200) {\n",
       "          clearInterval(timer);\n",
       "          console.log(\"Bokeh: ERROR: Unable to run BokehJS code because BokehJS library is missing\");\n",
       "        }\n",
       "      }\n",
       "    }, 25, root)\n",
       "  }\n",
       "})(window);</script>"
      ],
      "text/plain": [
       ":Overlay\n",
       "   .Tiles.I  :Tiles   [x,y]\n",
       "   .Points.I :Points   [Longitude,Latitude]   (PlaceType)"
      ]
     },
     "execution_count": 19,
     "metadata": {
      "application/vnd.holoviews_exec.v0+json": {
       "id": "2834"
      }
     },
     "output_type": "execute_result"
    }
   ],
   "source": [
    "# Create a DataFrame that slices the places_of_intereset DataFrame to include only parks\n",
    "parks = places_of_interest[places_of_interest['PlaceType'] == 'Park']\n",
    "\n",
    "# Plot all of the parks in NYC\n",
    "# What column should color be set equal to?\n",
    "parks_of_interest = parks.hvplot.points(\n",
    "    'Longitude',\n",
    "    'Latitude',\n",
    "    geo=True,\n",
    "    alpha=0.8,\n",
    "    color='PlaceType',\n",
    "    tiles='OSM',\n",
    "    frame_width = 700,\n",
    "    frame_height = 500\n",
    ")\n",
    "# Keep all other parameters the same as the previous plot\n",
    "\n",
    "# Show the plot\n",
    "parks_of_interest"
   ]
  },
  {
   "cell_type": "markdown",
   "metadata": {},
   "source": [
    "### Step 6: Plot Gardens of Interest"
   ]
  },
  {
   "cell_type": "code",
   "execution_count": null,
   "metadata": {},
   "outputs": [],
   "source": [
    "# Create a DataFrame that slices the places_of_intereset DataFrame to include only gardens\n",
    "gardens = # YOUR CODE HERE\n",
    "\n",
    "# Plot all of the gardens in NYC\n",
    "# Keep all other parameters the same as the previous plot\n",
    "gardens_of_interest = # YOUR CODE HERE\n",
    "\n",
    "# Show the plot\n",
    "gardens_of_interest"
   ]
  },
  {
   "cell_type": "markdown",
   "metadata": {},
   "source": [
    "### Step 7: Plot Squares of Interest"
   ]
  },
  {
   "cell_type": "code",
   "execution_count": null,
   "metadata": {},
   "outputs": [],
   "source": [
    "# Create a DataFrame that slices the places_of_intereset DataFrame to include only squares\n",
    "squares = # YOUR CODE HERE\n",
    "\n",
    "# Plot all of the squares in NYC\n",
    "squares_of_interest = # YOUR CODE HERE\n",
    "\n",
    "# Show the plot\n",
    "# YOUR CODE HERE"
   ]
  },
  {
   "cell_type": "markdown",
   "metadata": {},
   "source": [
    "### Step 8: Bonus - Pick two place of interest and plot them both on a the map"
   ]
  },
  {
   "cell_type": "code",
   "execution_count": null,
   "metadata": {},
   "outputs": [],
   "source": [
    "# Slice the name of two places from the places_of_interest DataFrame\n",
    "# Use the Pandas isin function to reference the specific name of a location\n",
    "two_places = # YOUR CODE HERE\n",
    "\n",
    "# Create the Plot for just the two places\n",
    "two_places_route = # YOUR CODE HERE\n",
    "\n",
    "# Show the plot\n",
    "# YOUR CODE HERE"
   ]
  }
 ],
 "metadata": {
  "kernelspec": {
   "display_name": "Python 3 (ipykernel)",
   "language": "python",
   "name": "python3"
  },
  "language_info": {
   "codemirror_mode": {
    "name": "ipython",
    "version": 3
   },
   "file_extension": ".py",
   "mimetype": "text/x-python",
   "name": "python",
   "nbconvert_exporter": "python",
   "pygments_lexer": "ipython3",
   "version": "3.7.11"
  }
 },
 "nbformat": 4,
 "nbformat_minor": 4
}
