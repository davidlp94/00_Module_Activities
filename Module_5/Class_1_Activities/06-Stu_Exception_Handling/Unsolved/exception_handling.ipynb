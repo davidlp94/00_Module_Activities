{
 "cells": [
  {
   "cell_type": "markdown",
   "metadata": {},
   "source": [
    "# Using Exceptions to Handle Bad Data\n",
    "\n",
    "In this activity you are given a list of cryptocurrencies, of which only some are valid. Your goal is to make a request for each coin and if it was a valid coin, append the `json` data to a list of valid coins. If it was not a valid coin then append the name of the coin to another list of invalid coins.\n",
    "\n",
    ">**Hint**: You may need to check the json to see where the error is being handled."
   ]
  },
  {
   "cell_type": "markdown",
   "metadata": {},
   "source": [
    "## 1. Import Modules"
   ]
  },
  {
   "cell_type": "code",
   "execution_count": 1,
   "metadata": {},
   "outputs": [],
   "source": [
    "# Import Modules\n",
    "import requests\n",
    "import json\n"
   ]
  },
  {
   "cell_type": "markdown",
   "metadata": {},
   "source": [
    "## 2. Use the [Free Crypto API](https://alternative.me/crypto/api/) ticker endpoint"
   ]
  },
  {
   "cell_type": "code",
   "execution_count": 2,
   "metadata": {},
   "outputs": [
    {
     "data": {
      "text/plain": [
       "<Response [200]>"
      ]
     },
     "execution_count": 2,
     "metadata": {},
     "output_type": "execute_result"
    }
   ],
   "source": [
    "# The end point requires either the currency name or the id after the last slash.\n",
    "url = 'https://api.alternative.me/v2/ticker/'\n",
    "requests.get(url)"
   ]
  },
  {
   "cell_type": "markdown",
   "metadata": {},
   "source": [
    "## 3. Use `coin_list` for a List of Currency Names\n",
    "  - There are too many coins to manually sort through.\n",
    "  - You will iterate over each coin name in the list passing in the coin_name for each API call."
   ]
  },
  {
   "cell_type": "code",
   "execution_count": 3,
   "metadata": {},
   "outputs": [],
   "source": [
    "currency_list = [\n",
    "    \"vere\",\n",
    "    \"nushares\",\n",
    "    \"monetaryunit\",\n",
    "    \"blocknet\",\n",
    "    \"gapcoin\",\n",
    "    \"crown\",\n",
    "    \"bitbay\",\n",
    "    \"gcn-coin\",\n",
    "    \"quotient\",\n",
    "    \"bitcoin-fast\",\n",
    "    \"okcash\",\n",
    "    \"unitus\",\n",
    "    \"goldpieces\",\n",
    "    \"circuits-of-value\",\n",
    "    \"nexus\",\n",
    "    \"inakoin\",\n",
    "    \"gxchain\",\n",
    "    \"bitradio\",\n",
    "    \"flash\",\n",
    "    \"funfair\",\n",
    "    \"tenx\",\n",
    "    \"status\",\n",
    "    \"chancoin\",\n",
    "    \"ergo\",\n",
    "    \"eos\",\n",
    "    \"adex\",\n",
    "    \"denarius\",\n",
    "    \"storj\",\n",
    "    \"adtoken\",\n",
    "    \"cryptoping\",\n",
    "    \"wagerrr\",\n",
    "    \"ecobit\",\n",
    "    \"universalroyalcoin\",\n",
    "    \"polybus\",\n",
    "    \"gas\",\n",
    "    \"freebie\",\n",
    "    \"suncontract\",\n",
    "    \"jetcoin\",\n",
    "    \"metal\",\n",
    "    \"populous\",\n",
    "    \"womencoin\",\n",
    "    \"rupee\",\n",
    "    \"peepcoin\",\n",
    "    \"santiment-network-token\",\n",
    "    \"omisego\",\n",
    "]"
   ]
  },
  {
   "cell_type": "code",
   "execution_count": 11,
   "metadata": {},
   "outputs": [
    {
     "data": {
      "text/plain": [
       "'1808'"
      ]
     },
     "execution_count": 11,
     "metadata": {},
     "output_type": "execute_result"
    }
   ],
   "source": [
    "list(data.keys())[0]"
   ]
  },
  {
   "cell_type": "markdown",
   "metadata": {},
   "source": []
  },
  {
   "cell_type": "markdown",
   "metadata": {},
   "source": [
    "## 4. Loop Over Coin List\n",
    "  - Check each coin in `coin_list`.\n",
    "  - Using `url` and the coin name, make a get request to the api using [`request.get`](https://requests.readthedocs.io/en/master/user/quickstart/#response-content).\n",
    "  - Check if the response is valid.\n",
    "  - Catch any server errors and print the trace.\n",
    "  - Append valid coins' `json` data to the `valid_coins` list.\n",
    "  - Append invalid coin names to the `invalid_coins` list.\n",
    "\n",
    "\n",
    "\n",
    ">**Hint**: Are there any errors in the `response` metadata?"
   ]
  },
  {
   "cell_type": "code",
   "execution_count": 8,
   "metadata": {},
   "outputs": [
    {
     "name": "stdout",
     "output_type": "stream",
     "text": [
      "vere is invalid.\n",
      "Processed vere.\n",
      "nushares is invalid.\n",
      "Processed nushares.\n",
      "monetaryunit is invalid.\n",
      "Processed monetaryunit.\n",
      "blocknet is invalid.\n",
      "Processed blocknet.\n",
      "gapcoin is invalid.\n",
      "Processed gapcoin.\n",
      "crown is invalid.\n",
      "Processed crown.\n",
      "bitbay is invalid.\n",
      "Processed bitbay.\n",
      "gcn-coin is invalid.\n",
      "Processed gcn-coin.\n",
      "quotient is invalid.\n",
      "Processed quotient.\n",
      "bitcoin-fast is invalid.\n",
      "Processed bitcoin-fast.\n",
      "okcash is invalid.\n",
      "Processed okcash.\n",
      "unitus is invalid.\n",
      "Processed unitus.\n",
      "goldpieces is invalid.\n",
      "Processed goldpieces.\n",
      "circuits-of-value is invalid.\n",
      "Processed circuits-of-value.\n",
      "nexus is invalid.\n",
      "Processed nexus.\n",
      "inakoin is invalid.\n",
      "Processed inakoin.\n",
      "gxchain is invalid.\n",
      "Processed gxchain.\n",
      "bitradio is invalid.\n",
      "Processed bitradio.\n",
      "flash is invalid.\n",
      "Processed flash.\n",
      "funfair is invalid.\n",
      "Processed funfair.\n",
      "tenx is invalid.\n",
      "Processed tenx.\n",
      "status is invalid.\n",
      "Processed status.\n",
      "chancoin is invalid.\n",
      "Processed chancoin.\n",
      "ergo is invalid.\n",
      "Processed ergo.\n",
      "eos is invalid.\n",
      "Processed eos.\n",
      "adex is invalid.\n",
      "Processed adex.\n",
      "denarius is invalid.\n",
      "Processed denarius.\n",
      "storj is invalid.\n",
      "Processed storj.\n",
      "adtoken is invalid.\n",
      "Processed adtoken.\n",
      "cryptoping is invalid.\n",
      "Processed cryptoping.\n",
      "wagerrr is invalid.\n",
      "Processed wagerrr.\n",
      "ecobit is invalid.\n",
      "Processed ecobit.\n",
      "universalroyalcoin is invalid.\n",
      "Processed universalroyalcoin.\n",
      "polybus is invalid.\n",
      "Processed polybus.\n",
      "gas is invalid.\n",
      "Processed gas.\n",
      "freebie is invalid.\n",
      "Processed freebie.\n",
      "suncontract is invalid.\n",
      "Processed suncontract.\n",
      "jetcoin is invalid.\n",
      "Processed jetcoin.\n",
      "metal is invalid.\n",
      "Processed metal.\n",
      "populous is invalid.\n",
      "Processed populous.\n",
      "womencoin is invalid.\n",
      "Processed womencoin.\n",
      "rupee is invalid.\n",
      "Processed rupee.\n",
      "peepcoin is invalid.\n",
      "Processed peepcoin.\n",
      "santiment-network-token is invalid.\n",
      "Processed santiment-network-token.\n",
      "omisego is invalid.\n",
      "Processed omisego.\n"
     ]
    }
   ],
   "source": [
    "# Populate these lists.\n",
    "# Put the json data in valid_coins\n",
    "# Put invalid coin names in invalid_coins\n",
    "new_valid_coins = []\n",
    "new_invalid_coins = []\n",
    "for each_currency in currency_list:\n",
    "    request_url = f\"https://api.alternative.me/v2/ticker/{each_currency}/\"\n",
    "    try:\n",
    "        response = requests.get(request_url)\n",
    "        response_json = response.json()\n",
    "        data = response_json['data']\n",
    "        key = list(data.keys())[0]\n",
    "        data[key]['website_slug']\n",
    "        new_valid_coins.append(response.json())\n",
    "        print(f\"{each_cuurency} is valid.\")\n",
    "    except:\n",
    "        new_invalid_coins.append(response.json())\n",
    "        print(f\"{each_currency} is invalid.\")\n",
    "    finally:\n",
    "        print(f\"Processed {each_currency}.\")\n",
    "# Loop over each coin in the coin list\n",
    "\n"
   ]
  },
  {
   "cell_type": "markdown",
   "metadata": {},
   "source": [
    "## 5. Print the Results"
   ]
  },
  {
   "cell_type": "code",
   "execution_count": 9,
   "metadata": {},
   "outputs": [
    {
     "name": "stdout",
     "output_type": "stream",
     "text": [
      "[{'data': {'699': {'id': 699, 'name': 'NuShares', 'symbol': 'NSR', 'website_slug': 'nushares', 'rank': 5839, 'circulating_supply': 0, 'total_supply': 0, 'max_supply': 1000000000, 'quotes': {'USD': {'price': 0.00015327, 'volume_24h': 0, 'market_cap': 0, 'percentage_change_1h': None, 'percentage_change_24h': None, 'percentage_change_7d': 24.423908989996, 'percent_change_1h': None, 'percent_change_24h': None, 'percent_change_7d': 24.423908989996}}, 'last_updated': 1627291900}}, 'metadata': {'timestamp': 1627291900, 'num_cryptocurrencies': 3105, 'error': None}}, {'data': {'706': {'id': 706, 'name': 'MonetaryUnit', 'symbol': 'MUE', 'website_slug': 'monetaryunit', 'rank': 1283, 'circulating_supply': 228408447, 'total_supply': 228408447, 'max_supply': 1000000000000000, 'quotes': {'USD': {'price': 0.00494166, 'volume_24h': 2055, 'market_cap': 1128718, 'percentage_change_1h': None, 'percentage_change_24h': -1.18562847558757, 'percentage_change_7d': 14.2453800458785, 'percent_change_1h': None, 'percent_change_24h': -1.18562847558757, 'percent_change_7d': 14.2453800458785}}, 'last_updated': 1627389483}}, 'metadata': {'timestamp': 1627389483, 'num_cryptocurrencies': 3105, 'error': None}}, {'data': {'707': {'id': 707, 'name': 'Blocknet', 'symbol': 'BLOCK', 'website_slug': 'blocknet', 'rank': 713, 'circulating_supply': 7905241, 'total_supply': 7905241, 'max_supply': 0, 'quotes': {'USD': {'price': 1.03, 'volume_24h': 8273, 'market_cap': 8048508, 'percentage_change_1h': 1.29889975053903, 'percentage_change_24h': -5.87292228797594, 'percentage_change_7d': 9.56264706539438, 'percent_change_1h': 1.29889975053903, 'percent_change_24h': -5.87292228797594, 'percent_change_7d': 9.56264706539438}}, 'last_updated': 1627390764}}, 'metadata': {'timestamp': 1627390764, 'num_cryptocurrencies': 3105, 'error': None}}, {'data': {'708': {'id': 708, 'name': 'Gapcoin', 'symbol': 'GAP', 'website_slug': 'gapcoin', 'rank': 1679, 'circulating_supply': 16723294, 'total_supply': 16723294, 'max_supply': 0, 'quotes': {'USD': {'price': 0.01822285, 'volume_24h': 23, 'market_cap': 304746, 'percentage_change_1h': None, 'percentage_change_24h': 2.41788925145904, 'percentage_change_7d': -18.9946119084481, 'percent_change_1h': None, 'percent_change_24h': 2.41788925145904, 'percent_change_7d': -18.9946119084481}}, 'last_updated': 1627389014}}, 'metadata': {'timestamp': 1627389014, 'num_cryptocurrencies': 3105, 'error': None}}, {'data': {'720': {'id': 720, 'name': 'Crown', 'symbol': 'CRW', 'website_slug': 'crown', 'rank': 1109, 'circulating_supply': 27682330, 'total_supply': 27682330, 'max_supply': 42000000, 'quotes': {'USD': {'price': 0.073599, 'volume_24h': 2307, 'market_cap': 2037394, 'percentage_change_1h': None, 'percentage_change_24h': -3.51383286509319, 'percentage_change_7d': 17.6996923536366, 'percent_change_1h': None, 'percent_change_24h': -3.51383286509319, 'percent_change_7d': 17.6996923536366}}, 'last_updated': 1627387322}}, 'metadata': {'timestamp': 1627387322, 'num_cryptocurrencies': 3105, 'error': None}}, {'data': {'723': {'id': 723, 'name': 'BitBay', 'symbol': 'BAY', 'website_slug': 'bitbay', 'rank': 8795, 'circulating_supply': 0, 'total_supply': 0, 'max_supply': 1029153366, 'quotes': {'USD': {'price': 0.596917, 'volume_24h': 7, 'market_cap': 0, 'percentage_change_1h': None, 'percentage_change_24h': None, 'percentage_change_7d': None, 'percent_change_1h': None, 'percent_change_24h': None, 'percent_change_7d': None}}, 'last_updated': 1625513420}}, 'metadata': {'timestamp': 1625513420, 'num_cryptocurrencies': 3105, 'error': None}}, {'data': {'730': {'id': 730, 'name': 'GCN Coin', 'symbol': 'GCN', 'website_slug': 'gcn-coin', 'rank': 2092, 'circulating_supply': 149381200000, 'total_supply': 149381200000, 'max_supply': 200000000000, 'quotes': {'USD': {'price': 4.53173e-07, 'volume_24h': 12, 'market_cap': 67696, 'percentage_change_1h': None, 'percentage_change_24h': -10.9718570166726, 'percentage_change_7d': 9.97565689019746, 'percent_change_1h': None, 'percent_change_24h': -10.9718570166726, 'percent_change_7d': 9.97565689019746}}, 'last_updated': 1627374174}}, 'metadata': {'timestamp': 1627374174, 'num_cryptocurrencies': 3105, 'error': None}}, {'data': {'733': {'id': 733, 'name': 'Quotient', 'symbol': 'XQN', 'website_slug': 'quotient', 'rank': 7702, 'circulating_supply': 0, 'total_supply': 0, 'max_supply': 0, 'quotes': {'USD': {'price': 0.00038041, 'volume_24h': 0, 'market_cap': 0, 'percentage_change_1h': None, 'percentage_change_24h': None, 'percentage_change_7d': None, 'percent_change_1h': None, 'percent_change_24h': None, 'percent_change_7d': None}}, 'last_updated': 1627279264}}, 'metadata': {'timestamp': 1627279264, 'num_cryptocurrencies': 3105, 'error': None}}, {'data': {'747': {'id': 747, 'name': 'Bitcoin Fast', 'symbol': 'BCF', 'website_slug': 'bitcoin-fast', 'rank': 3706, 'circulating_supply': 0, 'total_supply': 0, 'max_supply': 21000000, 'quotes': {'USD': {'price': 0.00445451, 'volume_24h': 47, 'market_cap': 0, 'percentage_change_1h': None, 'percentage_change_24h': -3.94709731447487, 'percentage_change_7d': 16.7402208509587, 'percent_change_1h': None, 'percent_change_24h': -3.94709731447487, 'percent_change_7d': 16.7402208509587}}, 'last_updated': 1627363834}}, 'metadata': {'timestamp': 1627363834, 'num_cryptocurrencies': 3105, 'error': None}}, {'data': {'760': {'id': 760, 'name': 'OKCash', 'symbol': 'OK', 'website_slug': 'okcash', 'rank': 1083, 'circulating_supply': 82329188, 'total_supply': 82329188, 'max_supply': 105000000, 'quotes': {'USD': {'price': 0.0266758, 'volume_24h': 538612, 'market_cap': 2183180, 'percentage_change_1h': 0.839738521293899, 'percentage_change_24h': -8.53017309464031, 'percentage_change_7d': 8.51431859414259, 'percent_change_1h': 0.839738521293899, 'percent_change_24h': -8.53017309464031, 'percent_change_7d': 8.51431859414259}}, 'last_updated': 1627390886}}, 'metadata': {'timestamp': 1627390886, 'num_cryptocurrencies': 3105, 'error': None}}, {'data': {'781': {'id': 781, 'name': 'Unitus', 'symbol': 'UIS', 'website_slug': 'unitus', 'rank': 6349, 'circulating_supply': 0, 'total_supply': 0, 'max_supply': 0, 'quotes': {'USD': {'price': 0.00184595, 'volume_24h': 10, 'market_cap': 0, 'percentage_change_1h': 0.120538062276296, 'percentage_change_24h': 139.27194258786, 'percentage_change_7d': 98.9409409749684, 'percent_change_1h': 0.120538062276296, 'percent_change_24h': 139.27194258786, 'percent_change_7d': 98.9409409749684}}, 'last_updated': 1627380534}}, 'metadata': {'timestamp': 1627380534, 'num_cryptocurrencies': 3105, 'error': None}}, {'data': {'785': {'id': 785, 'name': 'GoldPieces', 'symbol': 'GP', 'website_slug': 'goldpieces', 'rank': 6644, 'circulating_supply': 0, 'total_supply': 0, 'max_supply': 0, 'quotes': {'USD': {'price': 0.01077267, 'volume_24h': 1, 'market_cap': 0, 'percentage_change_1h': None, 'percentage_change_24h': -3.82889065834364, 'percentage_change_7d': 10.2599527495401, 'percent_change_1h': None, 'percent_change_24h': -3.82889065834364, 'percent_change_7d': 10.2599527495401}}, 'last_updated': 1627373150}}, 'metadata': {'timestamp': 1627373150, 'num_cryptocurrencies': 3105, 'error': None}}, {'data': {'788': {'id': 788, 'name': 'Circuits of Value', 'symbol': 'COVAL', 'website_slug': 'circuits-of-value', 'rank': 735, 'circulating_supply': 1786798861, 'total_supply': 1786798861, 'max_supply': 1786798861, 'quotes': {'USD': {'price': 0.067555, 'volume_24h': 4097990, 'market_cap': 125735931, 'percentage_change_1h': -5.47377108357246, 'percentage_change_24h': -3.59477784799677, 'percentage_change_7d': -31.7930465425639, 'percent_change_1h': -5.47377108357246, 'percent_change_24h': -3.59477784799677, 'percent_change_7d': -31.7930465425639}}, 'last_updated': 1643001859}}, 'metadata': {'timestamp': 1643001859, 'num_cryptocurrencies': 3105, 'error': None}}, {'data': {'789': {'id': 789, 'name': 'Nexus', 'symbol': 'NXS', 'website_slug': 'nexus', 'rank': 442, 'circulating_supply': 68164966, 'total_supply': 68164966, 'max_supply': 78000000, 'quotes': {'USD': {'price': 0.47935, 'volume_24h': 217375, 'market_cap': 32674856, 'percentage_change_1h': 1.60110129383395, 'percentage_change_24h': -1.14309918201009, 'percentage_change_7d': 30.7728524825932, 'percent_change_1h': 1.60110129383395, 'percent_change_24h': -1.14309918201009, 'percent_change_7d': 30.7728524825932}}, 'last_updated': 1627490871}}, 'metadata': {'timestamp': 1627490871, 'num_cryptocurrencies': 3105, 'error': None}}, {'data': {'1750': {'id': 1750, 'name': 'GXChain', 'symbol': 'GXC', 'website_slug': 'gxchain', 'rank': 443, 'circulating_supply': 75000000, 'total_supply': 75000000, 'max_supply': 100000000, 'quotes': {'USD': {'price': 1.68, 'volume_24h': 33284196, 'market_cap': 127074362, 'percentage_change_1h': -0.975949329878341, 'percentage_change_24h': -16.0201716064446, 'percentage_change_7d': -21.9109155814682, 'percent_change_1h': -0.975949329878341, 'percent_change_24h': -16.0201716064446, 'percent_change_7d': -21.9109155814682}}, 'last_updated': 1642796663}}, 'metadata': {'timestamp': 1642796663, 'num_cryptocurrencies': 3105, 'error': None}}, {'data': {'1754': {'id': 1754, 'name': 'Bitradio', 'symbol': 'BRO', 'website_slug': 'bitradio', 'rank': 2003, 'circulating_supply': 15211719, 'total_supply': 15211719, 'max_supply': 10834666, 'quotes': {'USD': {'price': 0.00652404, 'volume_24h': 17, 'market_cap': 98056, 'percentage_change_1h': 1.209350544139, 'percentage_change_24h': -0.701076483751551, 'percentage_change_7d': 40.3361282399453, 'percent_change_1h': 1.209350544139, 'percent_change_24h': -0.701076483751551, 'percent_change_7d': 40.3361282399453}}, 'last_updated': 1627390611}}, 'metadata': {'timestamp': 1627390611, 'num_cryptocurrencies': 3105, 'error': None}}, {'data': {'1755': {'id': 1755, 'name': 'Flash', 'symbol': 'FLASH', 'website_slug': 'flash', 'rank': 5481, 'circulating_supply': 0, 'total_supply': 0, 'max_supply': 900000000, 'quotes': {'USD': {'price': 0.00297167, 'volume_24h': 2, 'market_cap': 0, 'percentage_change_1h': -11.1442994948986, 'percentage_change_24h': -2.77964876739159, 'percentage_change_7d': -3.85221286405283, 'percent_change_1h': -11.1442994948986, 'percent_change_24h': -2.77964876739159, 'percent_change_7d': -3.85221286405283}}, 'last_updated': 1627371385}}, 'metadata': {'timestamp': 1627371385, 'num_cryptocurrencies': 3105, 'error': None}}, {'data': {'1757': {'id': 1757, 'name': 'FunFair', 'symbol': 'FUN', 'website_slug': 'funfair', 'rank': 167, 'circulating_supply': 10598879189, 'total_supply': 10598879189, 'max_supply': 10999873621, 'quotes': {'USD': {'price': 0.01200904, 'volume_24h': 6970988, 'market_cap': 130679777, 'percentage_change_1h': -2.74762563461274, 'percentage_change_24h': 5.45392553998878, 'percentage_change_7d': 8.22766282410743, 'percent_change_1h': -2.74762563461274, 'percent_change_24h': 5.45392553998878, 'percent_change_7d': 8.22766282410743}}, 'last_updated': 1642720769}}, 'metadata': {'timestamp': 1642720769, 'num_cryptocurrencies': 3105, 'error': None}}, {'data': {'1758': {'id': 1758, 'name': 'TenX', 'symbol': 'PAY', 'website_slug': 'tenx', 'rank': 813, 'circulating_supply': 118141601, 'total_supply': 118141601, 'max_supply': 205218256, 'quotes': {'USD': {'price': 0.04873832, 'volume_24h': 755861, 'market_cap': 5753072, 'percentage_change_1h': 1.09558845607898, 'percentage_change_24h': -2.10200283657452, 'percentage_change_7d': 16.7349982181377, 'percent_change_1h': 1.09558845607898, 'percent_change_24h': -2.10200283657452, 'percent_change_7d': 16.7349982181377}}, 'last_updated': 1627390882}}, 'metadata': {'timestamp': 1627390882, 'num_cryptocurrencies': 3105, 'error': None}}, {'data': {'1759': {'id': 1759, 'name': 'Status', 'symbol': 'SNT', 'website_slug': 'status', 'rank': 157, 'circulating_supply': 3880483788, 'total_supply': 3880483788, 'max_supply': 6804870174, 'quotes': {'USD': {'price': 0.04962481, 'volume_24h': 5459076, 'market_cap': 192525669, 'percentage_change_1h': -0.402729331383785, 'percentage_change_24h': -0.568421299291689, 'percentage_change_7d': 6.46209539435785, 'percent_change_1h': -0.402729331383785, 'percent_change_24h': -0.568421299291689, 'percent_change_7d': 6.46209539435785}}, 'last_updated': 1643568830}}, 'metadata': {'timestamp': 1643568830, 'num_cryptocurrencies': 3105, 'error': None}}, {'data': {'1760': {'id': 1760, 'name': 'ChanCoin', 'symbol': 'CHAN', 'website_slug': 'chancoin', 'rank': 2322, 'circulating_supply': 23548154, 'total_supply': 23548154, 'max_supply': 0, 'quotes': {'USD': {'price': 0.00103907, 'volume_24h': 0, 'market_cap': 24468, 'percentage_change_1h': None, 'percentage_change_24h': -5.40384875638166, 'percentage_change_7d': 99.1840715256202, 'percent_change_1h': None, 'percent_change_24h': -5.40384875638166, 'percent_change_7d': 99.1840715256202}}, 'last_updated': 1627363687}}, 'metadata': {'timestamp': 1627363687, 'num_cryptocurrencies': 3105, 'error': None}}, {'data': {'1762': {'id': 1762, 'name': 'Ergo', 'symbol': 'ERG', 'website_slug': 'ergo', 'rank': 120, 'circulating_supply': 49893951, 'total_supply': 49893951, 'max_supply': 97739924, 'quotes': {'USD': {'price': 3.53, 'volume_24h': 616965, 'market_cap': 176431336, 'percentage_change_1h': -0.174842065473175, 'percentage_change_24h': -2.40977496980532, 'percentage_change_7d': 13.6103557191197, 'percent_change_1h': -0.174842065473175, 'percent_change_24h': -2.40977496980532, 'percent_change_7d': 13.6103557191197}}, 'last_updated': 1643568794}}, 'metadata': {'timestamp': 1643568794, 'num_cryptocurrencies': 3105, 'error': None}}, {'data': {'1765': {'id': 1765, 'name': 'EOS', 'symbol': 'EOS', 'website_slug': 'eos', 'rank': 35, 'circulating_supply': 982613346, 'total_supply': 982613346, 'max_supply': 0, 'quotes': {'USD': {'price': 2.32, 'volume_24h': 207783751, 'market_cap': 2280743561, 'percentage_change_1h': -0.414022192513161, 'percentage_change_24h': -1.88069114444528, 'percentage_change_7d': 4.10041830869734, 'percent_change_1h': -0.414022192513161, 'percent_change_24h': -1.88069114444528, 'percent_change_7d': 4.10041830869734}}, 'last_updated': 1643568895}}, 'metadata': {'timestamp': 1643568895, 'num_cryptocurrencies': 3105, 'error': None}}, {'data': {'1768': {'id': 1768, 'name': 'AdEx', 'symbol': 'ADX', 'website_slug': 'adex', 'rank': 361, 'circulating_supply': 132969268, 'total_supply': 132969268, 'max_supply': 141413856, 'quotes': {'USD': {'price': 1.35, 'volume_24h': 496080901, 'market_cap': 210030185, 'percentage_change_1h': -13.394947372914, 'percentage_change_24h': 162.703602311952, 'percentage_change_7d': 141.907116459724, 'percent_change_1h': -13.394947372914, 'percent_change_24h': 162.703602311952, 'percent_change_7d': 141.907116459724}}, 'last_updated': 1635511149}}, 'metadata': {'timestamp': 1635511149, 'num_cryptocurrencies': 3105, 'error': None}}, {'data': {'1769': {'id': 1769, 'name': 'Denarius', 'symbol': 'D', 'website_slug': 'denarius', 'rank': 1062, 'circulating_supply': 7615352, 'total_supply': 7615352, 'max_supply': 10000000, 'quotes': {'USD': {'price': 0.309774, 'volume_24h': 47, 'market_cap': 2359036, 'percentage_change_1h': 0.0638991502553705, 'percentage_change_24h': -3.45763946859538, 'percentage_change_7d': 22.0158786453645, 'percent_change_1h': 0.0638991502553705, 'percent_change_24h': -3.45763946859538, 'percent_change_7d': 22.0158786453645}}, 'last_updated': 1627388658}}, 'metadata': {'timestamp': 1627388658, 'num_cryptocurrencies': 3105, 'error': None}}, {'data': {'1772': {'id': 1772, 'name': 'Storj', 'symbol': 'STORJ', 'website_slug': 'storj', 'rank': 226, 'circulating_supply': 143787439, 'total_supply': 143787439, 'max_supply': 424999998, 'quotes': {'USD': {'price': 1.13, 'volume_24h': 23393832, 'market_cap': 163043897, 'percentage_change_1h': -0.110887247100342, 'percentage_change_24h': -1.52131093754006, 'percentage_change_7d': 8.46400827645629, 'percent_change_1h': -0.110887247100342, 'percent_change_24h': -1.52131093754006, 'percent_change_7d': 8.46400827645629}}, 'last_updated': 1643568863}}, 'metadata': {'timestamp': 1643568863, 'num_cryptocurrencies': 3105, 'error': None}}, {'data': {'1775': {'id': 1775, 'name': 'adToken', 'symbol': 'ADT', 'website_slug': 'adtoken', 'rank': 1457, 'circulating_supply': 824000000, 'total_supply': 824000000, 'max_supply': 1000000000, 'quotes': {'USD': {'price': 0.00076701, 'volume_24h': 582, 'market_cap': 632020, 'percentage_change_1h': 103.723874611328, 'percentage_change_24h': 91.3664020609864, 'percentage_change_7d': 24.5932188160563, 'percent_change_1h': 103.723874611328, 'percent_change_24h': 91.3664020609864, 'percent_change_7d': 24.5932188160563}}, 'last_updated': 1627387321}}, 'metadata': {'timestamp': 1627387321, 'num_cryptocurrencies': 3105, 'error': None}}, {'data': {'1777': {'id': 1777, 'name': 'CryptoPing', 'symbol': 'PING', 'website_slug': 'cryptoping', 'rank': 7599, 'circulating_supply': 0, 'total_supply': 0, 'max_supply': 7244286, 'quotes': {'USD': {'price': 0.243077, 'volume_24h': 140, 'market_cap': 0, 'percentage_change_1h': None, 'percentage_change_24h': None, 'percentage_change_7d': None, 'percent_change_1h': None, 'percent_change_24h': None, 'percent_change_7d': None}}, 'last_updated': 1627291814}}, 'metadata': {'timestamp': 1627291814, 'num_cryptocurrencies': 3105, 'error': None}}, {'data': {'1782': {'id': 1782, 'name': 'Ecobit', 'symbol': 'ECOB', 'website_slug': 'ecobit', 'rank': 5570, 'circulating_supply': 0, 'total_supply': 0, 'max_supply': 8888888888, 'quotes': {'USD': {'price': 0.00140599, 'volume_24h': 0, 'market_cap': 0, 'percentage_change_1h': None, 'percentage_change_24h': -0.690442840513581, 'percentage_change_7d': -10.6459970633342, 'percent_change_1h': None, 'percent_change_24h': -0.690442840513581, 'percent_change_7d': -10.6459970633342}}, 'last_updated': 1627371005}}, 'metadata': {'timestamp': 1627371005, 'num_cryptocurrencies': 3105, 'error': None}}, {'data': {'1785': {'id': 1785, 'name': 'Gas', 'symbol': 'GAS', 'website_slug': 'gas', 'rank': 283, 'circulating_supply': 13935116, 'total_supply': 13935116, 'max_supply': 100000000, 'quotes': {'USD': {'price': 11.81, 'volume_24h': 34850353, 'market_cap': 164399279, 'percentage_change_1h': 0.167739364343838, 'percentage_change_24h': -2.00825036914889, 'percentage_change_7d': 18.1022587546892, 'percent_change_1h': 0.167739364343838, 'percent_change_24h': -2.00825036914889, 'percent_change_7d': 18.1022587546892}}, 'last_updated': 1630997989}}, 'metadata': {'timestamp': 1630997989, 'num_cryptocurrencies': 3105, 'error': None}}, {'data': {'1786': {'id': 1786, 'name': 'SunContract', 'symbol': 'SNC', 'website_slug': 'suncontract', 'rank': 930, 'circulating_supply': 122707503, 'total_supply': 122707503, 'max_supply': 122707503, 'quotes': {'USD': {'price': 0.0296871, 'volume_24h': 267010, 'market_cap': 3631407, 'percentage_change_1h': 0.332221074958087, 'percentage_change_24h': -0.444269231623147, 'percentage_change_7d': 12.3415018570262, 'percent_change_1h': 0.332221074958087, 'percent_change_24h': -0.444269231623147, 'percent_change_7d': 12.3415018570262}}, 'last_updated': 1627391083}}, 'metadata': {'timestamp': 1627391083, 'num_cryptocurrencies': 3105, 'error': None}}, {'data': {'1787': {'id': 1787, 'name': 'Jetcoin', 'symbol': 'JET', 'website_slug': 'jetcoin', 'rank': 1493, 'circulating_supply': 12768025, 'total_supply': 12768025, 'max_supply': 80000000, 'quotes': {'USD': {'price': 0.04573778, 'volume_24h': 748319, 'market_cap': 575515, 'percentage_change_1h': 1.98404273104792, 'percentage_change_24h': -0.495035850591101, 'percentage_change_7d': 392.360383550848, 'percent_change_1h': 1.98404273104792, 'percent_change_24h': -0.495035850591101, 'percent_change_7d': 392.360383550848}}, 'last_updated': 1627390764}}, 'metadata': {'timestamp': 1627390764, 'num_cryptocurrencies': 3105, 'error': None}}, {'data': {'1788': {'id': 1788, 'name': 'Metal', 'symbol': 'MTL', 'website_slug': 'metal', 'rank': 240, 'circulating_supply': 64633864, 'total_supply': 64633864, 'max_supply': 66588888, 'quotes': {'USD': {'price': 1.91, 'volume_24h': 6291481, 'market_cap': 124355876, 'percentage_change_1h': -1.13577077193395, 'percentage_change_24h': 0.115344560489239, 'percentage_change_7d': -0.711115150338884, 'percent_change_1h': -1.13577077193395, 'percent_change_24h': 0.115344560489239, 'percent_change_7d': -0.711115150338884}}, 'last_updated': 1642381177}}, 'metadata': {'timestamp': 1642381177, 'num_cryptocurrencies': 3105, 'error': None}}, {'data': {'1789': {'id': 1789, 'name': 'Populous', 'symbol': 'PPT', 'website_slug': 'populous', 'rank': 325, 'circulating_supply': 36226899, 'total_supply': 36226899, 'max_supply': 53252246, 'quotes': {'USD': {'price': 2.56, 'volume_24h': 3557125, 'market_cap': 92680088, 'percentage_change_1h': 0.0170029286189166, 'percentage_change_24h': -6.54136680313303, 'percentage_change_7d': -2.00339957736702, 'percent_change_1h': 0.0170029286189166, 'percent_change_24h': -6.54136680313303, 'percent_change_7d': -2.00339957736702}}, 'last_updated': 1629266936}}, 'metadata': {'timestamp': 1629266936, 'num_cryptocurrencies': 3105, 'error': None}}, {'data': {'1790': {'id': 1790, 'name': 'WomenCoin', 'symbol': 'WOMEN', 'website_slug': 'womencoin', 'rank': 1705, 'circulating_supply': 55208792986, 'total_supply': 55208792986, 'max_supply': 90000000000, 'quotes': {'USD': {'price': 5.13e-06, 'volume_24h': 0, 'market_cap': 283355, 'percentage_change_1h': None, 'percentage_change_24h': -20.0618314439291, 'percentage_change_7d': -9.25750910716594, 'percent_change_1h': None, 'percent_change_24h': -20.0618314439291, 'percent_change_7d': -9.25750910716594}}, 'last_updated': 1627347665}}, 'metadata': {'timestamp': 1627347665, 'num_cryptocurrencies': 3105, 'error': None}}, {'data': {'1799': {'id': 1799, 'name': 'Rupee', 'symbol': 'RUP', 'website_slug': 'rupee', 'rank': 6345, 'circulating_supply': 0, 'total_supply': 0, 'max_supply': 84000000, 'quotes': {'USD': {'price': 0.00505774, 'volume_24h': 1, 'market_cap': 0, 'percentage_change_1h': None, 'percentage_change_24h': 302.836082892718, 'percentage_change_7d': 410.592076521348, 'percent_change_1h': None, 'percent_change_24h': 302.836082892718, 'percent_change_7d': 410.592076521348}}, 'last_updated': 1627388534}}, 'metadata': {'timestamp': 1627388534, 'num_cryptocurrencies': 3105, 'error': None}}, {'data': {'1803': {'id': 1803, 'name': 'Peepcoin', 'symbol': 'PCN', 'website_slug': 'peepcoin', 'rank': 5840, 'circulating_supply': 1841, 'total_supply': 1841, 'max_supply': 57819073831, 'quotes': {'USD': {'price': 1.39e-06, 'volume_24h': 24, 'market_cap': 0, 'percentage_change_1h': None, 'percentage_change_24h': -49.1750646430552, 'percentage_change_7d': -54.8953767121495, 'percent_change_1h': None, 'percent_change_24h': -49.1750646430552, 'percent_change_7d': -54.8953767121495}}, 'last_updated': 1627376190}}, 'metadata': {'timestamp': 1627376190, 'num_cryptocurrencies': 3105, 'error': None}}, {'data': {'1807': {'id': 1807, 'name': 'Santiment Network Token', 'symbol': 'SAN', 'website_slug': 'santiment-network-token', 'rank': 574, 'circulating_supply': 64048080, 'total_supply': 64048080, 'max_supply': 83337000, 'quotes': {'USD': {'price': 0.237312, 'volume_24h': 220759, 'market_cap': 15165901, 'percentage_change_1h': 1.94434431654966, 'percentage_change_24h': -4.31712804070137, 'percentage_change_7d': 20.1175004055816, 'percent_change_1h': 1.94434431654966, 'percent_change_24h': -4.31712804070137, 'percent_change_7d': 20.1175004055816}}, 'last_updated': 1627390808}}, 'metadata': {'timestamp': 1627390808, 'num_cryptocurrencies': 3105, 'error': None}}, {'data': {'1808': {'id': 1808, 'name': 'OMG Network', 'symbol': 'OMG', 'website_slug': 'omisego', 'rank': 110, 'circulating_supply': 140245398, 'total_supply': 140245398, 'max_supply': 140245398, 'quotes': {'USD': {'price': 4.84, 'volume_24h': 211585829, 'market_cap': 678697583, 'percentage_change_1h': 0.542366871497535, 'percentage_change_24h': 1.01557264029596, 'percentage_change_7d': 13.8596282216793, 'percent_change_1h': 0.542366871497535, 'percent_change_24h': 1.01557264029596, 'percent_change_7d': 13.8596282216793}}, 'last_updated': 1643568824}}, 'metadata': {'timestamp': 1643568824, 'num_cryptocurrencies': 3105, 'error': None}}]\n"
     ]
    }
   ],
   "source": [
    "print(new_valid_coins)"
   ]
  },
  {
   "cell_type": "code",
   "execution_count": 10,
   "metadata": {},
   "outputs": [
    {
     "name": "stdout",
     "output_type": "stream",
     "text": [
      "[{'data': {}, 'metadata': {'timestamp': 1643569011, 'num_cryptocurrencies': 3105, 'error': 'unknown id'}}, {'data': {'699': {'id': 699, 'name': 'NuShares', 'symbol': 'NSR', 'website_slug': 'nushares', 'rank': 5839, 'circulating_supply': 0, 'total_supply': 0, 'max_supply': 1000000000, 'quotes': {'USD': {'price': 0.00015327, 'volume_24h': 0, 'market_cap': 0, 'percentage_change_1h': None, 'percentage_change_24h': None, 'percentage_change_7d': 24.423908989996, 'percent_change_1h': None, 'percent_change_24h': None, 'percent_change_7d': 24.423908989996}}, 'last_updated': 1627291900}}, 'metadata': {'timestamp': 1627291900, 'num_cryptocurrencies': 3105, 'error': None}}, {'data': {'706': {'id': 706, 'name': 'MonetaryUnit', 'symbol': 'MUE', 'website_slug': 'monetaryunit', 'rank': 1283, 'circulating_supply': 228408447, 'total_supply': 228408447, 'max_supply': 1000000000000000, 'quotes': {'USD': {'price': 0.00494166, 'volume_24h': 2055, 'market_cap': 1128718, 'percentage_change_1h': None, 'percentage_change_24h': -1.18562847558757, 'percentage_change_7d': 14.2453800458785, 'percent_change_1h': None, 'percent_change_24h': -1.18562847558757, 'percent_change_7d': 14.2453800458785}}, 'last_updated': 1627389483}}, 'metadata': {'timestamp': 1627389483, 'num_cryptocurrencies': 3105, 'error': None}}, {'data': {'707': {'id': 707, 'name': 'Blocknet', 'symbol': 'BLOCK', 'website_slug': 'blocknet', 'rank': 713, 'circulating_supply': 7905241, 'total_supply': 7905241, 'max_supply': 0, 'quotes': {'USD': {'price': 1.03, 'volume_24h': 8273, 'market_cap': 8048508, 'percentage_change_1h': 1.29889975053903, 'percentage_change_24h': -5.87292228797594, 'percentage_change_7d': 9.56264706539438, 'percent_change_1h': 1.29889975053903, 'percent_change_24h': -5.87292228797594, 'percent_change_7d': 9.56264706539438}}, 'last_updated': 1627390764}}, 'metadata': {'timestamp': 1627390764, 'num_cryptocurrencies': 3105, 'error': None}}, {'data': {'708': {'id': 708, 'name': 'Gapcoin', 'symbol': 'GAP', 'website_slug': 'gapcoin', 'rank': 1679, 'circulating_supply': 16723294, 'total_supply': 16723294, 'max_supply': 0, 'quotes': {'USD': {'price': 0.01822285, 'volume_24h': 23, 'market_cap': 304746, 'percentage_change_1h': None, 'percentage_change_24h': 2.41788925145904, 'percentage_change_7d': -18.9946119084481, 'percent_change_1h': None, 'percent_change_24h': 2.41788925145904, 'percent_change_7d': -18.9946119084481}}, 'last_updated': 1627389014}}, 'metadata': {'timestamp': 1627389014, 'num_cryptocurrencies': 3105, 'error': None}}, {'data': {'720': {'id': 720, 'name': 'Crown', 'symbol': 'CRW', 'website_slug': 'crown', 'rank': 1109, 'circulating_supply': 27682330, 'total_supply': 27682330, 'max_supply': 42000000, 'quotes': {'USD': {'price': 0.073599, 'volume_24h': 2307, 'market_cap': 2037394, 'percentage_change_1h': None, 'percentage_change_24h': -3.51383286509319, 'percentage_change_7d': 17.6996923536366, 'percent_change_1h': None, 'percent_change_24h': -3.51383286509319, 'percent_change_7d': 17.6996923536366}}, 'last_updated': 1627387322}}, 'metadata': {'timestamp': 1627387322, 'num_cryptocurrencies': 3105, 'error': None}}, {'data': {'723': {'id': 723, 'name': 'BitBay', 'symbol': 'BAY', 'website_slug': 'bitbay', 'rank': 8795, 'circulating_supply': 0, 'total_supply': 0, 'max_supply': 1029153366, 'quotes': {'USD': {'price': 0.596917, 'volume_24h': 7, 'market_cap': 0, 'percentage_change_1h': None, 'percentage_change_24h': None, 'percentage_change_7d': None, 'percent_change_1h': None, 'percent_change_24h': None, 'percent_change_7d': None}}, 'last_updated': 1625513420}}, 'metadata': {'timestamp': 1625513420, 'num_cryptocurrencies': 3105, 'error': None}}, {'data': {'730': {'id': 730, 'name': 'GCN Coin', 'symbol': 'GCN', 'website_slug': 'gcn-coin', 'rank': 2092, 'circulating_supply': 149381200000, 'total_supply': 149381200000, 'max_supply': 200000000000, 'quotes': {'USD': {'price': 4.53173e-07, 'volume_24h': 12, 'market_cap': 67696, 'percentage_change_1h': None, 'percentage_change_24h': -10.9718570166726, 'percentage_change_7d': 9.97565689019746, 'percent_change_1h': None, 'percent_change_24h': -10.9718570166726, 'percent_change_7d': 9.97565689019746}}, 'last_updated': 1627374174}}, 'metadata': {'timestamp': 1627374174, 'num_cryptocurrencies': 3105, 'error': None}}, {'data': {'733': {'id': 733, 'name': 'Quotient', 'symbol': 'XQN', 'website_slug': 'quotient', 'rank': 7702, 'circulating_supply': 0, 'total_supply': 0, 'max_supply': 0, 'quotes': {'USD': {'price': 0.00038041, 'volume_24h': 0, 'market_cap': 0, 'percentage_change_1h': None, 'percentage_change_24h': None, 'percentage_change_7d': None, 'percent_change_1h': None, 'percent_change_24h': None, 'percent_change_7d': None}}, 'last_updated': 1627279264}}, 'metadata': {'timestamp': 1627279264, 'num_cryptocurrencies': 3105, 'error': None}}, {'data': {'747': {'id': 747, 'name': 'Bitcoin Fast', 'symbol': 'BCF', 'website_slug': 'bitcoin-fast', 'rank': 3706, 'circulating_supply': 0, 'total_supply': 0, 'max_supply': 21000000, 'quotes': {'USD': {'price': 0.00445451, 'volume_24h': 47, 'market_cap': 0, 'percentage_change_1h': None, 'percentage_change_24h': -3.94709731447487, 'percentage_change_7d': 16.7402208509587, 'percent_change_1h': None, 'percent_change_24h': -3.94709731447487, 'percent_change_7d': 16.7402208509587}}, 'last_updated': 1627363834}}, 'metadata': {'timestamp': 1627363834, 'num_cryptocurrencies': 3105, 'error': None}}, {'data': {'760': {'id': 760, 'name': 'OKCash', 'symbol': 'OK', 'website_slug': 'okcash', 'rank': 1083, 'circulating_supply': 82329188, 'total_supply': 82329188, 'max_supply': 105000000, 'quotes': {'USD': {'price': 0.0266758, 'volume_24h': 538612, 'market_cap': 2183180, 'percentage_change_1h': 0.839738521293899, 'percentage_change_24h': -8.53017309464031, 'percentage_change_7d': 8.51431859414259, 'percent_change_1h': 0.839738521293899, 'percent_change_24h': -8.53017309464031, 'percent_change_7d': 8.51431859414259}}, 'last_updated': 1627390886}}, 'metadata': {'timestamp': 1627390886, 'num_cryptocurrencies': 3105, 'error': None}}, {'data': {'781': {'id': 781, 'name': 'Unitus', 'symbol': 'UIS', 'website_slug': 'unitus', 'rank': 6349, 'circulating_supply': 0, 'total_supply': 0, 'max_supply': 0, 'quotes': {'USD': {'price': 0.00184595, 'volume_24h': 10, 'market_cap': 0, 'percentage_change_1h': 0.120538062276296, 'percentage_change_24h': 139.27194258786, 'percentage_change_7d': 98.9409409749684, 'percent_change_1h': 0.120538062276296, 'percent_change_24h': 139.27194258786, 'percent_change_7d': 98.9409409749684}}, 'last_updated': 1627380534}}, 'metadata': {'timestamp': 1627380534, 'num_cryptocurrencies': 3105, 'error': None}}, {'data': {'785': {'id': 785, 'name': 'GoldPieces', 'symbol': 'GP', 'website_slug': 'goldpieces', 'rank': 6644, 'circulating_supply': 0, 'total_supply': 0, 'max_supply': 0, 'quotes': {'USD': {'price': 0.01077267, 'volume_24h': 1, 'market_cap': 0, 'percentage_change_1h': None, 'percentage_change_24h': -3.82889065834364, 'percentage_change_7d': 10.2599527495401, 'percent_change_1h': None, 'percent_change_24h': -3.82889065834364, 'percent_change_7d': 10.2599527495401}}, 'last_updated': 1627373150}}, 'metadata': {'timestamp': 1627373150, 'num_cryptocurrencies': 3105, 'error': None}}, {'data': {'788': {'id': 788, 'name': 'Circuits of Value', 'symbol': 'COVAL', 'website_slug': 'circuits-of-value', 'rank': 735, 'circulating_supply': 1786798861, 'total_supply': 1786798861, 'max_supply': 1786798861, 'quotes': {'USD': {'price': 0.067555, 'volume_24h': 4097990, 'market_cap': 125735931, 'percentage_change_1h': -5.47377108357246, 'percentage_change_24h': -3.59477784799677, 'percentage_change_7d': -31.7930465425639, 'percent_change_1h': -5.47377108357246, 'percent_change_24h': -3.59477784799677, 'percent_change_7d': -31.7930465425639}}, 'last_updated': 1643001859}}, 'metadata': {'timestamp': 1643001859, 'num_cryptocurrencies': 3105, 'error': None}}, {'data': {'789': {'id': 789, 'name': 'Nexus', 'symbol': 'NXS', 'website_slug': 'nexus', 'rank': 442, 'circulating_supply': 68164966, 'total_supply': 68164966, 'max_supply': 78000000, 'quotes': {'USD': {'price': 0.47935, 'volume_24h': 217375, 'market_cap': 32674856, 'percentage_change_1h': 1.60110129383395, 'percentage_change_24h': -1.14309918201009, 'percentage_change_7d': 30.7728524825932, 'percent_change_1h': 1.60110129383395, 'percent_change_24h': -1.14309918201009, 'percent_change_7d': 30.7728524825932}}, 'last_updated': 1627490871}}, 'metadata': {'timestamp': 1627490871, 'num_cryptocurrencies': 3105, 'error': None}}, {'data': {}, 'metadata': {'timestamp': 1643569013, 'num_cryptocurrencies': 3105, 'error': 'unknown id'}}, {'data': {'1750': {'id': 1750, 'name': 'GXChain', 'symbol': 'GXC', 'website_slug': 'gxchain', 'rank': 443, 'circulating_supply': 75000000, 'total_supply': 75000000, 'max_supply': 100000000, 'quotes': {'USD': {'price': 1.68, 'volume_24h': 33284196, 'market_cap': 127074362, 'percentage_change_1h': -0.975949329878341, 'percentage_change_24h': -16.0201716064446, 'percentage_change_7d': -21.9109155814682, 'percent_change_1h': -0.975949329878341, 'percent_change_24h': -16.0201716064446, 'percent_change_7d': -21.9109155814682}}, 'last_updated': 1642796663}}, 'metadata': {'timestamp': 1642796663, 'num_cryptocurrencies': 3105, 'error': None}}, {'data': {'1754': {'id': 1754, 'name': 'Bitradio', 'symbol': 'BRO', 'website_slug': 'bitradio', 'rank': 2003, 'circulating_supply': 15211719, 'total_supply': 15211719, 'max_supply': 10834666, 'quotes': {'USD': {'price': 0.00652404, 'volume_24h': 17, 'market_cap': 98056, 'percentage_change_1h': 1.209350544139, 'percentage_change_24h': -0.701076483751551, 'percentage_change_7d': 40.3361282399453, 'percent_change_1h': 1.209350544139, 'percent_change_24h': -0.701076483751551, 'percent_change_7d': 40.3361282399453}}, 'last_updated': 1627390611}}, 'metadata': {'timestamp': 1627390611, 'num_cryptocurrencies': 3105, 'error': None}}, {'data': {'1755': {'id': 1755, 'name': 'Flash', 'symbol': 'FLASH', 'website_slug': 'flash', 'rank': 5481, 'circulating_supply': 0, 'total_supply': 0, 'max_supply': 900000000, 'quotes': {'USD': {'price': 0.00297167, 'volume_24h': 2, 'market_cap': 0, 'percentage_change_1h': -11.1442994948986, 'percentage_change_24h': -2.77964876739159, 'percentage_change_7d': -3.85221286405283, 'percent_change_1h': -11.1442994948986, 'percent_change_24h': -2.77964876739159, 'percent_change_7d': -3.85221286405283}}, 'last_updated': 1627371385}}, 'metadata': {'timestamp': 1627371385, 'num_cryptocurrencies': 3105, 'error': None}}, {'data': {'1757': {'id': 1757, 'name': 'FunFair', 'symbol': 'FUN', 'website_slug': 'funfair', 'rank': 167, 'circulating_supply': 10598879189, 'total_supply': 10598879189, 'max_supply': 10999873621, 'quotes': {'USD': {'price': 0.01200904, 'volume_24h': 6970988, 'market_cap': 130679777, 'percentage_change_1h': -2.74762563461274, 'percentage_change_24h': 5.45392553998878, 'percentage_change_7d': 8.22766282410743, 'percent_change_1h': -2.74762563461274, 'percent_change_24h': 5.45392553998878, 'percent_change_7d': 8.22766282410743}}, 'last_updated': 1642720769}}, 'metadata': {'timestamp': 1642720769, 'num_cryptocurrencies': 3105, 'error': None}}, {'data': {'1758': {'id': 1758, 'name': 'TenX', 'symbol': 'PAY', 'website_slug': 'tenx', 'rank': 813, 'circulating_supply': 118141601, 'total_supply': 118141601, 'max_supply': 205218256, 'quotes': {'USD': {'price': 0.04873832, 'volume_24h': 755861, 'market_cap': 5753072, 'percentage_change_1h': 1.09558845607898, 'percentage_change_24h': -2.10200283657452, 'percentage_change_7d': 16.7349982181377, 'percent_change_1h': 1.09558845607898, 'percent_change_24h': -2.10200283657452, 'percent_change_7d': 16.7349982181377}}, 'last_updated': 1627390882}}, 'metadata': {'timestamp': 1627390882, 'num_cryptocurrencies': 3105, 'error': None}}, {'data': {'1759': {'id': 1759, 'name': 'Status', 'symbol': 'SNT', 'website_slug': 'status', 'rank': 157, 'circulating_supply': 3880483788, 'total_supply': 3880483788, 'max_supply': 6804870174, 'quotes': {'USD': {'price': 0.04962481, 'volume_24h': 5459076, 'market_cap': 192525669, 'percentage_change_1h': -0.402729331383785, 'percentage_change_24h': -0.568421299291689, 'percentage_change_7d': 6.46209539435785, 'percent_change_1h': -0.402729331383785, 'percent_change_24h': -0.568421299291689, 'percent_change_7d': 6.46209539435785}}, 'last_updated': 1643568830}}, 'metadata': {'timestamp': 1643568830, 'num_cryptocurrencies': 3105, 'error': None}}, {'data': {'1760': {'id': 1760, 'name': 'ChanCoin', 'symbol': 'CHAN', 'website_slug': 'chancoin', 'rank': 2322, 'circulating_supply': 23548154, 'total_supply': 23548154, 'max_supply': 0, 'quotes': {'USD': {'price': 0.00103907, 'volume_24h': 0, 'market_cap': 24468, 'percentage_change_1h': None, 'percentage_change_24h': -5.40384875638166, 'percentage_change_7d': 99.1840715256202, 'percent_change_1h': None, 'percent_change_24h': -5.40384875638166, 'percent_change_7d': 99.1840715256202}}, 'last_updated': 1627363687}}, 'metadata': {'timestamp': 1627363687, 'num_cryptocurrencies': 3105, 'error': None}}, {'data': {'1762': {'id': 1762, 'name': 'Ergo', 'symbol': 'ERG', 'website_slug': 'ergo', 'rank': 120, 'circulating_supply': 49893951, 'total_supply': 49893951, 'max_supply': 97739924, 'quotes': {'USD': {'price': 3.53, 'volume_24h': 616965, 'market_cap': 176431336, 'percentage_change_1h': -0.174842065473175, 'percentage_change_24h': -2.40977496980532, 'percentage_change_7d': 13.6103557191197, 'percent_change_1h': -0.174842065473175, 'percent_change_24h': -2.40977496980532, 'percent_change_7d': 13.6103557191197}}, 'last_updated': 1643568794}}, 'metadata': {'timestamp': 1643568794, 'num_cryptocurrencies': 3105, 'error': None}}, {'data': {'1765': {'id': 1765, 'name': 'EOS', 'symbol': 'EOS', 'website_slug': 'eos', 'rank': 35, 'circulating_supply': 982613346, 'total_supply': 982613346, 'max_supply': 0, 'quotes': {'USD': {'price': 2.32, 'volume_24h': 207783751, 'market_cap': 2280743561, 'percentage_change_1h': -0.414022192513161, 'percentage_change_24h': -1.88069114444528, 'percentage_change_7d': 4.10041830869734, 'percent_change_1h': -0.414022192513161, 'percent_change_24h': -1.88069114444528, 'percent_change_7d': 4.10041830869734}}, 'last_updated': 1643568895}}, 'metadata': {'timestamp': 1643568895, 'num_cryptocurrencies': 3105, 'error': None}}, {'data': {'1768': {'id': 1768, 'name': 'AdEx', 'symbol': 'ADX', 'website_slug': 'adex', 'rank': 361, 'circulating_supply': 132969268, 'total_supply': 132969268, 'max_supply': 141413856, 'quotes': {'USD': {'price': 1.35, 'volume_24h': 496080901, 'market_cap': 210030185, 'percentage_change_1h': -13.394947372914, 'percentage_change_24h': 162.703602311952, 'percentage_change_7d': 141.907116459724, 'percent_change_1h': -13.394947372914, 'percent_change_24h': 162.703602311952, 'percent_change_7d': 141.907116459724}}, 'last_updated': 1635511149}}, 'metadata': {'timestamp': 1635511149, 'num_cryptocurrencies': 3105, 'error': None}}, {'data': {'1769': {'id': 1769, 'name': 'Denarius', 'symbol': 'D', 'website_slug': 'denarius', 'rank': 1062, 'circulating_supply': 7615352, 'total_supply': 7615352, 'max_supply': 10000000, 'quotes': {'USD': {'price': 0.309774, 'volume_24h': 47, 'market_cap': 2359036, 'percentage_change_1h': 0.0638991502553705, 'percentage_change_24h': -3.45763946859538, 'percentage_change_7d': 22.0158786453645, 'percent_change_1h': 0.0638991502553705, 'percent_change_24h': -3.45763946859538, 'percent_change_7d': 22.0158786453645}}, 'last_updated': 1627388658}}, 'metadata': {'timestamp': 1627388658, 'num_cryptocurrencies': 3105, 'error': None}}, {'data': {'1772': {'id': 1772, 'name': 'Storj', 'symbol': 'STORJ', 'website_slug': 'storj', 'rank': 226, 'circulating_supply': 143787439, 'total_supply': 143787439, 'max_supply': 424999998, 'quotes': {'USD': {'price': 1.13, 'volume_24h': 23393832, 'market_cap': 163043897, 'percentage_change_1h': -0.110887247100342, 'percentage_change_24h': -1.52131093754006, 'percentage_change_7d': 8.46400827645629, 'percent_change_1h': -0.110887247100342, 'percent_change_24h': -1.52131093754006, 'percent_change_7d': 8.46400827645629}}, 'last_updated': 1643568863}}, 'metadata': {'timestamp': 1643568863, 'num_cryptocurrencies': 3105, 'error': None}}, {'data': {'1775': {'id': 1775, 'name': 'adToken', 'symbol': 'ADT', 'website_slug': 'adtoken', 'rank': 1457, 'circulating_supply': 824000000, 'total_supply': 824000000, 'max_supply': 1000000000, 'quotes': {'USD': {'price': 0.00076701, 'volume_24h': 582, 'market_cap': 632020, 'percentage_change_1h': 103.723874611328, 'percentage_change_24h': 91.3664020609864, 'percentage_change_7d': 24.5932188160563, 'percent_change_1h': 103.723874611328, 'percent_change_24h': 91.3664020609864, 'percent_change_7d': 24.5932188160563}}, 'last_updated': 1627387321}}, 'metadata': {'timestamp': 1627387321, 'num_cryptocurrencies': 3105, 'error': None}}, {'data': {'1777': {'id': 1777, 'name': 'CryptoPing', 'symbol': 'PING', 'website_slug': 'cryptoping', 'rank': 7599, 'circulating_supply': 0, 'total_supply': 0, 'max_supply': 7244286, 'quotes': {'USD': {'price': 0.243077, 'volume_24h': 140, 'market_cap': 0, 'percentage_change_1h': None, 'percentage_change_24h': None, 'percentage_change_7d': None, 'percent_change_1h': None, 'percent_change_24h': None, 'percent_change_7d': None}}, 'last_updated': 1627291814}}, 'metadata': {'timestamp': 1627291814, 'num_cryptocurrencies': 3105, 'error': None}}, {'data': {}, 'metadata': {'timestamp': 1643569014, 'num_cryptocurrencies': 3105, 'error': 'unknown id'}}, {'data': {'1782': {'id': 1782, 'name': 'Ecobit', 'symbol': 'ECOB', 'website_slug': 'ecobit', 'rank': 5570, 'circulating_supply': 0, 'total_supply': 0, 'max_supply': 8888888888, 'quotes': {'USD': {'price': 0.00140599, 'volume_24h': 0, 'market_cap': 0, 'percentage_change_1h': None, 'percentage_change_24h': -0.690442840513581, 'percentage_change_7d': -10.6459970633342, 'percent_change_1h': None, 'percent_change_24h': -0.690442840513581, 'percent_change_7d': -10.6459970633342}}, 'last_updated': 1627371005}}, 'metadata': {'timestamp': 1627371005, 'num_cryptocurrencies': 3105, 'error': None}}, {'data': {}, 'metadata': {'timestamp': 1643569015, 'num_cryptocurrencies': 3105, 'error': 'unknown id'}}, {'data': {}, 'metadata': {'timestamp': 1643569015, 'num_cryptocurrencies': 3105, 'error': 'unknown id'}}, {'data': {'1785': {'id': 1785, 'name': 'Gas', 'symbol': 'GAS', 'website_slug': 'gas', 'rank': 283, 'circulating_supply': 13935116, 'total_supply': 13935116, 'max_supply': 100000000, 'quotes': {'USD': {'price': 11.81, 'volume_24h': 34850353, 'market_cap': 164399279, 'percentage_change_1h': 0.167739364343838, 'percentage_change_24h': -2.00825036914889, 'percentage_change_7d': 18.1022587546892, 'percent_change_1h': 0.167739364343838, 'percent_change_24h': -2.00825036914889, 'percent_change_7d': 18.1022587546892}}, 'last_updated': 1630997989}}, 'metadata': {'timestamp': 1630997989, 'num_cryptocurrencies': 3105, 'error': None}}, {'data': {}, 'metadata': {'timestamp': 1643569015, 'num_cryptocurrencies': 3105, 'error': 'unknown id'}}, {'data': {'1786': {'id': 1786, 'name': 'SunContract', 'symbol': 'SNC', 'website_slug': 'suncontract', 'rank': 930, 'circulating_supply': 122707503, 'total_supply': 122707503, 'max_supply': 122707503, 'quotes': {'USD': {'price': 0.0296871, 'volume_24h': 267010, 'market_cap': 3631407, 'percentage_change_1h': 0.332221074958087, 'percentage_change_24h': -0.444269231623147, 'percentage_change_7d': 12.3415018570262, 'percent_change_1h': 0.332221074958087, 'percent_change_24h': -0.444269231623147, 'percent_change_7d': 12.3415018570262}}, 'last_updated': 1627391083}}, 'metadata': {'timestamp': 1627391083, 'num_cryptocurrencies': 3105, 'error': None}}, {'data': {'1787': {'id': 1787, 'name': 'Jetcoin', 'symbol': 'JET', 'website_slug': 'jetcoin', 'rank': 1493, 'circulating_supply': 12768025, 'total_supply': 12768025, 'max_supply': 80000000, 'quotes': {'USD': {'price': 0.04573778, 'volume_24h': 748319, 'market_cap': 575515, 'percentage_change_1h': 1.98404273104792, 'percentage_change_24h': -0.495035850591101, 'percentage_change_7d': 392.360383550848, 'percent_change_1h': 1.98404273104792, 'percent_change_24h': -0.495035850591101, 'percent_change_7d': 392.360383550848}}, 'last_updated': 1627390764}}, 'metadata': {'timestamp': 1627390764, 'num_cryptocurrencies': 3105, 'error': None}}, {'data': {'1788': {'id': 1788, 'name': 'Metal', 'symbol': 'MTL', 'website_slug': 'metal', 'rank': 240, 'circulating_supply': 64633864, 'total_supply': 64633864, 'max_supply': 66588888, 'quotes': {'USD': {'price': 1.91, 'volume_24h': 6291481, 'market_cap': 124355876, 'percentage_change_1h': -1.13577077193395, 'percentage_change_24h': 0.115344560489239, 'percentage_change_7d': -0.711115150338884, 'percent_change_1h': -1.13577077193395, 'percent_change_24h': 0.115344560489239, 'percent_change_7d': -0.711115150338884}}, 'last_updated': 1642381177}}, 'metadata': {'timestamp': 1642381177, 'num_cryptocurrencies': 3105, 'error': None}}, {'data': {'1789': {'id': 1789, 'name': 'Populous', 'symbol': 'PPT', 'website_slug': 'populous', 'rank': 325, 'circulating_supply': 36226899, 'total_supply': 36226899, 'max_supply': 53252246, 'quotes': {'USD': {'price': 2.56, 'volume_24h': 3557125, 'market_cap': 92680088, 'percentage_change_1h': 0.0170029286189166, 'percentage_change_24h': -6.54136680313303, 'percentage_change_7d': -2.00339957736702, 'percent_change_1h': 0.0170029286189166, 'percent_change_24h': -6.54136680313303, 'percent_change_7d': -2.00339957736702}}, 'last_updated': 1629266936}}, 'metadata': {'timestamp': 1629266936, 'num_cryptocurrencies': 3105, 'error': None}}, {'data': {'1790': {'id': 1790, 'name': 'WomenCoin', 'symbol': 'WOMEN', 'website_slug': 'womencoin', 'rank': 1705, 'circulating_supply': 55208792986, 'total_supply': 55208792986, 'max_supply': 90000000000, 'quotes': {'USD': {'price': 5.13e-06, 'volume_24h': 0, 'market_cap': 283355, 'percentage_change_1h': None, 'percentage_change_24h': -20.0618314439291, 'percentage_change_7d': -9.25750910716594, 'percent_change_1h': None, 'percent_change_24h': -20.0618314439291, 'percent_change_7d': -9.25750910716594}}, 'last_updated': 1627347665}}, 'metadata': {'timestamp': 1627347665, 'num_cryptocurrencies': 3105, 'error': None}}, {'data': {'1799': {'id': 1799, 'name': 'Rupee', 'symbol': 'RUP', 'website_slug': 'rupee', 'rank': 6345, 'circulating_supply': 0, 'total_supply': 0, 'max_supply': 84000000, 'quotes': {'USD': {'price': 0.00505774, 'volume_24h': 1, 'market_cap': 0, 'percentage_change_1h': None, 'percentage_change_24h': 302.836082892718, 'percentage_change_7d': 410.592076521348, 'percent_change_1h': None, 'percent_change_24h': 302.836082892718, 'percent_change_7d': 410.592076521348}}, 'last_updated': 1627388534}}, 'metadata': {'timestamp': 1627388534, 'num_cryptocurrencies': 3105, 'error': None}}, {'data': {'1803': {'id': 1803, 'name': 'Peepcoin', 'symbol': 'PCN', 'website_slug': 'peepcoin', 'rank': 5840, 'circulating_supply': 1841, 'total_supply': 1841, 'max_supply': 57819073831, 'quotes': {'USD': {'price': 1.39e-06, 'volume_24h': 24, 'market_cap': 0, 'percentage_change_1h': None, 'percentage_change_24h': -49.1750646430552, 'percentage_change_7d': -54.8953767121495, 'percent_change_1h': None, 'percent_change_24h': -49.1750646430552, 'percent_change_7d': -54.8953767121495}}, 'last_updated': 1627376190}}, 'metadata': {'timestamp': 1627376190, 'num_cryptocurrencies': 3105, 'error': None}}, {'data': {'1807': {'id': 1807, 'name': 'Santiment Network Token', 'symbol': 'SAN', 'website_slug': 'santiment-network-token', 'rank': 574, 'circulating_supply': 64048080, 'total_supply': 64048080, 'max_supply': 83337000, 'quotes': {'USD': {'price': 0.237312, 'volume_24h': 220759, 'market_cap': 15165901, 'percentage_change_1h': 1.94434431654966, 'percentage_change_24h': -4.31712804070137, 'percentage_change_7d': 20.1175004055816, 'percent_change_1h': 1.94434431654966, 'percent_change_24h': -4.31712804070137, 'percent_change_7d': 20.1175004055816}}, 'last_updated': 1627390808}}, 'metadata': {'timestamp': 1627390808, 'num_cryptocurrencies': 3105, 'error': None}}, {'data': {'1808': {'id': 1808, 'name': 'OMG Network', 'symbol': 'OMG', 'website_slug': 'omisego', 'rank': 110, 'circulating_supply': 140245398, 'total_supply': 140245398, 'max_supply': 140245398, 'quotes': {'USD': {'price': 4.84, 'volume_24h': 211585829, 'market_cap': 678697583, 'percentage_change_1h': 0.542366871497535, 'percentage_change_24h': 1.01557264029596, 'percentage_change_7d': 13.8596282216793, 'percent_change_1h': 0.542366871497535, 'percent_change_24h': 1.01557264029596, 'percent_change_7d': 13.8596282216793}}, 'last_updated': 1643568824}}, 'metadata': {'timestamp': 1643568824, 'num_cryptocurrencies': 3105, 'error': None}}]\n"
     ]
    }
   ],
   "source": [
    "print(new_invalid_coins)"
   ]
  },
  {
   "cell_type": "code",
   "execution_count": null,
   "metadata": {},
   "outputs": [],
   "source": []
  }
 ],
 "metadata": {
  "kernelspec": {
   "display_name": "Python 3 (ipykernel)",
   "language": "python",
   "name": "python3"
  },
  "language_info": {
   "codemirror_mode": {
    "name": "ipython",
    "version": 3
   },
   "file_extension": ".py",
   "mimetype": "text/x-python",
   "name": "python",
   "nbconvert_exporter": "python",
   "pygments_lexer": "ipython3",
   "version": "3.7.11"
  }
 },
 "nbformat": 4,
 "nbformat_minor": 4
}
