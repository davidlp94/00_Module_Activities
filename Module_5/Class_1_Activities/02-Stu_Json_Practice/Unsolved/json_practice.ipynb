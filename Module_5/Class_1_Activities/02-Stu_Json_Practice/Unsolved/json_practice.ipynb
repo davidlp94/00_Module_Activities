{
 "cells": [
  {
   "cell_type": "markdown",
   "metadata": {},
   "source": [
    "# JSON Practice\n",
    "\n",
    "This short activity will give you the opportunity to practice converting a `json` to a `Pandas` `DataFrame`. You will read a `json` file containing housing data from Alberta Canada and then convert that json object to a `DataFrame`.\n",
    "\n",
    ">**Hint**: You can create `DataFrame` objects from a list of `Series`.\n"
   ]
  },
  {
   "cell_type": "markdown",
   "metadata": {},
   "source": [
    "## 1. Import Modules"
   ]
  },
  {
   "cell_type": "code",
   "execution_count": 1,
   "metadata": {},
   "outputs": [],
   "source": [
    "# Import modules\n",
    "from pathlib import Path\n",
    "import pandas as pd\n",
    "import json\n"
   ]
  },
  {
   "cell_type": "markdown",
   "metadata": {},
   "source": [
    "## 2. Set paths to `json` Files\n",
    "  - The file contains a json object that was returned from a request to the financial API, Quandl."
   ]
  },
  {
   "cell_type": "code",
   "execution_count": 2,
   "metadata": {},
   "outputs": [],
   "source": [
    "saved_response_path = Path(\"../Resources/alberta_housing_data.json\")"
   ]
  },
  {
   "cell_type": "markdown",
   "metadata": {},
   "source": [
    "## 3. Create an empty dictionary to read the `json` object into"
   ]
  },
  {
   "cell_type": "code",
   "execution_count": 3,
   "metadata": {},
   "outputs": [],
   "source": [
    "response = {}"
   ]
  },
  {
   "cell_type": "markdown",
   "metadata": {},
   "source": [
    "## 4. Using `json.load` read the `json` object into the `response` dictionary\n",
    "  - You can use [open](https://docs.python.org/3/tutorial/inputoutput.html#reading-and-writing-files) to create a file handle to pass to `json.load`."
   ]
  },
  {
   "cell_type": "code",
   "execution_count": 11,
   "metadata": {},
   "outputs": [],
   "source": [
    "# Read in file\n",
    "with open(saved_response_path, \"r\") as file_handle:\n",
    "    response = json.load(file_handle)\n",
    "    "
   ]
  },
  {
   "cell_type": "markdown",
   "metadata": {},
   "source": [
    "## 5. Retrieve the column_names\n",
    "  - Look closely at the structure of `response`. There is a list named `column_names` that contain the names for the data columns held in the json object.\n",
    "  - Retrieve this list and store it in a variable named `column_names`."
   ]
  },
  {
   "cell_type": "code",
   "execution_count": 5,
   "metadata": {},
   "outputs": [
    {
     "data": {
      "text/plain": [
       "['Date',\n",
       " '1st 20%',\n",
       " '2nd 40%',\n",
       " '3rd 60%',\n",
       " '4th 80%',\n",
       " 'Median',\n",
       " 'Average',\n",
       " 'Units']"
      ]
     },
     "execution_count": 5,
     "metadata": {},
     "output_type": "execute_result"
    }
   ],
   "source": [
    "# Get list of column names\n",
    "column_names = response['dataset']['column_names']\n",
    "column_names"
   ]
  },
  {
   "cell_type": "markdown",
   "metadata": {},
   "source": [
    "## 6. Create a `DataFrame` from `response`\n",
    "  - `pandas.DataFrame.from_dict` will not return a `DataFrame` with only the data values and column names.\n",
    "  - Create an empty list named `list_series`.\n",
    "  - Create a for loop that iterates over each row in `data`.\n",
    "  - Append a new `Series` for each row into `list_series`.\n",
    "  - Create a new `DataFrame` for the list of `Series` after the list is fully populated."
   ]
  },
  {
   "cell_type": "code",
   "execution_count": 12,
   "metadata": {},
   "outputs": [
    {
     "data": {
      "text/plain": [
       "['dataset']"
      ]
     },
     "execution_count": 12,
     "metadata": {},
     "output_type": "execute_result"
    }
   ],
   "source": [
    "# Empty list for storing the Series\n",
    "list_series = []\n",
    "\n",
    "\n",
    "# Loop over each row in `data`\n",
    "for row in response:\n",
    "    list_series.append(row)    \n",
    "\n",
    "\n",
    "# Create a DataFrame from the list of series\n",
    "list_series\n",
    "\n"
   ]
  },
  {
   "cell_type": "markdown",
   "metadata": {},
   "source": [
    "## 7. Set `DataFrame` column names\n",
    "  - Using the column names found previously, set the dataframe column names using the `column` attribute."
   ]
  },
  {
   "cell_type": "code",
   "execution_count": 7,
   "metadata": {},
   "outputs": [],
   "source": [
    "# Assign column names\n",
    "# YOUR CODE HERE!"
   ]
  },
  {
   "cell_type": "code",
   "execution_count": null,
   "metadata": {},
   "outputs": [],
   "source": [
    "\n"
   ]
  }
 ],
 "metadata": {
  "kernelspec": {
   "display_name": "Python 3 (ipykernel)",
   "language": "python",
   "name": "python3"
  },
  "language_info": {
   "codemirror_mode": {
    "name": "ipython",
    "version": 3
   },
   "file_extension": ".py",
   "mimetype": "text/x-python",
   "name": "python",
   "nbconvert_exporter": "python",
   "pygments_lexer": "ipython3",
   "version": "3.7.11"
  }
 },
 "nbformat": 4,
 "nbformat_minor": 4
}
