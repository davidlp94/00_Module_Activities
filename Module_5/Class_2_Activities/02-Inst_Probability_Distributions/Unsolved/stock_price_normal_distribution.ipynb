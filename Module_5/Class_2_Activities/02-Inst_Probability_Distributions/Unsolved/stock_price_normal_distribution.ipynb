{
 "cells": [
  {
   "cell_type": "markdown",
   "metadata": {},
   "source": [
    "# Demo: Normal Distribution of Stock Ticker Data\n",
    "\n",
    "This program retrieves stock price data using the Alpaca API and plots the data using Pandas. These plots demonstrate the distribution of daily stock closing prices compared to the expected normal probability distribution. "
   ]
  },
  {
   "cell_type": "markdown",
   "metadata": {},
   "source": [
    "## Import Dependencies"
   ]
  },
  {
   "cell_type": "code",
   "execution_count": 1,
   "metadata": {
    "tags": []
   },
   "outputs": [],
   "source": [
    "# Import libraries and dependencies\n",
    "import os\n",
    "import pandas as pd\n",
    "import alpaca_trade_api as tradeapi\n",
    "\n",
    "# Load .env environment variables\n",
    "from dotenv import load_dotenv\n",
    "load_dotenv('../../../../.env')\n",
    "\n",
    "%matplotlib inline"
   ]
  },
  {
   "cell_type": "code",
   "execution_count": 2,
   "metadata": {
    "tags": []
   },
   "outputs": [],
   "source": [
    "# Set Alpaca API key and secret\n",
    "alpaca_api_key = os.getenv(\"ALPACA_API_KEY_ENV\")\n",
    "alpaca_secret_key = os.getenv(\"ALPACA_SECRET_KEY_ENV\")\n",
    "\n",
    "# Create the Alpaca API object\n",
    "alpaca = tradeapi.REST(\n",
    "    alpaca_api_key,\n",
    "    alpaca_secret_key,\n",
    "    api_version=\"v2\"\n",
    ")"
   ]
  },
  {
   "cell_type": "markdown",
   "metadata": {},
   "source": [
    "## Get 1 Year's Worth of Stock Price Data via Alpaca API Call and Read in as DataFrame "
   ]
  },
  {
   "cell_type": "code",
   "execution_count": 3,
   "metadata": {},
   "outputs": [
    {
     "name": "stderr",
     "output_type": "stream",
     "text": [
      "C:\\Users\\dlpst\\anaconda3\\envs\\dev\\envs\\dev\\lib\\site-packages\\ipykernel_launcher.py:20: DeprecatedWarning: get_barset is deprecated as of v1.0.0. Use get_bars instead\n"
     ]
    },
    {
     "data": {
      "text/html": [
       "<div>\n",
       "<style scoped>\n",
       "    .dataframe tbody tr th:only-of-type {\n",
       "        vertical-align: middle;\n",
       "    }\n",
       "\n",
       "    .dataframe tbody tr th {\n",
       "        vertical-align: top;\n",
       "    }\n",
       "\n",
       "    .dataframe thead tr th {\n",
       "        text-align: left;\n",
       "    }\n",
       "\n",
       "    .dataframe thead tr:last-of-type th {\n",
       "        text-align: right;\n",
       "    }\n",
       "</style>\n",
       "<table border=\"1\" class=\"dataframe\">\n",
       "  <thead>\n",
       "    <tr>\n",
       "      <th></th>\n",
       "      <th colspan=\"5\" halign=\"left\">KO</th>\n",
       "      <th colspan=\"5\" halign=\"left\">TSLA</th>\n",
       "    </tr>\n",
       "    <tr>\n",
       "      <th></th>\n",
       "      <th>open</th>\n",
       "      <th>high</th>\n",
       "      <th>low</th>\n",
       "      <th>close</th>\n",
       "      <th>volume</th>\n",
       "      <th>open</th>\n",
       "      <th>high</th>\n",
       "      <th>low</th>\n",
       "      <th>close</th>\n",
       "      <th>volume</th>\n",
       "    </tr>\n",
       "    <tr>\n",
       "      <th>time</th>\n",
       "      <th></th>\n",
       "      <th></th>\n",
       "      <th></th>\n",
       "      <th></th>\n",
       "      <th></th>\n",
       "      <th></th>\n",
       "      <th></th>\n",
       "      <th></th>\n",
       "      <th></th>\n",
       "      <th></th>\n",
       "    </tr>\n",
       "  </thead>\n",
       "  <tbody>\n",
       "    <tr>\n",
       "      <th>2021-01-28 00:00:00-05:00</th>\n",
       "      <td>48.69</td>\n",
       "      <td>49.5000</td>\n",
       "      <td>48.61</td>\n",
       "      <td>49.14</td>\n",
       "      <td>15172192</td>\n",
       "      <td>820.0000</td>\n",
       "      <td>848.00</td>\n",
       "      <td>801.0000</td>\n",
       "      <td>835.4800</td>\n",
       "      <td>24222992</td>\n",
       "    </tr>\n",
       "    <tr>\n",
       "      <th>2021-01-29 00:00:00-05:00</th>\n",
       "      <td>49.03</td>\n",
       "      <td>49.1200</td>\n",
       "      <td>48.11</td>\n",
       "      <td>48.13</td>\n",
       "      <td>13906984</td>\n",
       "      <td>830.0003</td>\n",
       "      <td>842.41</td>\n",
       "      <td>782.2700</td>\n",
       "      <td>793.3110</td>\n",
       "      <td>20189293</td>\n",
       "    </tr>\n",
       "    <tr>\n",
       "      <th>2021-02-01 00:00:00-05:00</th>\n",
       "      <td>48.27</td>\n",
       "      <td>48.6900</td>\n",
       "      <td>48.18</td>\n",
       "      <td>48.48</td>\n",
       "      <td>10687330</td>\n",
       "      <td>814.2900</td>\n",
       "      <td>842.00</td>\n",
       "      <td>795.5601</td>\n",
       "      <td>840.0166</td>\n",
       "      <td>24005893</td>\n",
       "    </tr>\n",
       "    <tr>\n",
       "      <th>2021-02-02 00:00:00-05:00</th>\n",
       "      <td>48.80</td>\n",
       "      <td>49.3500</td>\n",
       "      <td>48.63</td>\n",
       "      <td>48.95</td>\n",
       "      <td>11056505</td>\n",
       "      <td>844.6800</td>\n",
       "      <td>880.50</td>\n",
       "      <td>842.2006</td>\n",
       "      <td>872.7900</td>\n",
       "      <td>22980206</td>\n",
       "    </tr>\n",
       "    <tr>\n",
       "      <th>2021-02-03 00:00:00-05:00</th>\n",
       "      <td>48.95</td>\n",
       "      <td>49.0883</td>\n",
       "      <td>48.67</td>\n",
       "      <td>48.76</td>\n",
       "      <td>9862001</td>\n",
       "      <td>877.0200</td>\n",
       "      <td>878.08</td>\n",
       "      <td>853.0646</td>\n",
       "      <td>854.7000</td>\n",
       "      <td>17541681</td>\n",
       "    </tr>\n",
       "    <tr>\n",
       "      <th>2021-02-04 00:00:00-05:00</th>\n",
       "      <td>48.96</td>\n",
       "      <td>49.0700</td>\n",
       "      <td>48.65</td>\n",
       "      <td>49.01</td>\n",
       "      <td>18374147</td>\n",
       "      <td>855.0000</td>\n",
       "      <td>856.50</td>\n",
       "      <td>833.4200</td>\n",
       "      <td>849.9900</td>\n",
       "      <td>15232160</td>\n",
       "    </tr>\n",
       "    <tr>\n",
       "      <th>2021-02-05 00:00:00-05:00</th>\n",
       "      <td>49.50</td>\n",
       "      <td>49.7800</td>\n",
       "      <td>49.27</td>\n",
       "      <td>49.64</td>\n",
       "      <td>11293895</td>\n",
       "      <td>845.0000</td>\n",
       "      <td>864.77</td>\n",
       "      <td>838.9700</td>\n",
       "      <td>852.6100</td>\n",
       "      <td>17486867</td>\n",
       "    </tr>\n",
       "    <tr>\n",
       "      <th>2021-02-08 00:00:00-05:00</th>\n",
       "      <td>49.96</td>\n",
       "      <td>50.1700</td>\n",
       "      <td>49.49</td>\n",
       "      <td>49.91</td>\n",
       "      <td>15997245</td>\n",
       "      <td>869.6700</td>\n",
       "      <td>877.77</td>\n",
       "      <td>854.7500</td>\n",
       "      <td>863.3000</td>\n",
       "      <td>18036775</td>\n",
       "    </tr>\n",
       "    <tr>\n",
       "      <th>2021-02-09 00:00:00-05:00</th>\n",
       "      <td>49.85</td>\n",
       "      <td>50.0200</td>\n",
       "      <td>49.63</td>\n",
       "      <td>49.68</td>\n",
       "      <td>12390185</td>\n",
       "      <td>855.1200</td>\n",
       "      <td>859.80</td>\n",
       "      <td>841.7500</td>\n",
       "      <td>849.2500</td>\n",
       "      <td>14637362</td>\n",
       "    </tr>\n",
       "    <tr>\n",
       "      <th>2021-02-10 00:00:00-05:00</th>\n",
       "      <td>50.41</td>\n",
       "      <td>50.5800</td>\n",
       "      <td>49.53</td>\n",
       "      <td>49.61</td>\n",
       "      <td>20995858</td>\n",
       "      <td>843.6350</td>\n",
       "      <td>844.82</td>\n",
       "      <td>800.0200</td>\n",
       "      <td>805.0000</td>\n",
       "      <td>35012591</td>\n",
       "    </tr>\n",
       "  </tbody>\n",
       "</table>\n",
       "</div>"
      ],
      "text/plain": [
       "                              KO                                       TSLA  \\\n",
       "                            open     high    low  close    volume      open   \n",
       "time                                                                          \n",
       "2021-01-28 00:00:00-05:00  48.69  49.5000  48.61  49.14  15172192  820.0000   \n",
       "2021-01-29 00:00:00-05:00  49.03  49.1200  48.11  48.13  13906984  830.0003   \n",
       "2021-02-01 00:00:00-05:00  48.27  48.6900  48.18  48.48  10687330  814.2900   \n",
       "2021-02-02 00:00:00-05:00  48.80  49.3500  48.63  48.95  11056505  844.6800   \n",
       "2021-02-03 00:00:00-05:00  48.95  49.0883  48.67  48.76   9862001  877.0200   \n",
       "2021-02-04 00:00:00-05:00  48.96  49.0700  48.65  49.01  18374147  855.0000   \n",
       "2021-02-05 00:00:00-05:00  49.50  49.7800  49.27  49.64  11293895  845.0000   \n",
       "2021-02-08 00:00:00-05:00  49.96  50.1700  49.49  49.91  15997245  869.6700   \n",
       "2021-02-09 00:00:00-05:00  49.85  50.0200  49.63  49.68  12390185  855.1200   \n",
       "2021-02-10 00:00:00-05:00  50.41  50.5800  49.53  49.61  20995858  843.6350   \n",
       "\n",
       "                                                                 \n",
       "                             high       low     close    volume  \n",
       "time                                                             \n",
       "2021-01-28 00:00:00-05:00  848.00  801.0000  835.4800  24222992  \n",
       "2021-01-29 00:00:00-05:00  842.41  782.2700  793.3110  20189293  \n",
       "2021-02-01 00:00:00-05:00  842.00  795.5601  840.0166  24005893  \n",
       "2021-02-02 00:00:00-05:00  880.50  842.2006  872.7900  22980206  \n",
       "2021-02-03 00:00:00-05:00  878.08  853.0646  854.7000  17541681  \n",
       "2021-02-04 00:00:00-05:00  856.50  833.4200  849.9900  15232160  \n",
       "2021-02-05 00:00:00-05:00  864.77  838.9700  852.6100  17486867  \n",
       "2021-02-08 00:00:00-05:00  877.77  854.7500  863.3000  18036775  \n",
       "2021-02-09 00:00:00-05:00  859.80  841.7500  849.2500  14637362  \n",
       "2021-02-10 00:00:00-05:00  844.82  800.0200  805.0000  35012591  "
      ]
     },
     "execution_count": 3,
     "metadata": {},
     "output_type": "execute_result"
    }
   ],
   "source": [
    "# Set the Tesla and Coca-Cola tickers\n",
    "ticker = [\"TSLA\",\"KO\"]\n",
    "\n",
    "# Set timeframe to '1D'\n",
    "timeframe = \"1D\"\n",
    "\n",
    "# Set start and end datetimes of 1 year, between now and 365 days ago.\n",
    "start_date = pd.Timestamp(\"2021-01-28\", tz=\"America/New_York\").isoformat()\n",
    "end_date = pd.Timestamp(\"2022-01-28\", tz=\"America/New_York\").isoformat()\n",
    "\n",
    "# Set limit_rows to 1000 to retreive the maximum amount of rows\n",
    "limit_rows = 1000\n",
    "\n",
    "# Get 1 year's worth of historical data for Tesla and Coca-Cola\n",
    "df_ticker = alpaca.get_barset(\n",
    "    ticker,\n",
    "    timeframe,\n",
    "    start = start_date,\n",
    "    end = end_date,\n",
    "    limit = limit_rows\n",
    ").df\n",
    "\n",
    "# Display sample data\n",
    "df_ticker.head(10)"
   ]
  },
  {
   "cell_type": "markdown",
   "metadata": {},
   "source": [
    "## Pick closing prices and compute the daily returns"
   ]
  },
  {
   "cell_type": "code",
   "execution_count": 19,
   "metadata": {},
   "outputs": [
    {
     "data": {
      "text/html": [
       "<div>\n",
       "<style scoped>\n",
       "    .dataframe tbody tr th:only-of-type {\n",
       "        vertical-align: middle;\n",
       "    }\n",
       "\n",
       "    .dataframe tbody tr th {\n",
       "        vertical-align: top;\n",
       "    }\n",
       "\n",
       "    .dataframe thead th {\n",
       "        text-align: right;\n",
       "    }\n",
       "</style>\n",
       "<table border=\"1\" class=\"dataframe\">\n",
       "  <thead>\n",
       "    <tr style=\"text-align: right;\">\n",
       "      <th></th>\n",
       "      <th>KO</th>\n",
       "      <th>TSLA</th>\n",
       "    </tr>\n",
       "  </thead>\n",
       "  <tbody>\n",
       "    <tr>\n",
       "      <th>2021-01-29</th>\n",
       "      <td>-0.020554</td>\n",
       "      <td>-0.050473</td>\n",
       "    </tr>\n",
       "    <tr>\n",
       "      <th>2021-02-01</th>\n",
       "      <td>0.007272</td>\n",
       "      <td>0.058874</td>\n",
       "    </tr>\n",
       "    <tr>\n",
       "      <th>2021-02-02</th>\n",
       "      <td>0.009695</td>\n",
       "      <td>0.039015</td>\n",
       "    </tr>\n",
       "    <tr>\n",
       "      <th>2021-02-03</th>\n",
       "      <td>-0.003882</td>\n",
       "      <td>-0.020727</td>\n",
       "    </tr>\n",
       "    <tr>\n",
       "      <th>2021-02-04</th>\n",
       "      <td>0.005127</td>\n",
       "      <td>-0.005511</td>\n",
       "    </tr>\n",
       "  </tbody>\n",
       "</table>\n",
       "</div>"
      ],
      "text/plain": [
       "                  KO      TSLA\n",
       "2021-01-29 -0.020554 -0.050473\n",
       "2021-02-01  0.007272  0.058874\n",
       "2021-02-02  0.009695  0.039015\n",
       "2021-02-03 -0.003882 -0.020727\n",
       "2021-02-04  0.005127 -0.005511"
      ]
     },
     "execution_count": 19,
     "metadata": {},
     "output_type": "execute_result"
    }
   ],
   "source": [
    "# Create and empty DataFrame for closing prices\n",
    "portfolio_df = pd.DataFrame()\n",
    "\n",
    "# Fetch the closing prices of KO and TSLA\n",
    "portfolio_df[\"KO\"] = df_ticker[\"KO\"][\"close\"]\n",
    "portfolio_df[\"TSLA\"] = df_ticker[\"TSLA\"][\"close\"]\n",
    "# Drop the time component of the date\n",
    "portfolio_df.index = portfolio_df.index.date\n",
    "\n",
    "# Compute daily returns\n",
    "daily_returns = portfolio_df.pct_change().dropna()\n",
    "\n",
    "# Display sample data\n",
    "daily_returns.head()"
   ]
  },
  {
   "cell_type": "code",
   "execution_count": 21,
   "metadata": {},
   "outputs": [
    {
     "data": {
      "text/html": [
       "<div>\n",
       "<style scoped>\n",
       "    .dataframe tbody tr th:only-of-type {\n",
       "        vertical-align: middle;\n",
       "    }\n",
       "\n",
       "    .dataframe tbody tr th {\n",
       "        vertical-align: top;\n",
       "    }\n",
       "\n",
       "    .dataframe thead th {\n",
       "        text-align: right;\n",
       "    }\n",
       "</style>\n",
       "<table border=\"1\" class=\"dataframe\">\n",
       "  <thead>\n",
       "    <tr style=\"text-align: right;\">\n",
       "      <th></th>\n",
       "      <th>KO</th>\n",
       "      <th>TSLA</th>\n",
       "    </tr>\n",
       "  </thead>\n",
       "  <tbody>\n",
       "    <tr>\n",
       "      <th>count</th>\n",
       "      <td>253.000000</td>\n",
       "      <td>253.000000</td>\n",
       "    </tr>\n",
       "    <tr>\n",
       "      <th>mean</th>\n",
       "      <td>0.000884</td>\n",
       "      <td>0.000685</td>\n",
       "    </tr>\n",
       "    <tr>\n",
       "      <th>std</th>\n",
       "      <td>0.008951</td>\n",
       "      <td>0.035905</td>\n",
       "    </tr>\n",
       "    <tr>\n",
       "      <th>min</th>\n",
       "      <td>-0.038849</td>\n",
       "      <td>-0.119735</td>\n",
       "    </tr>\n",
       "    <tr>\n",
       "      <th>25%</th>\n",
       "      <td>-0.003948</td>\n",
       "      <td>-0.019093</td>\n",
       "    </tr>\n",
       "    <tr>\n",
       "      <th>50%</th>\n",
       "      <td>0.000993</td>\n",
       "      <td>0.001376</td>\n",
       "    </tr>\n",
       "    <tr>\n",
       "      <th>75%</th>\n",
       "      <td>0.006096</td>\n",
       "      <td>0.018939</td>\n",
       "    </tr>\n",
       "    <tr>\n",
       "      <th>max</th>\n",
       "      <td>0.028345</td>\n",
       "      <td>0.196476</td>\n",
       "    </tr>\n",
       "  </tbody>\n",
       "</table>\n",
       "</div>"
      ],
      "text/plain": [
       "               KO        TSLA\n",
       "count  253.000000  253.000000\n",
       "mean     0.000884    0.000685\n",
       "std      0.008951    0.035905\n",
       "min     -0.038849   -0.119735\n",
       "25%     -0.003948   -0.019093\n",
       "50%      0.000993    0.001376\n",
       "75%      0.006096    0.018939\n",
       "max      0.028345    0.196476"
      ]
     },
     "execution_count": 21,
     "metadata": {},
     "output_type": "execute_result"
    }
   ],
   "source": [
    "# Generate descriptive statistics\n",
    "daily_returns.describe()"
   ]
  },
  {
   "cell_type": "markdown",
   "metadata": {},
   "source": [
    "### Plot Distributions"
   ]
  },
  {
   "cell_type": "code",
   "execution_count": 22,
   "metadata": {},
   "outputs": [
    {
     "data": {
      "text/plain": [
       "<AxesSubplot:>"
      ]
     },
     "execution_count": 22,
     "metadata": {},
     "output_type": "execute_result"
    },
    {
     "data": {
      "image/png": "[encoded data removed]",
      "text/plain": [
       "<Figure size 432x288 with 1 Axes>"
      ]
     },
     "metadata": {
      "needs_background": "light"
     },
     "output_type": "display_data"
    }
   ],
   "source": [
    "# Visualize distribution of Tesla percent change in closing price using a histogram plot\n",
    "daily_returns[\"TSLA\"].hist()"
   ]
  },
  {
   "cell_type": "code",
   "execution_count": 23,
   "metadata": {},
   "outputs": [
    {
     "data": {
      "text/plain": [
       "<AxesSubplot:>"
      ]
     },
     "execution_count": 23,
     "metadata": {},
     "output_type": "execute_result"
    },
    {
     "data": {
      "image/png": "[encoded data removed]",
      "text/plain": [
       "<Figure size 432x288 with 1 Axes>"
      ]
     },
     "metadata": {
      "needs_background": "light"
     },
     "output_type": "display_data"
    }
   ],
   "source": [
    "# Visualize distribution of Coca-Cola percent change in closing price using a histogram plot\n",
    "daily_returns[\"KO\"].hist()"
   ]
  },
  {
   "cell_type": "code",
   "execution_count": 25,
   "metadata": {},
   "outputs": [
    {
     "data": {
      "text/plain": [
       "<AxesSubplot:ylabel='Density'>"
      ]
     },
     "execution_count": 25,
     "metadata": {},
     "output_type": "execute_result"
    },
    {
     "data": {
      "image/png": "[encoded data removed]",
      "text/plain": [
       "<Figure size 432x288 with 1 Axes>"
      ]
     },
     "metadata": {
      "needs_background": "light"
     },
     "output_type": "display_data"
    }
   ],
   "source": [
    "# Visualize the distribution of percent change in closing price for both stocks using a density plot\n",
    "daily_returns.plot.density()"
   ]
  },
  {
   "cell_type": "code",
   "execution_count": null,
   "metadata": {},
   "outputs": [],
   "source": []
  }
 ],
 "metadata": {
  "kernel_info": {
   "name": "python3"
  },
  "kernelspec": {
   "display_name": "Python 3 (ipykernel)",
   "language": "python",
   "name": "python3"
  },
  "language_info": {
   "codemirror_mode": {
    "name": "ipython",
    "version": 3
   },
   "file_extension": ".py",
   "mimetype": "text/x-python",
   "name": "python",
   "nbconvert_exporter": "python",
   "pygments_lexer": "ipython3",
   "version": "3.7.11"
  },
  "nteract": {
   "version": "0.12.3"
  }
 },
 "nbformat": 4,
 "nbformat_minor": 4
}
