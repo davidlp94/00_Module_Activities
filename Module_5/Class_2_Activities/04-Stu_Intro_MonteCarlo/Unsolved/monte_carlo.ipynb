{
 "cells": [
  {
   "cell_type": "markdown",
   "metadata": {},
   "source": [
    "# Forecasting with MCForecast\n",
    "\n",
    "In this activity you will use the provided `MCForecastTools.py` module to forecast a portfolio's returns for one years worth of stock data from Home Depot and Disney.\n",
    "  - You will retrieve data using the Quandl API.\n",
    "  - You will then concatenate the dataframes for use with `MCSimulation`.\n",
    "  - Then you will use `calc_cumulative_return` to get the cumulative return for the year.\n",
    "  - After that you will plot the simulations, examine the distribution and review the summary statistics for the simulation.\n",
    "\n",
    ">**Hint**: The most authoritative documentation you can find is the source code itself. You will need to read through the `MCForecastTools.py` file to get an idea of how the module is working."
   ]
  },
  {
   "cell_type": "markdown",
   "metadata": {},
   "source": [
    "## 1. Import Modules"
   ]
  },
  {
   "cell_type": "code",
   "execution_count": 1,
   "metadata": {},
   "outputs": [],
   "source": [
    "# Import modules.\n",
    "import pandas as pd\n",
    "import numpy.random as rnd\n",
    "from dotenv import load_dotenv\n",
    "import requests\n",
    "import os\n",
    "import json\n",
    "from MCForecastTools import MCSimulation\n"
   ]
  },
  {
   "cell_type": "markdown",
   "metadata": {},
   "source": [
    "## 2. Load Environment Variables"
   ]
  },
  {
   "cell_type": "code",
   "execution_count": 2,
   "metadata": {},
   "outputs": [],
   "source": [
    "# Load .env enviroment variables into the notebook\n",
    "load_dotenv('../../../../.env')\n",
    "\n",
    "# Get the API key from the environment variable and store it as a python variable\n",
    "quandl_api_key = os.getenv('QUANDL_API_KEY_ENV')"
   ]
  },
  {
   "cell_type": "markdown",
   "metadata": {},
   "source": [
    "## 3. Get Data from Quandl\n",
    "  - Use the provided tickers and urls"
   ]
  },
  {
   "cell_type": "code",
   "execution_count": 3,
   "metadata": {},
   "outputs": [],
   "source": [
    "\n",
    "# Ticker symbols\n",
    "home_depot = \"HD\"\n",
    "disney = \"DIS\""
   ]
  },
  {
   "cell_type": "code",
   "execution_count": 4,
   "metadata": {},
   "outputs": [],
   "source": [
    "# Urls for Quandl\n",
    "url_hd = f\"https://www.quandl.com/api/v3/datasets/WIKI/{home_depot}.json?&api_key={quandl_api_key}\"\n",
    "\n",
    "url_dis = f\"https://www.quandl.com/api/v3/datasets/WIKI/{disney}.json?&api_key={quandl_api_key}\""
   ]
  },
  {
   "cell_type": "code",
   "execution_count": 5,
   "metadata": {},
   "outputs": [],
   "source": [
    "# Home Depot response\n",
    "hd_response = requests.get(url_hd).json()"
   ]
  },
  {
   "cell_type": "code",
   "execution_count": 29,
   "metadata": {},
   "outputs": [
    {
     "name": "stderr",
     "output_type": "stream",
     "text": [
      "IOPub data rate exceeded.\n",
      "The Jupyter server will temporarily stop sending output\n",
      "to the client in order to avoid crashing it.\n",
      "To change this limit, set the config variable\n",
      "`--ServerApp.iopub_data_rate_limit`.\n",
      "\n",
      "Current values:\n",
      "ServerApp.iopub_data_rate_limit=1000000.0 (bytes/sec)\n",
      "ServerApp.rate_limit_window=3.0 (secs)\n",
      "\n"
     ]
    }
   ],
   "source": [
    "# Disney response\n",
    "dis_response = requests.get(url_dis).json()\n",
    "print(json.dumps(dis_response, indent=4, sort_keys=True))"
   ]
  },
  {
   "cell_type": "markdown",
   "metadata": {},
   "source": [
    "## 4. Create a `pandas` `DataFrame`\n",
    "- Using the response json objects, get a list of the column names and create dataframes for each ticker.\n",
    "- Convert each dataframe's `Date` field to a `datetime` object and set `Date` as the index.\n",
    "  - Use `to_datetime` to convert a string into a datetime object.\n",
    "  - Use the `infer_datetime_format` parameter.\n",
    "- Filter each dataframe to only keep the `\"Open\", \"High\", \"Low\", \"Close\", \"Volume\"` columns.\n",
    "- The columns will then need to be renamed using all lowercase letters to work with `MCForecastTools`.\n",
    "- Create a dictionary to hold the Home Depot and Disney dataframes similar to the following:\n",
    "  ```\n",
    "  { \"ticker_name\": ticker_df , .... }\n",
    "  ```\n",
    "  `MCForecastTools` requires that the dataframe be multi-indexed.\n",
    "- Use the dictionary and `concat` from pandas to concentate the dataframes and return a multi-indexed dataframe.\n",
    "- Use the dictionary's `.value()` method for the data parameter into `concat`.\n",
    "- Set `axis = 1`.\n",
    "- Use the dictionary's `.keys()` method for the `keys` parameter in `concat`."
   ]
  },
  {
   "cell_type": "code",
   "execution_count": 7,
   "metadata": {},
   "outputs": [],
   "source": [
    "# Get list of column names\n",
    "# YOUR CODE HERE!"
   ]
  },
  {
   "cell_type": "code",
   "execution_count": 8,
   "metadata": {},
   "outputs": [],
   "source": [
    "# Create a dataframe from Home Depot the response.\n",
    "# YOUR CODE HERE!"
   ]
  },
  {
   "cell_type": "code",
   "execution_count": 9,
   "metadata": {},
   "outputs": [],
   "source": [
    "# Convert `Date` to datetime\n",
    "# YOUR CODE HERE!\n"
   ]
  },
  {
   "cell_type": "code",
   "execution_count": 10,
   "metadata": {},
   "outputs": [],
   "source": [
    "# Set index\n",
    "# YOUR CODE HERE!"
   ]
  },
  {
   "cell_type": "code",
   "execution_count": 11,
   "metadata": {},
   "outputs": [],
   "source": [
    "# Print Home Depot dataframe\n",
    "# YOUR CODE HERE!"
   ]
  },
  {
   "cell_type": "code",
   "execution_count": 12,
   "metadata": {},
   "outputs": [],
   "source": [
    "# Create a dataframe from the Disney response.\n",
    "# YOUR CODE HERE!"
   ]
  },
  {
   "cell_type": "code",
   "execution_count": 13,
   "metadata": {},
   "outputs": [],
   "source": [
    "# Convert `Date` to datetime\n",
    "# YOUR CODE HERE!\n"
   ]
  },
  {
   "cell_type": "code",
   "execution_count": 14,
   "metadata": {},
   "outputs": [],
   "source": [
    "# Set index\n",
    "# YOUR CODE HERE!"
   ]
  },
  {
   "cell_type": "code",
   "execution_count": 15,
   "metadata": {},
   "outputs": [],
   "source": [
    "# Print Disney dataframe\n",
    "# YOUR CODE HERE!"
   ]
  },
  {
   "cell_type": "code",
   "execution_count": 16,
   "metadata": {},
   "outputs": [],
   "source": [
    "# Take only the \"Open\", \"High\", \"Low\", \"Close\", \"Volume\" columns for each dataframe.\n",
    "# YOUR CODE HERE!"
   ]
  },
  {
   "cell_type": "code",
   "execution_count": 17,
   "metadata": {},
   "outputs": [],
   "source": [
    "# MCSimulation is case sensitive to column names.\n",
    "# Rename the columns to \"open\", \"high\", \"low\", \"close\", \"volume\"\n",
    "# YOUR CODE HERE!"
   ]
  },
  {
   "cell_type": "code",
   "execution_count": 18,
   "metadata": {},
   "outputs": [],
   "source": [
    "# Create a dictionary of the two dataframes\n",
    "# YOUR CODE HERE!"
   ]
  },
  {
   "cell_type": "code",
   "execution_count": 19,
   "metadata": {},
   "outputs": [],
   "source": [
    "# Use concat to create a merged dataframe from the dictionary\n",
    "# YOUR CODE HERE!\n"
   ]
  },
  {
   "cell_type": "code",
   "execution_count": 20,
   "metadata": {},
   "outputs": [],
   "source": [
    "# YOUR CODE HERE!\n"
   ]
  },
  {
   "cell_type": "markdown",
   "metadata": {},
   "source": [
    "## 5. Forecast with `MCSimulation`\n",
    "- Create an instance of `MCSimulation` with the following parameter values:\n",
    "  - `weights == [0.25,0.75]`\n",
    "  - `num_simulations == 500`\n",
    "  - `num_trading_days == 252`\n",
    "- Call the `calc_cumulative_return` method to run the number of simulations.\n",
    "- Call the `plot_simulation` method to plot the simulated returns.\n",
    "- Call `plot_distribution` to plot a histogram of the underlying distribution.\n",
    "- Call `summarize_cumulative_return` to display summary statistics for the simulated distribution."
   ]
  },
  {
   "cell_type": "code",
   "execution_count": 21,
   "metadata": {},
   "outputs": [],
   "source": [
    "# Create a simulation object\n",
    "# YOUR CODE HERE!\n"
   ]
  },
  {
   "cell_type": "code",
   "execution_count": 22,
   "metadata": {},
   "outputs": [],
   "source": [
    "# Review the simulation input data\n",
    "# YOUR CODE HERE!"
   ]
  },
  {
   "cell_type": "code",
   "execution_count": 23,
   "metadata": {},
   "outputs": [],
   "source": [
    "# Run the Monte Carlo simulation to forecast the cumulative returns\n",
    "# YOUR CODE HERE!"
   ]
  },
  {
   "cell_type": "code",
   "execution_count": 24,
   "metadata": {},
   "outputs": [],
   "source": [
    "# Visualize the simulation by creating an\n",
    "# overlay line plot\n",
    "# YOUR CODE HERE!"
   ]
  },
  {
   "cell_type": "code",
   "execution_count": 25,
   "metadata": {},
   "outputs": [],
   "source": [
    "# Visualize the probability distribution of the simulation\n",
    "# by plotting a histogram\n",
    "# YOUR CODE HERE!"
   ]
  },
  {
   "cell_type": "code",
   "execution_count": 26,
   "metadata": {},
   "outputs": [],
   "source": [
    "# Generate summary statistics from the simulation results\n",
    "# Save the results as a variable\n",
    "# YOUR CODE HERE!\n",
    "\n",
    "# Review the summary statistics\n",
    "# YOUR CODE HERE!\n"
   ]
  },
  {
   "cell_type": "code",
   "execution_count": null,
   "metadata": {},
   "outputs": [],
   "source": []
  }
 ],
 "metadata": {
  "kernelspec": {
   "display_name": "Python 3 (ipykernel)",
   "language": "python",
   "name": "python3"
  },
  "language_info": {
   "codemirror_mode": {
    "name": "ipython",
    "version": 3
   },
   "file_extension": ".py",
   "mimetype": "text/x-python",
   "name": "python",
   "nbconvert_exporter": "python",
   "pygments_lexer": "ipython3",
   "version": "3.7.11"
  }
 },
 "nbformat": 4,
 "nbformat_minor": 4
}
