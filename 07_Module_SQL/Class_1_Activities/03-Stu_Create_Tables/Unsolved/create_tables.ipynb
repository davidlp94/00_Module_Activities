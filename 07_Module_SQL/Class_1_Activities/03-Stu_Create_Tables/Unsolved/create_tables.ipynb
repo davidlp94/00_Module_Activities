{
 "cells": [
  {
   "cell_type": "markdown",
   "metadata": {},
   "source": [
    "# Create Tables \n",
    "\n",
    "In this activity, you will work with Python's SQLAlchemy library to create and view table data in various ways. \n",
    "\n",
    "## Instructions\n",
    "\n",
    "Complete the following steps:\n",
    "\n",
    "1. Import the SQLAlchemy module.\n",
    "\n",
    "2. Create a database connection string that imports the `mortgage_payments.db` from the Resources folder.\n",
    "\n",
    "3. Create a [database engine object](https://docs.sqlalchemy.org/en/14/core/engines.html) that utilizes the database connection string.\n",
    "\n",
    "4. Get the list of table names from the database engine that was just created. \n",
    "\n",
    "5. Create a new database connection string that creates a temporary, in-memory database.\n",
    "\n",
    "6. Create a new database engine object using the updated connection string.\n",
    "\n",
    "7. Read the `customers.csv` file from the Resources folder into a Pandas DataFrame called `customers_df`.\n",
    "\n",
    "8. Using the `to_sql` function, write the `customers_df` dataframe into the SQL database table named `customers`.\n",
    "\n",
    "9. Confirm that the the `customers` table was created.\n",
    "\n",
    "10. Using the `pd.read_sql_table` function, read the `customers` table back into a Pandas Dataframe called `sql_customers_df`.\n",
    "\n",
    "11. Create a new database connection string for an in-memory database and a new database engine. \n",
    "\n",
    "    > **Hint** You can copy and paste the code from steps 5 and 6. \n",
    "\n",
    "12. Write a SQL statement that creates a table called `customer_orders`. It should contain two columns of data: the `customer_id` and the `order_total`, both of which are defined by data type BIGINT.\n",
    "\n",
    "13. Run the execution statement that creates the table and then confirm that it was created by calling the table name.\n"
   ]
  },
  {
   "cell_type": "code",
   "execution_count": 1,
   "metadata": {},
   "outputs": [],
   "source": [
    "# Imports\n",
    "import pandas as pd\n",
    "from pathlib import Path"
   ]
  },
  {
   "cell_type": "markdown",
   "metadata": {},
   "source": [
    "## 1. Import the SQLAlchemy module."
   ]
  },
  {
   "cell_type": "code",
   "execution_count": 11,
   "metadata": {},
   "outputs": [],
   "source": [
    "# Import SQLAlchemy as sql\n",
    "import sqlalchemy\n"
   ]
  },
  {
   "cell_type": "markdown",
   "metadata": {},
   "source": [
    "## 2. Create a database connection string that imports the `mortgage_payments.db` from the Resources folder."
   ]
  },
  {
   "cell_type": "code",
   "execution_count": 18,
   "metadata": {},
   "outputs": [],
   "source": [
    "# Create a database connection string that links to the \n",
    "# mortgage_payments.db file located in the Resources folder.\n",
    "database_connection_string = 'sqlite:///../Resources/mortgage_payments.db'\n"
   ]
  },
  {
   "cell_type": "markdown",
   "metadata": {},
   "source": [
    "## 3. Create a database engine object that utilizes the database connection string."
   ]
  },
  {
   "cell_type": "code",
   "execution_count": 19,
   "metadata": {},
   "outputs": [
    {
     "data": {
      "text/plain": [
       "Engine(sqlite:///../Resources/mortgage_payments.db)"
      ]
     },
     "execution_count": 19,
     "metadata": {},
     "output_type": "execute_result"
    }
   ],
   "source": [
    "# Database connection object\n",
    "engine = sqlalchemy.create_engine(database_connection_string, echo=True)\n",
    "\n",
    "# Confirm the engine was created\n",
    "engine"
   ]
  },
  {
   "cell_type": "markdown",
   "metadata": {},
   "source": [
    "## 4. Get the list of table names from the database engine that was just created. "
   ]
  },
  {
   "cell_type": "code",
   "execution_count": 21,
   "metadata": {},
   "outputs": [
    {
     "name": "stdout",
     "output_type": "stream",
     "text": [
      "2022-02-10 18:53:51,784 INFO sqlalchemy.engine.Engine SELECT name FROM sqlite_master WHERE type='table' ORDER BY name\n",
      "2022-02-10 18:53:51,784 INFO sqlalchemy.engine.Engine [raw sql] ()\n"
     ]
    },
    {
     "name": "stderr",
     "output_type": "stream",
     "text": [
      "C:\\Users\\dlpst\\anaconda3\\envs\\dev\\envs\\dev\\lib\\site-packages\\ipykernel_launcher.py:2: SADeprecationWarning: The Engine.table_names() method is deprecated and will be removed in a future release.  Please refer to Inspector.get_table_names(). (deprecated since: 1.4)\n",
      "  \n"
     ]
    },
    {
     "data": {
      "text/plain": [
       "['mortgages', 'payments']"
      ]
     },
     "execution_count": 21,
     "metadata": {},
     "output_type": "execute_result"
    }
   ],
   "source": [
    "# Get table names from the database\n",
    "engine.table_names()\n"
   ]
  },
  {
   "cell_type": "markdown",
   "metadata": {},
   "source": [
    "## 5. Create a new database connection string that creates a temporary, in-memory database.\n"
   ]
  },
  {
   "cell_type": "code",
   "execution_count": 22,
   "metadata": {},
   "outputs": [],
   "source": [
    "# Create a database connection string that links an in-memory database\n",
    "database_connection_string = 'sqlite:///'\n"
   ]
  },
  {
   "cell_type": "markdown",
   "metadata": {},
   "source": [
    "## 6. Create a new database engine object using the updated connection string."
   ]
  },
  {
   "cell_type": "code",
   "execution_count": 23,
   "metadata": {},
   "outputs": [
    {
     "data": {
      "text/plain": [
       "Engine(sqlite:///)"
      ]
     },
     "execution_count": 23,
     "metadata": {},
     "output_type": "execute_result"
    }
   ],
   "source": [
    "# Database connection object\n",
    "engine = sqlalchemy.create_engine(database_connection_string, echo=True)\n",
    "\n",
    "# Confirm the engine was created\n",
    "engine"
   ]
  },
  {
   "cell_type": "markdown",
   "metadata": {},
   "source": [
    "## 7. Read the `customers.csv` file from the Resources folder into a Pandas DataFrame called `customers_df`."
   ]
  },
  {
   "cell_type": "code",
   "execution_count": 25,
   "metadata": {},
   "outputs": [
    {
     "data": {
      "text/html": [
       "<div>\n",
       "<style scoped>\n",
       "    .dataframe tbody tr th:only-of-type {\n",
       "        vertical-align: middle;\n",
       "    }\n",
       "\n",
       "    .dataframe tbody tr th {\n",
       "        vertical-align: top;\n",
       "    }\n",
       "\n",
       "    .dataframe thead th {\n",
       "        text-align: right;\n",
       "    }\n",
       "</style>\n",
       "<table border=\"1\" class=\"dataframe\">\n",
       "  <thead>\n",
       "    <tr style=\"text-align: right;\">\n",
       "      <th></th>\n",
       "      <th>customer_id</th>\n",
       "      <th>first_name</th>\n",
       "      <th>last_name</th>\n",
       "      <th>age</th>\n",
       "      <th>zip_code</th>\n",
       "      <th>mortgage_id</th>\n",
       "    </tr>\n",
       "  </thead>\n",
       "  <tbody>\n",
       "    <tr>\n",
       "      <th>0</th>\n",
       "      <td>0</td>\n",
       "      <td>David</td>\n",
       "      <td>Scott</td>\n",
       "      <td>74</td>\n",
       "      <td>31370</td>\n",
       "      <td>530180</td>\n",
       "    </tr>\n",
       "    <tr>\n",
       "      <th>1</th>\n",
       "      <td>1</td>\n",
       "      <td>Roy</td>\n",
       "      <td>Middleton</td>\n",
       "      <td>73</td>\n",
       "      <td>92023</td>\n",
       "      <td>625617</td>\n",
       "    </tr>\n",
       "    <tr>\n",
       "      <th>2</th>\n",
       "      <td>2</td>\n",
       "      <td>Shirley</td>\n",
       "      <td>Nelson</td>\n",
       "      <td>57</td>\n",
       "      <td>28670</td>\n",
       "      <td>588605</td>\n",
       "    </tr>\n",
       "    <tr>\n",
       "      <th>3</th>\n",
       "      <td>3</td>\n",
       "      <td>Rae</td>\n",
       "      <td>Bailey</td>\n",
       "      <td>29</td>\n",
       "      <td>74233</td>\n",
       "      <td>761909</td>\n",
       "    </tr>\n",
       "    <tr>\n",
       "      <th>4</th>\n",
       "      <td>4</td>\n",
       "      <td>Catherine</td>\n",
       "      <td>Carroll</td>\n",
       "      <td>50</td>\n",
       "      <td>90451</td>\n",
       "      <td>613158</td>\n",
       "    </tr>\n",
       "  </tbody>\n",
       "</table>\n",
       "</div>"
      ],
      "text/plain": [
       "   customer_id first_name  last_name  age  zip_code  mortgage_id\n",
       "0            0      David      Scott   74     31370       530180\n",
       "1            1        Roy  Middleton   73     92023       625617\n",
       "2            2    Shirley     Nelson   57     28670       588605\n",
       "3            3        Rae     Bailey   29     74233       761909\n",
       "4            4  Catherine    Carroll   50     90451       613158"
      ]
     },
     "execution_count": 25,
     "metadata": {},
     "output_type": "execute_result"
    }
   ],
   "source": [
    "# Read the customers.csv file in from the Resources folder into a Pandas Dataframe\n",
    "customers_df = pd.read_csv(Path('../Resources/customers.csv'))\n",
    "\n",
    "\n",
    "# Review the DataFrame\n",
    "customers_df.head()\n"
   ]
  },
  {
   "cell_type": "markdown",
   "metadata": {},
   "source": [
    "## 8. Using the `to_sql` function, write the `customers_df` dataframe into the SQL database table named `customers`.\n"
   ]
  },
  {
   "cell_type": "code",
   "execution_count": 26,
   "metadata": {},
   "outputs": [
    {
     "name": "stdout",
     "output_type": "stream",
     "text": [
      "2022-02-10 19:09:43,803 INFO sqlalchemy.engine.Engine PRAGMA main.table_info(\"customers\")\n",
      "2022-02-10 19:09:43,804 INFO sqlalchemy.engine.Engine [raw sql] ()\n",
      "2022-02-10 19:09:43,805 INFO sqlalchemy.engine.Engine PRAGMA temp.table_info(\"customers\")\n",
      "2022-02-10 19:09:43,806 INFO sqlalchemy.engine.Engine [raw sql] ()\n",
      "2022-02-10 19:09:43,817 INFO sqlalchemy.engine.Engine BEGIN (implicit)\n",
      "2022-02-10 19:09:43,818 INFO sqlalchemy.engine.Engine \n",
      "CREATE TABLE customers (\n",
      "\t\"index\" BIGINT, \n",
      "\tcustomer_id BIGINT, \n",
      "\tfirst_name TEXT, \n",
      "\tlast_name TEXT, \n",
      "\tage BIGINT, \n",
      "\tzip_code BIGINT, \n",
      "\tmortgage_id BIGINT\n",
      ")\n",
      "\n",
      "\n",
      "2022-02-10 19:09:43,818 INFO sqlalchemy.engine.Engine [no key 0.00045s] ()\n",
      "2022-02-10 19:09:43,819 INFO sqlalchemy.engine.Engine CREATE INDEX ix_customers_index ON customers (\"index\")\n",
      "2022-02-10 19:09:43,819 INFO sqlalchemy.engine.Engine [no key 0.00031s] ()\n",
      "2022-02-10 19:09:43,820 INFO sqlalchemy.engine.Engine COMMIT\n",
      "2022-02-10 19:09:43,823 INFO sqlalchemy.engine.Engine BEGIN (implicit)\n",
      "2022-02-10 19:09:43,831 INFO sqlalchemy.engine.Engine INSERT INTO customers (\"index\", customer_id, first_name, last_name, age, zip_code, mortgage_id) VALUES (?, ?, ?, ?, ?, ?, ?)\n",
      "2022-02-10 19:09:43,832 INFO sqlalchemy.engine.Engine [generated in 0.00710s] ((0, 0, 'David', 'Scott', 74, 31370, 530180), (1, 1, 'Roy', 'Middleton', 73, 92023, 625617), (2, 2, 'Shirley', 'Nelson', 57, 28670, 588605), (3, 3, 'Rae', 'Bailey', 29, 74233, 761909), (4, 4, 'Catherine', 'Carroll', 50, 90451, 613158), (5, 5, 'Lisa', 'Kinser', 52, 65276, 599020), (6, 6, 'Doretha', 'Whapham', 50, 43976, 658614), (7, 7, 'Mark', 'Jefferson', 62, 76674, 749110)  ... displaying 10 of 1000 total bound parameter sets ...  (998, 998, 'Johnny', 'Skalicky', 26, 24490, 598986), (999, 999, 'Lloyd', 'Harrison', 28, 29220, 969854))\n",
      "2022-02-10 19:09:43,835 INFO sqlalchemy.engine.Engine COMMIT\n"
     ]
    }
   ],
   "source": [
    "# Use the to_sql function to create a table called customers in the database\n",
    "customers_df.to_sql('customers', engine)\n"
   ]
  },
  {
   "cell_type": "markdown",
   "metadata": {},
   "source": [
    "## 9. Confirm that the the `customers` table was created."
   ]
  },
  {
   "cell_type": "code",
   "execution_count": 27,
   "metadata": {},
   "outputs": [
    {
     "name": "stdout",
     "output_type": "stream",
     "text": [
      "2022-02-10 19:10:07,908 INFO sqlalchemy.engine.Engine SELECT name FROM sqlite_master WHERE type='table' ORDER BY name\n",
      "2022-02-10 19:10:07,908 INFO sqlalchemy.engine.Engine [raw sql] ()\n"
     ]
    },
    {
     "name": "stderr",
     "output_type": "stream",
     "text": [
      "C:\\Users\\dlpst\\anaconda3\\envs\\dev\\envs\\dev\\lib\\site-packages\\ipykernel_launcher.py:2: SADeprecationWarning: The Engine.table_names() method is deprecated and will be removed in a future release.  Please refer to Inspector.get_table_names(). (deprecated since: 1.4)\n",
      "  \n"
     ]
    },
    {
     "data": {
      "text/plain": [
       "['customers']"
      ]
     },
     "execution_count": 27,
     "metadata": {},
     "output_type": "execute_result"
    }
   ],
   "source": [
    "# Confirm table creation\n",
    "engine.table_names()\n"
   ]
  },
  {
   "cell_type": "markdown",
   "metadata": {},
   "source": [
    "## 10. Using the `pd.read_sql_table` function, read the `customers` table back into a Pandas Dataframe called `sql_customers_df`."
   ]
  },
  {
   "cell_type": "code",
   "execution_count": 28,
   "metadata": {},
   "outputs": [
    {
     "name": "stdout",
     "output_type": "stream",
     "text": [
      "2022-02-10 19:11:10,861 INFO sqlalchemy.engine.Engine SELECT name FROM sqlite_master WHERE type='table' ORDER BY name\n",
      "2022-02-10 19:11:10,862 INFO sqlalchemy.engine.Engine [raw sql] ()\n",
      "2022-02-10 19:11:10,863 INFO sqlalchemy.engine.Engine SELECT name FROM sqlite_master WHERE type='view' ORDER BY name\n",
      "2022-02-10 19:11:10,863 INFO sqlalchemy.engine.Engine [raw sql] ()\n",
      "2022-02-10 19:11:10,864 INFO sqlalchemy.engine.Engine PRAGMA main.table_xinfo(\"customers\")\n",
      "2022-02-10 19:11:10,865 INFO sqlalchemy.engine.Engine [raw sql] ()\n",
      "2022-02-10 19:11:10,867 INFO sqlalchemy.engine.Engine SELECT sql FROM  (SELECT * FROM sqlite_master UNION ALL   SELECT * FROM sqlite_temp_master) WHERE name = ? AND type = 'table'\n",
      "2022-02-10 19:11:10,867 INFO sqlalchemy.engine.Engine [raw sql] ('customers',)\n",
      "2022-02-10 19:11:10,868 INFO sqlalchemy.engine.Engine PRAGMA main.foreign_key_list(\"customers\")\n",
      "2022-02-10 19:11:10,869 INFO sqlalchemy.engine.Engine [raw sql] ()\n",
      "2022-02-10 19:11:10,870 INFO sqlalchemy.engine.Engine PRAGMA temp.foreign_key_list(\"customers\")\n",
      "2022-02-10 19:11:10,870 INFO sqlalchemy.engine.Engine [raw sql] ()\n",
      "2022-02-10 19:11:10,871 INFO sqlalchemy.engine.Engine SELECT sql FROM  (SELECT * FROM sqlite_master UNION ALL   SELECT * FROM sqlite_temp_master) WHERE name = ? AND type = 'table'\n",
      "2022-02-10 19:11:10,871 INFO sqlalchemy.engine.Engine [raw sql] ('customers',)\n",
      "2022-02-10 19:11:10,874 INFO sqlalchemy.engine.Engine PRAGMA main.index_list(\"customers\")\n",
      "2022-02-10 19:11:10,874 INFO sqlalchemy.engine.Engine [raw sql] ()\n",
      "2022-02-10 19:11:10,875 INFO sqlalchemy.engine.Engine PRAGMA main.index_info(\"ix_customers_index\")\n",
      "2022-02-10 19:11:10,875 INFO sqlalchemy.engine.Engine [raw sql] ()\n",
      "2022-02-10 19:11:10,876 INFO sqlalchemy.engine.Engine PRAGMA main.index_list(\"customers\")\n",
      "2022-02-10 19:11:10,877 INFO sqlalchemy.engine.Engine [raw sql] ()\n",
      "2022-02-10 19:11:10,877 INFO sqlalchemy.engine.Engine PRAGMA main.index_info(\"ix_customers_index\")\n",
      "2022-02-10 19:11:10,877 INFO sqlalchemy.engine.Engine [raw sql] ()\n",
      "2022-02-10 19:11:10,879 INFO sqlalchemy.engine.Engine SELECT sql FROM  (SELECT * FROM sqlite_master UNION ALL   SELECT * FROM sqlite_temp_master) WHERE name = ? AND type = 'table'\n",
      "2022-02-10 19:11:10,879 INFO sqlalchemy.engine.Engine [raw sql] ('customers',)\n",
      "2022-02-10 19:11:10,881 INFO sqlalchemy.engine.Engine SELECT customers.\"index\", customers.customer_id, customers.first_name, customers.last_name, customers.age, customers.zip_code, customers.mortgage_id \n",
      "FROM customers\n",
      "2022-02-10 19:11:10,883 INFO sqlalchemy.engine.Engine [generated in 0.00046s] ()\n"
     ]
    },
    {
     "data": {
      "text/html": [
       "<div>\n",
       "<style scoped>\n",
       "    .dataframe tbody tr th:only-of-type {\n",
       "        vertical-align: middle;\n",
       "    }\n",
       "\n",
       "    .dataframe tbody tr th {\n",
       "        vertical-align: top;\n",
       "    }\n",
       "\n",
       "    .dataframe thead th {\n",
       "        text-align: right;\n",
       "    }\n",
       "</style>\n",
       "<table border=\"1\" class=\"dataframe\">\n",
       "  <thead>\n",
       "    <tr style=\"text-align: right;\">\n",
       "      <th></th>\n",
       "      <th>index</th>\n",
       "      <th>customer_id</th>\n",
       "      <th>first_name</th>\n",
       "      <th>last_name</th>\n",
       "      <th>age</th>\n",
       "      <th>zip_code</th>\n",
       "      <th>mortgage_id</th>\n",
       "    </tr>\n",
       "  </thead>\n",
       "  <tbody>\n",
       "    <tr>\n",
       "      <th>0</th>\n",
       "      <td>0</td>\n",
       "      <td>0</td>\n",
       "      <td>David</td>\n",
       "      <td>Scott</td>\n",
       "      <td>74</td>\n",
       "      <td>31370</td>\n",
       "      <td>530180</td>\n",
       "    </tr>\n",
       "    <tr>\n",
       "      <th>1</th>\n",
       "      <td>1</td>\n",
       "      <td>1</td>\n",
       "      <td>Roy</td>\n",
       "      <td>Middleton</td>\n",
       "      <td>73</td>\n",
       "      <td>92023</td>\n",
       "      <td>625617</td>\n",
       "    </tr>\n",
       "    <tr>\n",
       "      <th>2</th>\n",
       "      <td>2</td>\n",
       "      <td>2</td>\n",
       "      <td>Shirley</td>\n",
       "      <td>Nelson</td>\n",
       "      <td>57</td>\n",
       "      <td>28670</td>\n",
       "      <td>588605</td>\n",
       "    </tr>\n",
       "    <tr>\n",
       "      <th>3</th>\n",
       "      <td>3</td>\n",
       "      <td>3</td>\n",
       "      <td>Rae</td>\n",
       "      <td>Bailey</td>\n",
       "      <td>29</td>\n",
       "      <td>74233</td>\n",
       "      <td>761909</td>\n",
       "    </tr>\n",
       "    <tr>\n",
       "      <th>4</th>\n",
       "      <td>4</td>\n",
       "      <td>4</td>\n",
       "      <td>Catherine</td>\n",
       "      <td>Carroll</td>\n",
       "      <td>50</td>\n",
       "      <td>90451</td>\n",
       "      <td>613158</td>\n",
       "    </tr>\n",
       "  </tbody>\n",
       "</table>\n",
       "</div>"
      ],
      "text/plain": [
       "   index  customer_id first_name  last_name  age  zip_code  mortgage_id\n",
       "0      0            0      David      Scott   74     31370       530180\n",
       "1      1            1        Roy  Middleton   73     92023       625617\n",
       "2      2            2    Shirley     Nelson   57     28670       588605\n",
       "3      3            3        Rae     Bailey   29     74233       761909\n",
       "4      4            4  Catherine    Carroll   50     90451       613158"
      ]
     },
     "execution_count": 28,
     "metadata": {},
     "output_type": "execute_result"
    }
   ],
   "source": [
    "# Create a DataFrame called `sql_customers_df` by reading in the `customers` table.\n",
    "sql_customers_df = pd.read_sql_table('customers', con=engine)\n",
    "\n",
    "# Review the Dataframe\n",
    "sql_customers_df.head()\n"
   ]
  },
  {
   "cell_type": "markdown",
   "metadata": {},
   "source": [
    "## 11. Create a new database connection string for an in-memory database and a new database engine. \n",
    "\n",
    "> **Hint** You can copy and paste the code from steps 5 and 6. "
   ]
  },
  {
   "cell_type": "code",
   "execution_count": 29,
   "metadata": {},
   "outputs": [],
   "source": [
    " # Create a database connection string that links a simple in-memory database\n",
    "database_connection_string = 'sqlite:///'\n",
    "\n",
    "# Database connection object\n",
    "engine = sqlalchemy.create_engine(database_connection_string)\n"
   ]
  },
  {
   "cell_type": "markdown",
   "metadata": {},
   "source": [
    "## 12. Write a SQL statement that creates a table called `customer_orders`. It should contain two columns of data: the `customer_id` and the `order_total`, both of which are defined by data type BIGINT."
   ]
  },
  {
   "cell_type": "code",
   "execution_count": 30,
   "metadata": {},
   "outputs": [],
   "source": [
    "# Create a table with SQL syntax\n",
    "sql_create_table = \"\"\"\n",
    "CREATE TABLE customer_orders (\n",
    "    \"customer_id\" BIGINT,\n",
    "    \"order_total\" BIGINT\n",
    ")\n",
    "\"\"\"\n",
    "\n"
   ]
  },
  {
   "cell_type": "markdown",
   "metadata": {},
   "source": [
    "## 13. Run the execution statement that creates the table and then confirm that it was created by calling the table name."
   ]
  },
  {
   "cell_type": "code",
   "execution_count": 31,
   "metadata": {},
   "outputs": [],
   "source": [
    "# Run the execution statement that creates the table\n",
    "result = engine.execute(sql_create_table)\n"
   ]
  },
  {
   "cell_type": "code",
   "execution_count": 34,
   "metadata": {},
   "outputs": [
    {
     "name": "stderr",
     "output_type": "stream",
     "text": [
      "C:\\Users\\dlpst\\anaconda3\\envs\\dev\\envs\\dev\\lib\\site-packages\\ipykernel_launcher.py:2: SADeprecationWarning: The Engine.table_names() method is deprecated and will be removed in a future release.  Please refer to Inspector.get_table_names(). (deprecated since: 1.4)\n",
      "  \n"
     ]
    },
    {
     "data": {
      "text/plain": [
       "['customer_orders']"
      ]
     },
     "execution_count": 34,
     "metadata": {},
     "output_type": "execute_result"
    }
   ],
   "source": [
    "# Confirm that the table was created\n",
    "engine.table_names()\n"
   ]
  },
  {
   "cell_type": "code",
   "execution_count": null,
   "metadata": {},
   "outputs": [],
   "source": []
  }
 ],
 "metadata": {
  "kernelspec": {
   "display_name": "dev",
   "language": "python",
   "name": "dev"
  },
  "language_info": {
   "codemirror_mode": {
    "name": "ipython",
    "version": 3
   },
   "file_extension": ".py",
   "mimetype": "text/x-python",
   "name": "python",
   "nbconvert_exporter": "python",
   "pygments_lexer": "ipython3",
   "version": "3.7.11"
  },
  "nteract": {
   "version": "0.28.0"
  }
 },
 "nbformat": 4,
 "nbformat_minor": 4
}
